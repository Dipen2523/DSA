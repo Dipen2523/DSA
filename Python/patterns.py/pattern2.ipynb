{
 "cells": [
  {
   "cell_type": "code",
   "execution_count": 12,
   "metadata": {},
   "outputs": [
    {
     "name": "stdout",
     "output_type": "stream",
     "text": [
      "*     \n",
      " *    \n",
      "  *   \n",
      "   *  \n",
      "    * \n",
      "None\n"
     ]
    }
   ],
   "source": [
    "# diagonalright\n",
    "n=int(input(\"Enter a number to print :\"))\n",
    "def diagonalright(n):\n",
    "    n=n|1\n",
    "    for i in range(n):\n",
    "        for j in range(n):\n",
    "            if i-j==0:\n",
    "                print('*',sep=' ',end = ' ')\n",
    "            else:\n",
    "                print(end=' ')    \n",
    "        print()    \n",
    "print(diagonalright(n))          \n",
    "        \n"
   ]
  },
  {
   "cell_type": "code",
   "execution_count": 2,
   "metadata": {},
   "outputs": [
    {
     "name": "stdout",
     "output_type": "stream",
     "text": [
      "    * \n",
      "   *  \n",
      "  *   \n",
      " *    \n",
      "*     \n"
     ]
    }
   ],
   "source": [
    "#diagonal left\n",
    "n=int(input(\"Enter a number to print :\"))\n",
    "def antidiagonal(n):\n",
    "    n=n|1\n",
    "    for i in range(n):\n",
    "        for j in range (n):\n",
    "            if i+j==n-1:\n",
    "                print('*',sep=' ',end=' ')\n",
    "            else:\n",
    "                print(end=' ')\n",
    "        print()\n",
    "(antidiagonal(n))                    "
   ]
  },
  {
   "cell_type": "code",
   "execution_count": 5,
   "metadata": {},
   "outputs": [
    {
     "name": "stdout",
     "output_type": "stream",
     "text": [
      "*          * \n",
      " *        *  \n",
      "  *      *   \n",
      "   *    *    \n",
      "    *  *     \n",
      "     *      \n",
      "    *  *     \n",
      "   *    *    \n",
      "  *      *   \n",
      " *        *  \n",
      "*          * \n"
     ]
    }
   ],
   "source": [
    "#print X\n",
    "n=int(input(\"Enter a number to print :\"))\n",
    "def antidiagonal(n):\n",
    "    n=n|1\n",
    "    for i in range(n):\n",
    "        for j in range (n):\n",
    "            if i-j==0 or i+j==n-1:\n",
    "                print('*',sep=' ',end=' ')\n",
    "            else:\n",
    "                print(end=' ')\n",
    "        print()\n",
    "(antidiagonal(n))\n"
   ]
  },
  {
   "cell_type": "code",
   "execution_count": 7,
   "metadata": {},
   "outputs": [
    {
     "name": "stdout",
     "output_type": "stream",
     "text": [
      "* * * * * \n",
      "  * * * * \n",
      "    * * * \n",
      "      * * \n",
      "        * \n"
     ]
    }
   ],
   "source": [
    "#upper right triangle\n",
    "n=int(input(\"Enter a number to print :\"))\n",
    "def antidiagonal(n):\n",
    "    n=n|1\n",
    "    for i in range(n):\n",
    "        for j in range (n):\n",
    "            if i-j<=0:\n",
    "                print('*',sep=' ',end=' ')\n",
    "            else:\n",
    "                print(end='  ')\n",
    "        print()\n",
    "(antidiagonal(n))\n"
   ]
  },
  {
   "cell_type": "code",
   "execution_count": 8,
   "metadata": {},
   "outputs": [
    {
     "name": "stdout",
     "output_type": "stream",
     "text": [
      "*     \n",
      "* *    \n",
      "* * *   \n",
      "* * * *  \n",
      "* * * * * \n"
     ]
    }
   ],
   "source": [
    "#lower left triangle\n",
    "n=int(input(\"Enter a number to print :\"))\n",
    "def antidiagonal(n):\n",
    "    n=n|1\n",
    "    for i in range(n):\n",
    "        for j in range (n):\n",
    "            if i-j>=0:\n",
    "                print('*',sep=' ',end=' ')\n",
    "            else:\n",
    "                print(end=' ')\n",
    "        print()\n",
    "(antidiagonal(n))\n"
   ]
  },
  {
   "cell_type": "code",
   "execution_count": 34,
   "metadata": {},
   "outputs": [
    {
     "name": "stdout",
     "output_type": "stream",
     "text": [
      "  * * * * * * * * * * \n",
      "*   * * * * * * * * * \n",
      "* *   * * * * * * * * \n",
      "* * *   * * * * * * * \n",
      "* * * *   * * * * * * \n",
      "* * * * *   * * * * * \n",
      "* * * * * *   * * * * \n",
      "* * * * * * *   * * * \n",
      "* * * * * * * *   * * \n",
      "* * * * * * * * *   * \n",
      "* * * * * * * * * *   \n"
     ]
    }
   ],
   "source": [
    "n=int(input(\"Enter a number to print :\"))\n",
    "def antidiagonal(n):\n",
    "    n=n|1\n",
    "    for i in range(n):\n",
    "        for j in range (n):\n",
    "            if i-j<0 or i-j>0:\n",
    "                print('*',sep=' ',end=' ')\n",
    "            else:\n",
    "                print(end='  ')\n",
    "        print()\n",
    "(antidiagonal(n))\n"
   ]
  },
  {
   "cell_type": "code",
   "execution_count": 13,
   "metadata": {},
   "outputs": [
    {
     "name": "stdout",
     "output_type": "stream",
     "text": [
      "        * \n",
      "      * * \n",
      "    * * * \n",
      "  * * * * \n",
      "* * * * * \n"
     ]
    }
   ],
   "source": [
    "#lower right triangle\n",
    "n=int(input(\"Enter a number to print :\"))\n",
    "def antidiagonal(n):\n",
    "    n=n|1\n",
    "    for i in range(n):\n",
    "        for j in range (n):\n",
    "            if i+j>=n-1:\n",
    "                print('*',sep=' ',end=' ')\n",
    "            else:\n",
    "                print(end='  ')\n",
    "        print()\n",
    "(antidiagonal(n))\n"
   ]
  },
  {
   "cell_type": "code",
   "execution_count": 14,
   "metadata": {},
   "outputs": [
    {
     "name": "stdout",
     "output_type": "stream",
     "text": [
      "* * * * * \n",
      "* * * *  \n",
      "* * *   \n",
      "* *    \n",
      "*     \n"
     ]
    }
   ],
   "source": [
    "#upper left triangle \n",
    "n=int(input(\"Enter a number to print :\"))\n",
    "def antidiagonal(n):\n",
    "    n=n|1\n",
    "    for i in range(n):\n",
    "        for j in range (n):\n",
    "            if i+j<=n-1:\n",
    "                print('*',sep=' ',end=' ')\n",
    "            else:\n",
    "                print(end=' ')\n",
    "        print()\n",
    "(antidiagonal(n))\n"
   ]
  },
  {
   "cell_type": "code",
   "execution_count": 15,
   "metadata": {},
   "outputs": [
    {
     "name": "stdout",
     "output_type": "stream",
     "text": [
      "* * * *  \n",
      "* * *  * \n",
      "* *  * * \n",
      "*  * * * \n",
      " * * * * \n"
     ]
    }
   ],
   "source": [
    "n=int(input(\"Enter a number to print :\"))\n",
    "def antidiagonal(n):\n",
    "    n=n|1\n",
    "    for i in range(n):\n",
    "        for j in range (n):\n",
    "            if i+j<n-1 or i+j>n-1:\n",
    "                print('*',sep=' ',end=' ')\n",
    "            else:\n",
    "                print(end=' ')\n",
    "        print()\n",
    "(antidiagonal(n))\n"
   ]
  },
  {
   "cell_type": "code",
   "execution_count": 19,
   "metadata": {},
   "outputs": [
    {
     "name": "stdout",
     "output_type": "stream",
     "text": [
      "*         \n",
      "* *       \n",
      "*   *     \n",
      "*     *   \n",
      "* * * * * \n"
     ]
    }
   ],
   "source": [
    "n=int(input(\"Enter a number to print :\"))\n",
    "def antidiagonal(n):\n",
    "    n=n|1\n",
    "    for i in range(n):\n",
    "        for j in range (n):\n",
    "            if j==0 or i==(n-1) or i-j==0:\n",
    "                print('*',sep=' ',end=' ')\n",
    "            else:\n",
    "                print(end='  ')\n",
    "        print()\n",
    "(antidiagonal(n))\n"
   ]
  },
  {
   "cell_type": "code",
   "execution_count": 26,
   "metadata": {},
   "outputs": [
    {
     "name": "stdout",
     "output_type": "stream",
     "text": [
      "* * * * * \n",
      "  *     * \n",
      "    *   * \n",
      "      * * \n",
      "        * \n"
     ]
    }
   ],
   "source": [
    "n=int(input(\"Enter a number to print :\"))\n",
    "def antidiagonal(n):\n",
    "    n=n|1\n",
    "    for i in range(n):\n",
    "        for j in range (n):\n",
    "            if i==0 or j==(n-1) or i-j==0: \n",
    "                print('*',sep=' ',end=' ')\n",
    "            else:\n",
    "                print(end='  ')\n",
    "        print()\n",
    "(antidiagonal(n))\n"
   ]
  },
  {
   "cell_type": "code",
   "execution_count": 30,
   "metadata": {},
   "outputs": [
    {
     "name": "stdout",
     "output_type": "stream",
     "text": [
      "* * * * * * * * * * * \n",
      "* *               * * \n",
      "*   *           *   * \n",
      "*     *       *     * \n",
      "*       *   *       * \n",
      "*         *         * \n",
      "*       *   *       * \n",
      "*     *       *     * \n",
      "*   *           *   * \n",
      "* *               * * \n",
      "* * * * * * * * * * * \n"
     ]
    }
   ],
   "source": [
    "n=int(input(\"Enter a number to print :\"))\n",
    "def antidiagonal(n):\n",
    "    n=n|1\n",
    "    for i in range(n):\n",
    "        for j in range (n):\n",
    "            if i==0 or i==(n-1) or j==0 or j==(n-1) or i-j==0 or i+j==n-1:\n",
    "                print('*',sep=' ',end=' ')\n",
    "            else:\n",
    "                print(end='  ')\n",
    "        print()\n",
    "(antidiagonal(n))\n"
   ]
  },
  {
   "cell_type": "code",
   "execution_count": 31,
   "metadata": {},
   "outputs": [
    {
     "name": "stdout",
     "output_type": "stream",
     "text": [
      "0    0 \n",
      " 1  1  \n",
      "  2   \n",
      " 3  3  \n",
      "4    4 \n"
     ]
    }
   ],
   "source": [
    "n=int(input(\"Enter a number to print :\"))\n",
    "def antidiagonal(n):\n",
    "    n=n|1\n",
    "    for i in range(n):\n",
    "        for j in range (n):\n",
    "            if i-j==0 or i+j==n-1:\n",
    "                print(i,sep=' ',end=' ')\n",
    "            else:\n",
    "                print(end=' ')\n",
    "        print()\n",
    "(antidiagonal(n))\n"
   ]
  },
  {
   "cell_type": "code",
   "execution_count": 35,
   "metadata": {},
   "outputs": [
    {
     "name": "stdout",
     "output_type": "stream",
     "text": [
      "* * * * * * * * * * * \n",
      "* *       *       * * \n",
      "*   *     *     *   * \n",
      "*     *   *   *     * \n",
      "*       * * *       * \n",
      "* * * * * * * * * * * \n",
      "*       * * *       * \n",
      "*     *   *   *     * \n",
      "*   *     *     *   * \n",
      "* *       *       * * \n",
      "* * * * * * * * * * * \n"
     ]
    }
   ],
   "source": [
    "n=int(input(\"Enter a number to print :\"))\n",
    "def antidiagonal(n):\n",
    "    n=n|1\n",
    "    for i in range(n):\n",
    "        for j in range (n):\n",
    "            if i==0 or i==(n-1) or j==0 or j==(n-1) or i-j==0 or i+j==n-1 or i==n//2 or j==n//2:\n",
    "                print('*',sep=' ',end=' ')\n",
    "            else:\n",
    "                print(end='  ')\n",
    "        print()\n",
    "(antidiagonal(n))"
   ]
  },
  {
   "cell_type": "code",
   "execution_count": 70,
   "metadata": {},
   "outputs": [
    {
     "name": "stdout",
     "output_type": "stream",
     "text": [
      "* * * * * * * * * * * * * * * * * * * * * \n",
      "* *       *       * * *       *       * * \n",
      "*   *     *     *   *   *     *     *   * \n",
      "*     *   *   *     *     *   *   *     * \n",
      "*       * * *       *       * * *       * \n",
      "* * * * * * * * * * * * * * * * * * * * * \n",
      "*       * * *       *       * * *       * \n",
      "*     *   *   *     *     *   *   *     * \n",
      "*   *     *     *   *   *     *     *   * \n",
      "* *       *       * * *       *       * * \n",
      "* * * * * * * * * * * * * * * * * * * * * \n",
      "* *       *       * * *       *       * * \n",
      "*   *     *     *   *   *     *     *   * \n",
      "*     *   *   *     *     *   *   *     * \n",
      "*       * * *       *       * * *       * \n",
      "* * * * * * * * * * * * * * * * * * * * * \n",
      "*       * * *       *       * * *       * \n",
      "*     *   *   *     *     *   *   *     * \n",
      "*   *     *     *   *   *     *     *   * \n",
      "* *       *       * * *       *       * * \n",
      "* * * * * * * * * * * * * * * * * * * * * \n"
     ]
    }
   ],
   "source": [
    "n=int(input(\"Enter a number to print :\"))\n",
    "def antidiagonal(n):\n",
    "    n=n|1\n",
    "    for i in range(n):\n",
    "        for j in range (n):\n",
    "            if i==0 or i==(n-1) or j==0 or j==(n-1) or i-j==0 or i+j==n-1 or i==n//2 or j==n//2 or i==n//4 or j==n//4 or i==3*(n//4) or j==3*(n//4) or i+j==n//2 or i-j==(n//2) or i+j==3*(n//2) or i-j==-(n//2) :\n",
    "                print('*',sep=' ',end=' ')\n",
    "            else:\n",
    "                print(end='  ')\n",
    "        print()\n",
    "(antidiagonal(n))"
   ]
  },
  {
   "cell_type": "code",
   "execution_count": 52,
   "metadata": {},
   "outputs": [
    {
     "name": "stdout",
     "output_type": "stream",
     "text": [
      "                                          \n",
      "                                          \n",
      "                                          \n",
      "                                          \n",
      "                                          \n",
      "                                          \n",
      "                                          \n",
      "                                          \n",
      "                                          \n",
      "                                          \n",
      "                                          \n",
      "                                          \n",
      "                                          \n",
      "                                          \n",
      "                                          \n",
      "          * * * * * *         * * * * * * \n",
      "            * * * * *           * * * * * \n",
      "              * * * *             * * * * \n",
      "                * * *               * * * \n",
      "                  * *                 * * \n",
      "                    *                   * \n"
     ]
    }
   ],
   "source": [
    "n=int(input(\"Enter a number to print :\"))\n",
    "def antidiagonal(n):\n",
    "    n=n|1\n",
    "    for i in range(n):\n",
    "        for j in range (n):\n",
    "            if (i>=3*(n//4)) and ((j<=n//2 and i-j<=n//2) or i-j<=0) :\n",
    "                print('*',sep=' ',end=' ')\n",
    "            else:\n",
    "                print(end='  ')\n",
    "        print()\n",
    "(antidiagonal(n))"
   ]
  },
  {
   "cell_type": "code",
   "execution_count": 59,
   "metadata": {},
   "outputs": [
    {
     "name": "stdout",
     "output_type": "stream",
     "text": [
      "                    *                   * \n",
      "                  * *                 * * \n",
      "                * * *               * * * \n",
      "              * * * *             * * * * \n",
      "            * * * * *           * * * * * \n",
      "          * * * * * *         * * * * * * \n",
      "                                          \n",
      "                                          \n",
      "                                          \n",
      "                                          \n",
      "                                          \n",
      "                                          \n",
      "                                          \n",
      "                                          \n",
      "                                          \n",
      "          * * * * * *         * * * * * * \n",
      "            * * * * *           * * * * * \n",
      "              * * * *             * * * * \n",
      "                * * *               * * * \n",
      "                  * *                 * * \n",
      "                    *                   * \n"
     ]
    }
   ],
   "source": [
    "n=int(input(\"Enter a number to print :\"))\n",
    "def antidiagonal(n):\n",
    "    n=n|1\n",
    "    for i in range(n):\n",
    "        for j in range (n):\n",
    "            if (i>=3*(n//4)) and ((j<=n//2 and i-j<=n//2) or i-j<=0) or  (i<=n//4 and i+j>=(n-1) ) or (i<=n//4 and j<=n//2 and i+j>=n//2):\n",
    "                print('*',sep=' ',end=' ')\n",
    "            else:\n",
    "                print(end='  ')\n",
    "        print()\n",
    "(antidiagonal(n))"
   ]
  },
  {
   "cell_type": "code",
   "execution_count": 69,
   "metadata": {},
   "outputs": [
    {
     "name": "stdout",
     "output_type": "stream",
     "text": [
      "     *      \n",
      "    *  *     \n",
      "   *    *    \n",
      "  *      *   \n",
      " *        *  \n",
      "*          * \n",
      " *        *  \n",
      "  *      *   \n",
      "   *    *    \n",
      "    *  *     \n",
      "     *      \n"
     ]
    }
   ],
   "source": [
    "n=int(input(\"Enter a number to print :\"))\n",
    "def antidiagonal(n):\n",
    "    n=n|1\n",
    "    for i in range(n):\n",
    "        for j in range (n):\n",
    "            if i+j==n//2 or i-j==n//2 or i-j==-(n//2):\n",
    "                print('*',sep=' ',end=' ')\n",
    "            else:\n",
    "                print(end='  ')\n",
    "        print()\n",
    "(antidiagonal(n))\n"
   ]
  },
  {
   "cell_type": "code",
   "execution_count": 17,
   "metadata": {},
   "outputs": [
    {
     "name": "stdout",
     "output_type": "stream",
     "text": [
      "***********\n",
      " *        *\n",
      " *        *\n",
      " *        *\n",
      " *        *\n",
      "***********\n",
      " *        *\n",
      " *        *\n",
      " *        *\n",
      " *        *\n",
      " *        *\n"
     ]
    }
   ],
   "source": [
    "n=int(input(\"Enter a number to print :\"))\n",
    "def antidiagonal(n):\n",
    "    n=n|1\n",
    "    for i in range (n):\n",
    "        for j in range(n):\n",
    "            if j==1 or j==(n-1) or i==0 or i==(n//2):\n",
    "                print('*',sep='',end='')\n",
    "            else:\n",
    "                print(end=' ')\n",
    "        print()     \n",
    "antidiagonal(n)               "
   ]
  },
  {
   "cell_type": "code",
   "execution_count": 18,
   "metadata": {},
   "outputs": [
    {
     "name": "stdout",
     "output_type": "stream",
     "text": [
      "***********\n",
      " *        *\n",
      " *        *\n",
      " *        *\n",
      " *        *\n",
      "***********\n",
      " *        *\n",
      " *        *\n",
      " *        *\n",
      " *        *\n",
      "***********\n"
     ]
    }
   ],
   "source": [
    "n=int(input(\"Enter a number to print :\"))\n",
    "def antidiagonal(n):\n",
    "    n=n|1\n",
    "    for i in range (n):\n",
    "        for j in range(n):\n",
    "            if j==1 or j==(n-1) or i==0 or i==(n//2) or i==(n-1):\n",
    "                print('*',sep='',end='')\n",
    "            else:\n",
    "                print(end=' ')\n",
    "        print()     \n",
    "antidiagonal(n)               "
   ]
  },
  {
   "cell_type": "code",
   "execution_count": 19,
   "metadata": {},
   "outputs": [
    {
     "name": "stdout",
     "output_type": "stream",
     "text": [
      "***********\n",
      "*          \n",
      "*          \n",
      "*          \n",
      "*          \n",
      "*          \n",
      "*          \n",
      "*          \n",
      "*          \n",
      "*          \n",
      "***********\n"
     ]
    }
   ],
   "source": [
    "n=int(input(\"Enter a number to print :\"))\n",
    "def antidiagonal(n):\n",
    "    n=n|1\n",
    "    for i in range (n):\n",
    "        for j in range(n):\n",
    "            if i==0 or j==0 or i==(n-1):\n",
    "                print('*',sep='',end='')\n",
    "            else:\n",
    "                print(end=' ')\n",
    "        print()     \n",
    "antidiagonal(n)               "
   ]
  },
  {
   "cell_type": "code",
   "execution_count": 20,
   "metadata": {},
   "outputs": [
    {
     "name": "stdout",
     "output_type": "stream",
     "text": [
      "***********\n",
      "     *    *\n",
      "     *    *\n",
      "     *    *\n",
      "     *    *\n",
      "     *    *\n",
      "     *    *\n",
      "     *    *\n",
      "     *    *\n",
      "     *    *\n",
      "***********\n"
     ]
    }
   ],
   "source": [
    "n=int(input(\"Enter a number to print :\"))\n",
    "def antidiagonal(n):\n",
    "    n=n|1\n",
    "    for i in range (n):\n",
    "        for j in range(n):\n",
    "            if i==0 or j==(n-1) or i==n-1 or j==(n//2):\n",
    "                print('*',sep='',end='')\n",
    "            else:\n",
    "                print(end=' ')\n",
    "        print()     \n",
    "antidiagonal(n)               "
   ]
  },
  {
   "cell_type": "code",
   "execution_count": 21,
   "metadata": {},
   "outputs": [
    {
     "name": "stdout",
     "output_type": "stream",
     "text": [
      "***********\n",
      "*          \n",
      "*          \n",
      "*          \n",
      "*          \n",
      "***********\n",
      "*          \n",
      "*          \n",
      "*          \n",
      "*          \n",
      "***********\n"
     ]
    }
   ],
   "source": [
    "n=int(input(\"Enter a number to print :\"))\n",
    "def antidiagonal(n):\n",
    "    n=n|1\n",
    "    for i in range (n):\n",
    "        for j in range(n):\n",
    "            if i==0 or j==0 or i==n-1 or i==(n//2):\n",
    "                print('*',sep='',end='')\n",
    "            else:\n",
    "                print(end=' ')\n",
    "        print()     \n",
    "antidiagonal(n)               "
   ]
  },
  {
   "cell_type": "code",
   "execution_count": 22,
   "metadata": {},
   "outputs": [
    {
     "name": "stdout",
     "output_type": "stream",
     "text": [
      "***********\n",
      "*          \n",
      "*          \n",
      "*          \n",
      "*          \n",
      "***********\n",
      "*          \n",
      "*          \n",
      "*          \n",
      "*          \n",
      "*          \n"
     ]
    }
   ],
   "source": [
    "n=int(input(\"Enter a number to print :\"))\n",
    "def antidiagonal(n):\n",
    "    n=n|1\n",
    "    for i in range (n):\n",
    "        for j in range(n):\n",
    "            if i==0 or j==0  or i==(n//2):\n",
    "                print('*',sep='',end='')\n",
    "            else:\n",
    "                print(end=' ')\n",
    "        print()     \n",
    "antidiagonal(n)               "
   ]
  },
  {
   "cell_type": "code",
   "execution_count": 38,
   "metadata": {},
   "outputs": [
    {
     "name": "stdout",
     "output_type": "stream",
     "text": [
      "***********\n",
      "*          \n",
      "*          \n",
      "*          \n",
      "*          \n",
      "*    ******\n",
      "*         *\n",
      "*         *\n",
      "*         *\n",
      "*         *\n",
      "***********\n"
     ]
    }
   ],
   "source": [
    "n=int(input(\"Enter a number to print :\"))\n",
    "def antidiagonal(n):\n",
    "    n=n|1\n",
    "    for i in range (n):\n",
    "        for j in range(n):\n",
    "            if i==0 or j==0 or i==(n-1) or (j==n-1 and i>=(n//2)) or (i==(n//2) and j>=(n//2)):\n",
    "                print('*',sep='',end='')\n",
    "            else:\n",
    "                print(end=' ')\n",
    "        print()     \n",
    "antidiagonal(n)               "
   ]
  },
  {
   "cell_type": "code",
   "execution_count": null,
   "metadata": {},
   "outputs": [],
   "source": []
  },
  {
   "cell_type": "code",
   "execution_count": null,
   "metadata": {},
   "outputs": [],
   "source": []
  },
  {
   "cell_type": "code",
   "execution_count": 29,
   "metadata": {},
   "outputs": [
    {
     "name": "stdout",
     "output_type": "stream",
     "text": [
      "*         *\n",
      "*         *\n",
      "*         *\n",
      "*         *\n",
      "*         *\n",
      "***********\n",
      "*         *\n",
      "*         *\n",
      "*         *\n",
      "*         *\n",
      "*         *\n"
     ]
    }
   ],
   "source": [
    "n=int(input(\"Enter a number to print :\"))\n",
    "def antidiagonal(n):\n",
    "    n=n|1\n",
    "    for i in range (n):\n",
    "        for j in range(n):\n",
    "            if  j==0 or j==n-1 or i==(n//2): \n",
    "                print('*',sep='',end='')\n",
    "            else:\n",
    "                print(end=' ')\n",
    "        print()     \n",
    "antidiagonal(n)               "
   ]
  },
  {
   "cell_type": "code",
   "execution_count": 30,
   "metadata": {},
   "outputs": [
    {
     "name": "stdout",
     "output_type": "stream",
     "text": [
      "***********\n",
      "     *     \n",
      "     *     \n",
      "     *     \n",
      "     *     \n",
      "     *     \n",
      "     *     \n",
      "     *     \n",
      "     *     \n",
      "     *     \n",
      "***********\n"
     ]
    }
   ],
   "source": [
    "n=int(input(\"Enter a number to print :\"))\n",
    "def antidiagonal(n):\n",
    "    n=n|1\n",
    "    for i in range (n):\n",
    "        for j in range(n):\n",
    "            if i==0 or i==n-1 or j==(n//2):\n",
    "                print('*',sep='',end='')\n",
    "            else:\n",
    "                print(end=' ')\n",
    "        print()     \n",
    "antidiagonal(n)               "
   ]
  },
  {
   "cell_type": "code",
   "execution_count": 33,
   "metadata": {},
   "outputs": [
    {
     "name": "stdout",
     "output_type": "stream",
     "text": [
      "***********\n",
      "     *     \n",
      "     *     \n",
      "     *     \n",
      "     *     \n",
      "     *     \n",
      "     *     \n",
      "     *     \n",
      "     *     \n",
      "     *     \n",
      "******     \n"
     ]
    }
   ],
   "source": [
    "n=int(input(\"Enter a number to print :\"))\n",
    "def antidiagonal(n):\n",
    "    n=n|1\n",
    "    for i in range (n):\n",
    "        for j in range(n):\n",
    "            if i==0 or j==(n//2) or (i==n-1 and j<=(n/2)):\n",
    "                print('*',sep='',end='')\n",
    "            else:\n",
    "                print(end=' ')\n",
    "        print()     \n",
    "antidiagonal(n)               "
   ]
  },
  {
   "cell_type": "code",
   "execution_count": 40,
   "metadata": {},
   "outputs": [
    {
     "name": "stdout",
     "output_type": "stream",
     "text": [
      "*    *     \n",
      "*   *      \n",
      "*  *       \n",
      "* *        \n",
      "**         \n",
      "*          \n",
      "**         \n",
      "* *        \n",
      "*  *       \n",
      "*   *      \n",
      "*    *     \n"
     ]
    }
   ],
   "source": [
    "n=int(input(\"Enter a number to print :\"))\n",
    "def antidiagonal(n):\n",
    "    n=n|1\n",
    "    for i in range (n):\n",
    "        for j in range(n):\n",
    "            if j==0 or i+j==(n//2) or i-j==(n//2):\n",
    "                print('*',sep='',end='')\n",
    "            else:\n",
    "                print(end=' ')\n",
    "        print()     \n",
    "antidiagonal(n)               "
   ]
  },
  {
   "cell_type": "code",
   "execution_count": 41,
   "metadata": {},
   "outputs": [
    {
     "name": "stdout",
     "output_type": "stream",
     "text": [
      "*          \n",
      "*          \n",
      "*          \n",
      "*          \n",
      "*          \n",
      "*          \n",
      "*          \n",
      "*          \n",
      "*          \n",
      "*          \n",
      "***********\n"
     ]
    }
   ],
   "source": [
    "n=int(input(\"Enter a number to print :\"))\n",
    "def antidiagonal(n):\n",
    "    n=n|1\n",
    "    for i in range (n):\n",
    "        for j in range(n):\n",
    "            if j==0 or i==n-1:\n",
    "                print('*',sep='',end='')\n",
    "            else:\n",
    "                print(end=' ')\n",
    "        print()     \n",
    "antidiagonal(n)               "
   ]
  },
  {
   "cell_type": "code",
   "execution_count": 48,
   "metadata": {},
   "outputs": [
    {
     "name": "stdout",
     "output_type": "stream",
     "text": [
      "*         *\n",
      "**       **\n",
      "* *     * *\n",
      "*  *   *  *\n",
      "*   * *   *\n",
      "*    *    *\n",
      "*         *\n",
      "*         *\n",
      "*         *\n",
      "*         *\n",
      "*         *\n"
     ]
    }
   ],
   "source": [
    "n=int(input(\"Enter a number to print :\"))\n",
    "def antidiagonal(n):\n",
    "    n=n|1\n",
    "    for i in range (n):\n",
    "        for j in range(n):\n",
    "            if j==0 or j==n-1 or (i-j==0 and i<=n//2) or (i+j==n-1 and i<=(n//2)):\n",
    "                print('*',sep='',end='')\n",
    "            else:\n",
    "                print(end=' ')\n",
    "        print()     \n",
    "antidiagonal(n)               "
   ]
  },
  {
   "cell_type": "code",
   "execution_count": 49,
   "metadata": {},
   "outputs": [
    {
     "name": "stdout",
     "output_type": "stream",
     "text": [
      "*         *\n",
      "**        *\n",
      "* *       *\n",
      "*  *      *\n",
      "*   *     *\n",
      "*    *    *\n",
      "*     *   *\n",
      "*      *  *\n",
      "*       * *\n",
      "*        **\n",
      "*         *\n"
     ]
    }
   ],
   "source": [
    "n=int(input(\"Enter a number to print :\"))\n",
    "def antidiagonal(n):\n",
    "    n=n|1\n",
    "    for i in range (n):\n",
    "        for j in range(n):\n",
    "            if j==0 or j==n-1 or i-j==0 :\n",
    "                print('*',sep='',end='')\n",
    "            else:\n",
    "                print(end=' ')\n",
    "        print()     \n",
    "antidiagonal(n)               "
   ]
  },
  {
   "cell_type": "code",
   "execution_count": 50,
   "metadata": {},
   "outputs": [
    {
     "name": "stdout",
     "output_type": "stream",
     "text": [
      "***********\n",
      "*         *\n",
      "*         *\n",
      "*         *\n",
      "*         *\n",
      "*         *\n",
      "*         *\n",
      "*         *\n",
      "*         *\n",
      "*         *\n",
      "***********\n"
     ]
    }
   ],
   "source": [
    "n=int(input(\"Enter a number to print :\"))\n",
    "def antidiagonal(n):\n",
    "    n=n|1\n",
    "    for i in range (n):\n",
    "        for j in range(n):\n",
    "            if i==0 or i==n-1 or j==0 or j==n-1:\n",
    "                print('*',sep='',end='')\n",
    "            else:\n",
    "                print(end=' ')\n",
    "        print()     \n",
    "antidiagonal(n)               "
   ]
  },
  {
   "cell_type": "code",
   "execution_count": 61,
   "metadata": {},
   "outputs": [
    {
     "name": "stdout",
     "output_type": "stream",
     "text": [
      "***********\n",
      "*         *\n",
      "*         *\n",
      "*         *\n",
      "*         *\n",
      "***********\n",
      "*          \n",
      "*          \n",
      "*          \n",
      "*          \n",
      "*          \n"
     ]
    }
   ],
   "source": [
    "n=int(input(\"Enter a number to print :\"))\n",
    "def antidiagonal(n):\n",
    "    n=n|1\n",
    "    for i in range (n):\n",
    "        for j in range(n):\n",
    "            if j==0 or i==0 or (j==n-1 and i<=n//2) or i==n//2:\n",
    "                print('*',sep='',end='')\n",
    "            else:\n",
    "                print(end=' ')\n",
    "        print()     \n",
    "antidiagonal(n)               "
   ]
  },
  {
   "cell_type": "code",
   "execution_count": 64,
   "metadata": {},
   "outputs": [
    {
     "name": "stdout",
     "output_type": "stream",
     "text": [
      "***********\n",
      "*         *\n",
      "*         *\n",
      "*         *\n",
      "*         *\n",
      "*    *    *\n",
      "*     *   *\n",
      "*      *  *\n",
      "*       * *\n",
      "*        **\n",
      "***********\n"
     ]
    }
   ],
   "source": [
    "n=int(input(\"Enter a number to print :\"))\n",
    "def antidiagonal(n):\n",
    "    n=n|1\n",
    "    for i in range (n):\n",
    "        for j in range(n):\n",
    "            if i==0 or i==n-1 or j==0 or j==n-1 or (i-j==0 and i>=(n//2)):\n",
    "                print('*',sep='',end='')\n",
    "            else:\n",
    "                print(end=' ')\n",
    "        print()     \n",
    "antidiagonal(n)               "
   ]
  },
  {
   "cell_type": "code",
   "execution_count": null,
   "metadata": {},
   "outputs": [],
   "source": []
  },
  {
   "cell_type": "code",
   "execution_count": 98,
   "metadata": {},
   "outputs": [
    {
     "name": "stdout",
     "output_type": "stream",
     "text": [
      "***********\n",
      "*         *\n",
      "*         *\n",
      "*         *\n",
      "*         *\n",
      "***********\n",
      "*     *    \n",
      "*      *   \n",
      "*       *  \n",
      "*        * \n",
      "*         *\n"
     ]
    }
   ],
   "source": [
    "n=int(input(\"Enter a number to print :\"))\n",
    "def antidiagonal(n):\n",
    "    n=n|1\n",
    "    for i in range (n):\n",
    "        for j in range(n):\n",
    "            if j==0 or i==0 or (j==n-1 and i<=n//2) or (i-j==0 and i>=(n//2)) or i==n//2:\n",
    "                print('*',sep='',end='')\n",
    "            else:\n",
    "                print(end=' ')\n",
    "        print()     \n",
    "antidiagonal(n)               "
   ]
  },
  {
   "cell_type": "code",
   "execution_count": 69,
   "metadata": {},
   "outputs": [
    {
     "name": "stdout",
     "output_type": "stream",
     "text": [
      "***********\n",
      "*          \n",
      "*          \n",
      "*          \n",
      "*          \n",
      "***********\n",
      "          *\n",
      "          *\n",
      "          *\n",
      "          *\n",
      "***********\n"
     ]
    }
   ],
   "source": [
    "n=int(input(\"Enter a number to print :\"))\n",
    "def antidiagonal(n):\n",
    "    n=n|1\n",
    "    for i in range (n):\n",
    "        for j in range(n):\n",
    "            if i==0 or (j==0 and i<=(n//2)) or i==n//2 or (j==n-1 and i>=n//2) or i==n-1:\n",
    "                print('*',sep='',end='')\n",
    "            else:\n",
    "                print(end=' ')\n",
    "        print()     \n",
    "antidiagonal(n)               "
   ]
  },
  {
   "cell_type": "code",
   "execution_count": 71,
   "metadata": {},
   "outputs": [
    {
     "name": "stdout",
     "output_type": "stream",
     "text": [
      "***********\n",
      "     *     \n",
      "     *     \n",
      "     *     \n",
      "     *     \n",
      "     *     \n",
      "     *     \n",
      "     *     \n",
      "     *     \n",
      "     *     \n",
      "     *     \n"
     ]
    }
   ],
   "source": [
    "n=int(input(\"Enter a number to print :\"))\n",
    "def antidiagonal(n):\n",
    "    n=n|1\n",
    "    for i in range (n):\n",
    "        for j in range(n):\n",
    "            if i==0 or j==n//2:\n",
    "                print('*',sep='',end='')\n",
    "            else:\n",
    "                print(end=' ')\n",
    "        print()     \n",
    "antidiagonal(n)               "
   ]
  },
  {
   "cell_type": "code",
   "execution_count": 72,
   "metadata": {},
   "outputs": [
    {
     "name": "stdout",
     "output_type": "stream",
     "text": [
      "*         *\n",
      "*         *\n",
      "*         *\n",
      "*         *\n",
      "*         *\n",
      "*         *\n",
      "*         *\n",
      "*         *\n",
      "*         *\n",
      "*         *\n",
      "***********\n"
     ]
    }
   ],
   "source": [
    "n=int(input(\"Enter a number to print :\"))\n",
    "def antidiagonal(n):\n",
    "    n=n|1\n",
    "    for i in range (n):\n",
    "        for j in range(n):\n",
    "            if j==0 or i==n-1 or j==n-1:\n",
    "                print('*',sep='',end='')\n",
    "            else:\n",
    "                print(end=' ')\n",
    "        print()     \n",
    "antidiagonal(n)               "
   ]
  },
  {
   "cell_type": "code",
   "execution_count": 73,
   "metadata": {},
   "outputs": [
    {
     "name": "stdout",
     "output_type": "stream",
     "text": [
      "*         *\n",
      " *       * \n",
      "  *     *  \n",
      "   *   *   \n",
      "    * *    \n",
      "     *     \n",
      "           \n",
      "           \n",
      "           \n",
      "           \n",
      "           \n"
     ]
    }
   ],
   "source": [
    "n=int(input(\"Enter a number to print :\"))\n",
    "def antidiagonal(n):\n",
    "    n=n|1\n",
    "    for i in range (n):\n",
    "        for j in range(n):\n",
    "            if (i-j==0 and i<=n//2) or (i+j==n-1 and i<=n//2):\n",
    "                print('*',sep='',end='')\n",
    "            else:\n",
    "                print(end=' ')\n",
    "        print()     \n",
    "antidiagonal(n)               "
   ]
  },
  {
   "cell_type": "code",
   "execution_count": 75,
   "metadata": {},
   "outputs": [
    {
     "name": "stdout",
     "output_type": "stream",
     "text": [
      "*         *\n",
      "*         *\n",
      "*         *\n",
      "*         *\n",
      "*         *\n",
      "*    *    *\n",
      "*   * *   *\n",
      "*  *   *  *\n",
      "* *     * *\n",
      "**       **\n",
      "*         *\n"
     ]
    }
   ],
   "source": [
    "n=int(input(\"Enter a number to print :\"))\n",
    "def antidiagonal(n):\n",
    "    n=n|1\n",
    "    for i in range (n):\n",
    "        for j in range(n):\n",
    "            if j==0 or j== n-1 or (i-j==0 and i>=n//2) or (i+j==n-1 and i>=n//2):\n",
    "                print('*',sep='',end='')\n",
    "            else:\n",
    "                print(end=' ')\n",
    "        print()     \n",
    "antidiagonal(n)               "
   ]
  },
  {
   "cell_type": "code",
   "execution_count": 76,
   "metadata": {},
   "outputs": [
    {
     "name": "stdout",
     "output_type": "stream",
     "text": [
      "*         *\n",
      " *       * \n",
      "  *     *  \n",
      "   *   *   \n",
      "    * *    \n",
      "     *     \n",
      "    * *    \n",
      "   *   *   \n",
      "  *     *  \n",
      " *       * \n",
      "*         *\n"
     ]
    }
   ],
   "source": [
    "n=int(input(\"Enter a number to print :\"))\n",
    "def antidiagonal(n):\n",
    "    n=n|1\n",
    "    for i in range (n):\n",
    "        for j in range(n):\n",
    "            if i-j==0 or i+j==(n-1):\n",
    "                print('*',sep='',end='')\n",
    "            else:\n",
    "                print(end=' ')\n",
    "        print()     \n",
    "antidiagonal(n)               "
   ]
  },
  {
   "cell_type": "code",
   "execution_count": 77,
   "metadata": {},
   "outputs": [
    {
     "name": "stdout",
     "output_type": "stream",
     "text": [
      "*         *\n",
      " *       * \n",
      "  *     *  \n",
      "   *   *   \n",
      "    * *    \n",
      "     *     \n",
      "    *      \n",
      "   *       \n",
      "  *        \n",
      " *         \n",
      "*          \n"
     ]
    }
   ],
   "source": [
    "n=int(input(\"Enter a number to print :\"))\n",
    "def antidiagonal(n):\n",
    "    n=n|1\n",
    "    for i in range (n):\n",
    "        for j in range(n):\n",
    "            if i+j==n-1 or (i-j==0 and i<=n//2):\n",
    "                print('*',sep='',end='')\n",
    "            else:\n",
    "                print(end=' ')\n",
    "        print()     \n",
    "antidiagonal(n)               "
   ]
  },
  {
   "cell_type": "code",
   "execution_count": 78,
   "metadata": {},
   "outputs": [
    {
     "name": "stdout",
     "output_type": "stream",
     "text": [
      "***********\n",
      "         * \n",
      "        *  \n",
      "       *   \n",
      "      *    \n",
      "     *     \n",
      "    *      \n",
      "   *       \n",
      "  *        \n",
      " *         \n",
      "***********\n"
     ]
    }
   ],
   "source": [
    "n=int(input(\"Enter a number to print :\"))\n",
    "def antidiagonal(n):\n",
    "    n=n|1\n",
    "    for i in range (n):\n",
    "        for j in range(n):\n",
    "            if i==0 or i+j==n-1 or i==n-1:\n",
    "                print('*',sep='',end='')\n",
    "            else:\n",
    "                print(end=' ')\n",
    "        print()     \n",
    "antidiagonal(n)               "
   ]
  },
  {
   "cell_type": "code",
   "execution_count": 80,
   "metadata": {},
   "outputs": [
    {
     "name": "stdout",
     "output_type": "stream",
     "text": [
      "     *     \n",
      "    **     \n",
      "   * *     \n",
      "  *  *     \n",
      " *   *     \n",
      "*    *     \n",
      "     *     \n",
      "     *     \n",
      "     *     \n",
      "     *     \n",
      "***********\n"
     ]
    }
   ],
   "source": [
    "n=int(input(\"Enter a number to print :\"))\n",
    "def antidiagonal(n):\n",
    "    n=n|1\n",
    "    for i in range (n):\n",
    "        for j in range(n):\n",
    "            if i+j==n//2 or j==n//2 or i==n-1:\n",
    "                print('*',sep='',end='')\n",
    "            else:\n",
    "                print(end=' ')\n",
    "        print()     \n",
    "antidiagonal(n)               "
   ]
  },
  {
   "cell_type": "code",
   "execution_count": 14,
   "metadata": {},
   "outputs": [
    {
     "name": "stdout",
     "output_type": "stream",
     "text": [
      "***********\n",
      "          *\n",
      "          *\n",
      "          *\n",
      "          *\n",
      "***********\n",
      "*          \n",
      "*          \n",
      "*          \n",
      "*          \n",
      "***********\n"
     ]
    }
   ],
   "source": [
    "n=int(input(\"Enter a number to print :\"))\n",
    "def antidiagonal(n):\n",
    "    n=n|1\n",
    "    for i in range (n):\n",
    "        for j in range(n):\n",
    "            if  i==0  or (j==n-1 and i<=n//2) or i==n//2 or (j==0 and i>=n//2) or i==n-1:\n",
    "                print('*',sep='',end='')\n",
    "            else:\n",
    "                print(end=' ')\n",
    "        print()     \n",
    "antidiagonal(n)               "
   ]
  },
  {
   "cell_type": "code",
   "execution_count": 88,
   "metadata": {},
   "outputs": [
    {
     "name": "stdout",
     "output_type": "stream",
     "text": [
      "***********\n",
      "          *\n",
      "          *\n",
      "          *\n",
      "          *\n",
      "***********\n",
      "          *\n",
      "          *\n",
      "          *\n",
      "          *\n",
      "***********\n"
     ]
    }
   ],
   "source": [
    "n=int(input(\"Enter a number to print :\"))\n",
    "def antidiagonal(n):\n",
    "    n=n|1\n",
    "    for i in range (n):\n",
    "        for j in range(n):\n",
    "            if i==0 or j==n-1 or i==n//2 or i==n-1:\n",
    "                print('*',sep='',end='')\n",
    "            else:\n",
    "                print(end=' ')\n",
    "        print()     \n",
    "antidiagonal(n)               "
   ]
  },
  {
   "cell_type": "code",
   "execution_count": 89,
   "metadata": {},
   "outputs": [
    {
     "name": "stdout",
     "output_type": "stream",
     "text": [
      "*         *\n",
      "*         *\n",
      "*         *\n",
      "*         *\n",
      "*         *\n",
      "***********\n",
      "          *\n",
      "          *\n",
      "          *\n",
      "          *\n",
      "          *\n"
     ]
    }
   ],
   "source": [
    "n=int(input(\"Enter a number to print :\"))\n",
    "def antidiagonal(n):\n",
    "    n=n|1\n",
    "    for i in range (n):\n",
    "        for j in range(n):\n",
    "            if (j==0 and i<= n//2) or i==n//2 or j==n-1 :\n",
    "                print('*',sep='',end='')\n",
    "            else:\n",
    "                print(end=' ')\n",
    "        print()     \n",
    "antidiagonal(n)               "
   ]
  },
  {
   "cell_type": "code",
   "execution_count": 91,
   "metadata": {},
   "outputs": [
    {
     "name": "stdout",
     "output_type": "stream",
     "text": [
      "***********\n",
      "*          \n",
      "*          \n",
      "*          \n",
      "*          \n",
      "***********\n",
      "          *\n",
      "          *\n",
      "          *\n",
      "          *\n",
      "***********\n"
     ]
    }
   ],
   "source": [
    "n=int(input(\"Enter a number to print :\"))\n",
    "def antidiagonal(n):\n",
    "    n=n|1\n",
    "    for i in range (n):\n",
    "        for j in range(n):\n",
    "            if i==0 or (j==0 and i<=n//2) or i==n//2 or (j==n-1 and i>=n//2) or i==n-1:\n",
    "                print('*',sep='',end='')\n",
    "            else:\n",
    "                print(end=' ')\n",
    "        print()     \n",
    "antidiagonal(n)               "
   ]
  },
  {
   "cell_type": "code",
   "execution_count": 94,
   "metadata": {},
   "outputs": [
    {
     "name": "stdout",
     "output_type": "stream",
     "text": [
      "***********\n",
      "*          \n",
      "*          \n",
      "*          \n",
      "*          \n",
      "***********\n",
      "*         *\n",
      "*         *\n",
      "*         *\n",
      "*         *\n",
      "***********\n"
     ]
    }
   ],
   "source": [
    "n=int(input(\"Enter a number to print :\"))\n",
    "def antidiagonal(n):\n",
    "    n=n|1\n",
    "    for i in range (n):\n",
    "        for j in range(n):\n",
    "            if i==0 or j==0 or i==n-1 or (j==n-1 and i>=n//2) or i==n//2:\n",
    "                print('*',sep='',end='')\n",
    "            else:\n",
    "                print(end=' ')\n",
    "        print()     \n",
    "antidiagonal(n)               "
   ]
  },
  {
   "cell_type": "code",
   "execution_count": 95,
   "metadata": {},
   "outputs": [
    {
     "name": "stdout",
     "output_type": "stream",
     "text": [
      "***********\n",
      "          *\n",
      "          *\n",
      "          *\n",
      "          *\n",
      "          *\n",
      "          *\n",
      "          *\n",
      "          *\n",
      "          *\n",
      "          *\n"
     ]
    }
   ],
   "source": [
    "n=int(input(\"Enter a number to print :\"))\n",
    "def antidiagonal(n):\n",
    "    n=n|1\n",
    "    for i in range (n):\n",
    "        for j in range(n):\n",
    "            if i==0 or j==n-1 :\n",
    "                print('*',sep='',end='')\n",
    "            else:\n",
    "                print(end=' ')\n",
    "        print()     \n",
    "antidiagonal(n)               "
   ]
  },
  {
   "cell_type": "code",
   "execution_count": 96,
   "metadata": {},
   "outputs": [
    {
     "name": "stdout",
     "output_type": "stream",
     "text": [
      "***********\n",
      "*         *\n",
      "*         *\n",
      "*         *\n",
      "*         *\n",
      "***********\n",
      "*         *\n",
      "*         *\n",
      "*         *\n",
      "*         *\n",
      "***********\n"
     ]
    }
   ],
   "source": [
    "n=int(input(\"Enter a number to print :\"))\n",
    "def antidiagonal(n):\n",
    "    n=n|1\n",
    "    for i in range (n):\n",
    "        for j in range(n):\n",
    "            if i==0 or i==n-1 or j==0 or j==n-1 or i==n//2:\n",
    "                print('*',sep='',end='')\n",
    "            else:\n",
    "                print(end=' ')\n",
    "        print()     \n",
    "antidiagonal(n)               "
   ]
  },
  {
   "cell_type": "code",
   "execution_count": 97,
   "metadata": {},
   "outputs": [
    {
     "name": "stdout",
     "output_type": "stream",
     "text": [
      "***********\n",
      "*         *\n",
      "*         *\n",
      "*         *\n",
      "*         *\n",
      "***********\n",
      "          *\n",
      "          *\n",
      "          *\n",
      "          *\n",
      "***********\n"
     ]
    }
   ],
   "source": [
    "n=int(input(\"Enter a number to print :\"))\n",
    "def antidiagonal(n):\n",
    "    n=n|1\n",
    "    for i in range (n):\n",
    "        for j in range(n):\n",
    "            if i==0 or j==n-1 or i==n-1 or (j==0 and i<=n//2) or i==n//2:\n",
    "                print('*',sep='',end='')\n",
    "            else:\n",
    "                print(end=' ')\n",
    "        print()     \n",
    "antidiagonal(n)               "
   ]
  },
  {
   "cell_type": "code",
   "execution_count": 115,
   "metadata": {},
   "outputs": [
    {
     "name": "stdout",
     "output_type": "stream",
     "text": [
      "\n",
      "1\n",
      "22\n",
      "333\n",
      "4444\n",
      "55555\n",
      "666666\n",
      "7777777\n",
      "88888888\n",
      "999999999\n"
     ]
    }
   ],
   "source": [
    "n=int(input(\"Enter a number to print :\"))\n",
    "def antidiagonal(n):\n",
    "    n=n|1\n",
    "    for i in range (0,n-1):\n",
    "        for j in range(0,i):\n",
    "                print( i ,sep='',end='')\n",
    "        print()     \n",
    "antidiagonal(n)               "
   ]
  },
  {
   "cell_type": "code",
   "execution_count": 123,
   "metadata": {},
   "outputs": [
    {
     "name": "stdout",
     "output_type": "stream",
     "text": [
      "\n",
      "\n",
      "1\n",
      "12\n",
      "123\n",
      "1234\n",
      "12345\n",
      "123456\n",
      "1234567\n",
      "12345678\n"
     ]
    }
   ],
   "source": [
    "n=int(input(\"Enter a number to print :\"))\n",
    "def antidiagonal(n):\n",
    "    n=n|1\n",
    "    for i in range (0,n-1):\n",
    "        for j in range(1,i):\n",
    "                print( j,sep='',end='')\n",
    "        print()     \n",
    "antidiagonal(n)               "
   ]
  },
  {
   "cell_type": "code",
   "execution_count": 29,
   "metadata": {},
   "outputs": [
    {
     "name": "stdout",
     "output_type": "stream",
     "text": [
      "0           \n",
      "0 1          \n",
      "0 1 2         \n",
      "0 1 2 3        \n",
      "0 1 2 3 4       \n",
      "0 1 2 3 4 5      \n",
      "0 1 2 3 4       \n",
      "0 1 2 3        \n",
      "0 1 2         \n",
      "0 1          \n",
      "0           \n"
     ]
    }
   ],
   "source": [
    "n=int(input(\"Enter a number to print :\"))\n",
    "def antidiagonal(n):\n",
    "    n=n|1\n",
    "    for i in range (n):\n",
    "        for j in range(n):\n",
    "                if j==0 or (i-j>=0 and i<=n//2) or (i+j<=n-1 and i>=n//2):\n",
    "                        print( j,sep='',end=' ')\n",
    "                else:\n",
    "                        print(end=' ')        \n",
    "        print()     \n",
    "antidiagonal(n)               "
   ]
  },
  {
   "cell_type": "code",
   "execution_count": 158,
   "metadata": {},
   "outputs": [
    {
     "name": "stdout",
     "output_type": "stream",
     "text": [
      "    0    \n",
      "   1 1   \n",
      "  2   2  \n",
      " 3     3 \n",
      "4       4\n",
      " 5     5 \n",
      "  6   6  \n",
      "   7 7   \n",
      "    8    \n"
     ]
    }
   ],
   "source": [
    "n = int(input(\"Enter a number to print: \"))\n",
    "\n",
    "def antidiagonal(n):\n",
    "    n = n | 1\n",
    "    for i in range(0,n):\n",
    "        for j in range(n):\n",
    "            if i+j==n//2 or i-j==n//2 or i-j==-(n//2) or i+j==3*(n//2):\n",
    "                print(i, end='')\n",
    "            else:\n",
    "                print(\" \", end='')\n",
    "        print()\n",
    "\n",
    "antidiagonal(n)\n"
   ]
  },
  {
   "cell_type": "code",
   "execution_count": 137,
   "metadata": {},
   "outputs": [
    {
     "name": "stdout",
     "output_type": "stream",
     "text": [
      "10         10\n",
      " 9       9 \n",
      "  8     8  \n",
      "   7   7   \n",
      "    6 6    \n",
      "     5     \n",
      "    4 4    \n",
      "   3   3   \n",
      "  2     2  \n",
      " 1       1 \n",
      "0         0\n"
     ]
    }
   ],
   "source": [
    "n = int(input(\"Enter a number to print: \"))\n",
    "\n",
    "def antidiagonal(n):\n",
    "    n = n | 1\n",
    "    for i in range(n):\n",
    "        for j in range(n):\n",
    "            if i-j==0 or i+j==n-1:\n",
    "                \n",
    "                print((n-i-1), end='')\n",
    "            else:\n",
    "                print(\" \", end='')\n",
    "        print()\n",
    "\n",
    "antidiagonal(n)\n"
   ]
  },
  {
   "cell_type": "code",
   "execution_count": 152,
   "metadata": {},
   "outputs": [
    {
     "name": "stdout",
     "output_type": "stream",
     "text": [
      "* * * * * * * * * * * \n",
      "* * * * *   * * * * * \n",
      "* * * *       * * * * \n",
      "* * *           * * * \n",
      "* *               * * \n",
      "*                   * \n",
      "                      \n",
      "                      \n",
      "                      \n",
      "                      \n",
      "                      \n"
     ]
    }
   ],
   "source": [
    "n = int(input(\"Enter a number to print: \"))\n",
    "\n",
    "def antidiagonal(n):\n",
    "    n = n | 1\n",
    "    for i in range(n):\n",
    "        for j in range(n):\n",
    "            if (j==0 and i<=n//2) or (i==0 and j<=n//2) or i+j<=n//2 or (i==0 and j>=n//2) or (j==n-1 and i<=n//2) or i-j <=-(n//2):\n",
    "                print(\"*\",sep =' ' ,end =' ')\n",
    "            else:\n",
    "                print(\" \", end =' ')\n",
    "        print()\n",
    "\n",
    "antidiagonal(n)\n"
   ]
  },
  {
   "cell_type": "code",
   "execution_count": 158,
   "metadata": {},
   "outputs": [
    {
     "name": "stdout",
     "output_type": "stream",
     "text": [
      "                      \n",
      "                      \n",
      "                      \n",
      "                      \n",
      "                      \n",
      "*                   * \n",
      "* *               * * \n",
      "* * *           * * * \n",
      "* * * *       * * * * \n",
      "* * * * *   * * * * * \n",
      "* * * * * * * * * * * \n"
     ]
    }
   ],
   "source": [
    "n = int(input(\"Enter a number to print: \"))\n",
    "\n",
    "def antidiagonal(n):\n",
    "    n = n | 1\n",
    "    for i in range(n):\n",
    "        for j in range(n):\n",
    "            if (j==0 and i>=n//2) or (i==n-1 and j<=n//2) or i-j>=n//2 or (i==n-1 and j>=n//2) or (j==n-1 and i>=n//2) or i+j>=3*(n//2):\n",
    "                print(\"*\",sep =' ' ,end =' ')\n",
    "            else:\n",
    "                print(\" \", end =' ')\n",
    "        print()\n",
    "\n",
    "antidiagonal(n)\n"
   ]
  },
  {
   "cell_type": "code",
   "execution_count": 164,
   "metadata": {},
   "outputs": [
    {
     "name": "stdout",
     "output_type": "stream",
     "text": [
      "*                   * \n",
      "* *               * * \n",
      "* * *           * * * \n",
      "* * * *       * * * * \n",
      "* * * * *   * * * * * \n",
      "* * * * * * * * * * * \n",
      "* * * * *   * * * * * \n",
      "* * * *       * * * * \n",
      "* * *           * * * \n",
      "* *               * * \n",
      "*                   * \n"
     ]
    }
   ],
   "source": [
    "n = int(input(\"Enter a number to print: \"))\n",
    "\n",
    "def antidiagonal(n):\n",
    "    n = n | 1\n",
    "    for i in range(n):\n",
    "        for j in range(n):\n",
    "            if j==0 or j==n-1 or (i-j>=0 and i<=n//2) or (i+j<=n-1 and i>=n//2) or (i-j<=0 and i>=n//2) or(i+j>=n-1 and i<=n//2) :\n",
    "                print(\"*\",sep =' ' ,end =' ')\n",
    "            else:\n",
    "                print(\" \", end =' ')\n",
    "        print()\n",
    "\n",
    "antidiagonal(n)\n"
   ]
  },
  {
   "cell_type": "code",
   "execution_count": 167,
   "metadata": {},
   "outputs": [
    {
     "name": "stdout",
     "output_type": "stream",
     "text": [
      "A         A\n",
      " B       B \n",
      "  C     C  \n",
      "   D   D   \n",
      "    E E    \n",
      "     F     \n",
      "    G G    \n",
      "   H   H   \n",
      "  I     I  \n",
      " J       J \n",
      "K         K\n"
     ]
    }
   ],
   "source": [
    "n = int(input(\"Enter a number to print: \"))\n",
    "\n",
    "def antidiagonal(n):\n",
    "    n = n | 1\n",
    "    for i in range(n):\n",
    "        for j in range(n):\n",
    "            if i-j==0 or i+j==n-1:\n",
    "                \n",
    "                print(chr(65+i), end='')\n",
    "            else:\n",
    "                print(\" \", end='')\n",
    "        print()\n",
    "\n",
    "antidiagonal(n)\n"
   ]
  },
  {
   "cell_type": "code",
   "execution_count": 193,
   "metadata": {},
   "outputs": [
    {
     "name": "stdout",
     "output_type": "stream",
     "text": [
      "                                          \n",
      "                                          \n",
      "                                          \n",
      "                                          \n",
      "                                          \n",
      "          U                   U           \n",
      "        T   T               T   T         \n",
      "      S       S           S       S       \n",
      "    R           R       R           R     \n",
      "  Q               Q   Q               Q   \n",
      "P                   P                   P \n",
      "                                          \n",
      "                                          \n",
      "                                          \n",
      "                                          \n",
      "                                          \n",
      "                                          \n",
      "                                          \n",
      "                                          \n",
      "                                          \n",
      "                                          \n"
     ]
    }
   ],
   "source": [
    "n = int(input(\"Enter a number to print: \"))\n",
    "\n",
    "def antidiagonal(n):\n",
    "    n = n | 1\n",
    "    for i in range(n):\n",
    "        for j in range(n):\n",
    "            if (i+j==n//2 and i>=(n//4)) or (i-j==0 and (i<=n//2 and i>=n//4)) or (i+j==n-1 and (i<n//2 and i>=n//4)) or (i-j==-(n//2) and i>=n//4):\n",
    "                print(chr(90-i),sep =' ' ,end =' ')\n",
    "            else:\n",
    "                print(\" \", end =' ')\n",
    "        print()\n",
    "\n",
    "antidiagonal(n)"
   ]
  },
  {
   "cell_type": "code",
   "execution_count": 194,
   "metadata": {},
   "outputs": [
    {
     "name": "stdout",
     "output_type": "stream",
     "text": [
      "                                          \n",
      "                                          \n",
      "                                          \n",
      "                                          \n",
      "                                          \n",
      "          *                   *           \n",
      "        *   *               *   *         \n",
      "      *       *           *       *       \n",
      "    *           *       *           *     \n",
      "  *               *   *               *   \n",
      "*                   *                   * \n",
      "                                          \n",
      "                                          \n",
      "                                          \n",
      "                                          \n",
      "                                          \n",
      "                                          \n",
      "                                          \n",
      "                                          \n",
      "                                          \n",
      "                                          \n"
     ]
    }
   ],
   "source": [
    "n = int(input(\"Enter a number to print: \"))\n",
    "\n",
    "def antidiagonal(n):\n",
    "    n = n | 1\n",
    "    for i in range(n):\n",
    "        for j in range(n):\n",
    "            if (i+j==n//2 and i>=(n//4)) or (i-j==0 and (i<=n//2 and i>=n//4)) or (i+j==n-1 and (i<n//2 and i>=n//4)) or (i-j==-(n//2) and i>=n//4):\n",
    "                print(\"*\",sep =' ' ,end =' ')\n",
    "            else:\n",
    "                print(\" \", end =' ')\n",
    "        print()\n",
    "\n",
    "antidiagonal(n)"
   ]
  },
  {
   "cell_type": "code",
   "execution_count": 197,
   "metadata": {},
   "outputs": [
    {
     "name": "stdout",
     "output_type": "stream",
     "text": [
      "                    *                     \n",
      "                  * * *                   \n",
      "                *   *   *                 \n",
      "              *     *     *               \n",
      "            *       *       *             \n",
      "          *         *         *           \n",
      "        *           *           *         \n",
      "      *             *             *       \n",
      "    *               *               *     \n",
      "  *                 *                 *   \n",
      "* * * * * * * * * * * * * * * * * * * * * \n",
      "  *                 *                 *   \n",
      "    *               *               *     \n",
      "      *             *             *       \n",
      "        *           *           *         \n",
      "          *         *         *           \n",
      "            *       *       *             \n",
      "              *     *     *               \n",
      "                *   *   *                 \n",
      "                  * * *                   \n",
      "                    *                     \n"
     ]
    }
   ],
   "source": [
    "n = int(input(\"Enter a number to print: \"))\n",
    "\n",
    "def antidiagonal(n):\n",
    "    n = n | 1\n",
    "    for i in range(n):\n",
    "        for j in range(n):\n",
    "            if i+j==n//2 or i-j==n//2 or i-j==-(n//2) or i+j==3*(n//2) or i==n//2 or j==n//2:\n",
    "                print(\"*\",sep =' ' ,end =' ')\n",
    "            else:\n",
    "                print(\" \", end =' ')\n",
    "        print()\n",
    "\n",
    "antidiagonal(n)"
   ]
  },
  {
   "cell_type": "code",
   "execution_count": 187,
   "metadata": {},
   "outputs": [
    {
     "name": "stdout",
     "output_type": "stream",
     "text": [
      "                                          \n",
      "                                          \n",
      "                                          \n",
      "                                          \n",
      "                                          \n",
      "                              *           \n",
      "                                *         \n",
      "                                  *       \n",
      "                                    *     \n",
      "                                      *   \n",
      "* * * * * * * * * * * * * * * * * * * * * \n",
      "                                      *   \n",
      "                                    *     \n",
      "                                  *       \n",
      "                                *         \n",
      "                              *           \n",
      "                                          \n",
      "                                          \n",
      "                                          \n",
      "                                          \n",
      "                                          \n"
     ]
    }
   ],
   "source": [
    "n = int(input(\"Enter a number to print: \"))\n",
    "\n",
    "def antidiagonal(n):\n",
    "    n = n | 1\n",
    "    for i in range(0,n):\n",
    "        for j in range(n):\n",
    "            if i==n//2  or (i-j==-(n//2) and i>=n//4)  or( i+j==3*(n//2) and j>=3*(n//4)) :\n",
    "                print(\"*\",sep =' ' ,end =' ')\n",
    "            else:\n",
    "                print(\" \", end =' ')\n",
    "        print()\n",
    "\n",
    "antidiagonal(n)"
   ]
  },
  {
   "cell_type": "code",
   "execution_count": 207,
   "metadata": {},
   "outputs": [
    {
     "name": "stdout",
     "output_type": "stream",
     "text": [
      "* * * * * * * * * * * \n",
      "* * * * *   * * * * * \n",
      "* * * *       * * * * \n",
      "* * *           * * * \n",
      "* *               * * \n",
      "*                   * \n",
      "* *               * * \n",
      "* * *           * * * \n",
      "* * * *       * * * * \n",
      "* * * * *   * * * * * \n",
      "* * * * * * * * * * * \n"
     ]
    }
   ],
   "source": [
    "n = int(input(\"Enter a number to print: \"))\n",
    "\n",
    "def antidiagonal(n):\n",
    "    n = n | 1\n",
    "    for i in range(n):\n",
    "        for j in range(n):\n",
    "            if (j==0 and i<=n//2) or (i==0 and j<=n//2) or i+j<=n//2 or (i==0 and j>=n//2) or (j==n-1 and i<=n//2) or i-j<=-(n//2) or (j==0 and i>=n//2) or (i==n-1 and j<=n//2) or i-j>= n//2 or (i==n-1 and j>=n//2) or (j==n-1 and i>=n//2) or i+j>=3*(n//2):\n",
    "                print(\"*\",sep =' ' ,end =' ')\n",
    "            else:\n",
    "                print(\" \", end =' ')\n",
    "        print()\n",
    "\n",
    "antidiagonal(n)"
   ]
  },
  {
   "cell_type": "code",
   "execution_count": 31,
   "metadata": {},
   "outputs": [
    {
     "name": "stdout",
     "output_type": "stream",
     "text": [
      "10         0\n",
      " 9       1 \n",
      "  8     2  \n",
      "   7   3   \n",
      "    6 4    \n",
      "     5     \n",
      "    6 4    \n",
      "   7   3   \n",
      "  8     2  \n",
      " 9       1 \n",
      "10         0\n"
     ]
    }
   ],
   "source": [
    "n = int(input(\"Enter a number to print: \"))\n",
    "\n",
    "def antidiagonal(n):\n",
    "    n = n | 1\n",
    "    for i in range(n):\n",
    "        for j in range(n):\n",
    "            if i-j==0 or i+j==n-1:\n",
    "                \n",
    "                print((n-j-1), end='')\n",
    "            else:\n",
    "                print(\" \", end='')\n",
    "        print()\n",
    "\n",
    "antidiagonal(n)\n"
   ]
  },
  {
   "cell_type": "code",
   "execution_count": 75,
   "metadata": {},
   "outputs": [
    {
     "name": "stdout",
     "output_type": "stream",
     "text": [
      "          A          \n",
      "         ABC         \n",
      "        ABCDE        \n",
      "       ABCDEFG       \n",
      "      ABCDEFGHI      \n",
      "     ABCDEFGHIJK     \n",
      "    ABCDEFGHIJKLM    \n",
      "   ABCDEFGHIJKLMNO   \n",
      "  ABCDEFGHIJKLMNOPQ  \n",
      " ABCDEFGHIJKLMNOPQRS \n",
      "ABCDEFGHIJKLMNOPQRSTU\n",
      "                     \n",
      "                     \n",
      "                     \n",
      "                     \n",
      "                     \n",
      "                     \n",
      "                     \n",
      "                     \n",
      "                     \n",
      "                     \n"
     ]
    }
   ],
   "source": [
    "n = int(input(\"Enter a number to print: \"))\n",
    "\n",
    "def antidiagonal(n):\n",
    "    n = n | 1\n",
    "    for i in range(n):\n",
    "        a=65\n",
    "        for j in range(n):\n",
    "            \n",
    "            if i+j>=n//2 and  i-j>=-(n//2)  and  i<=n//2:\n",
    "                \n",
    "                print(chr(a), end='')\n",
    "                a+=1\n",
    "                \n",
    "                \n",
    "            else:\n",
    "                print(\" \", end='')\n",
    "        print()\n",
    "\n",
    "antidiagonal(n)\n"
   ]
  },
  {
   "cell_type": "code",
   "execution_count": 108,
   "metadata": {},
   "outputs": [
    {
     "name": "stdout",
     "output_type": "stream",
     "text": [
      "          A          \n",
      "         BBC         \n",
      "        CCCDD        \n",
      "       DDDDEEE       \n",
      "      EEEEEFFFF      \n",
      "     FFFFFFGGGGG     \n",
      "    GGGGGGGHHHHHH    \n",
      "   HHHHHHHHIIIIIII   \n",
      "  IIIIIIIIIJJJJJJJJ  \n",
      " JJJJJJJJJJKKKKKKKKK \n",
      "KKKKKKKKKKKLLLLLLLLLL\n",
      "                     \n",
      "                     \n",
      "                     \n",
      "                     \n",
      "                     \n",
      "                     \n",
      "                     \n",
      "                     \n",
      "                     \n",
      "                     \n"
     ]
    }
   ],
   "source": [
    "n = int(input(\"Enter a number to print: \"))\n",
    "\n",
    "def antidiagonal(n):\n",
    "    n = n | 1\n",
    "    for i in range(n):\n",
    "        a=65\n",
    "        b=66\n",
    "        for j in range(n):\n",
    "            \n",
    "            if  i+j>=n//2 and i<=n//2 and j<=n//2:\n",
    "                print(chr(65+i), end='')\n",
    "                a+=1\n",
    "            elif i-j>=-(n//2) and i<=n//2 and j>=n//2:   \n",
    "                print(chr(66+i), sep='',end='')  \n",
    "            else:\n",
    "                print(\" \", end='')\n",
    "        print()\n",
    "\n",
    "antidiagonal(n)\n"
   ]
  },
  {
   "cell_type": "code",
   "execution_count": 143,
   "metadata": {},
   "outputs": [
    {
     "name": "stdout",
     "output_type": "stream",
     "text": [
      "          *          \n",
      "         ***         \n",
      "        *****        \n",
      "       *******       \n",
      "      *********      \n",
      "     ***********     \n",
      "    *************    \n",
      "   ***************   \n",
      "  *****************  \n",
      " ******************* \n",
      "**********#**********\n",
      " ******************* \n",
      "  *****************  \n",
      "   ***************   \n",
      "    *************    \n",
      "     ***********     \n",
      "      *********      \n",
      "       *******       \n",
      "        *****        \n",
      "         ***         \n",
      "          *          \n"
     ]
    }
   ],
   "source": [
    "n = int(input(\"Enter a number to print: \"))\n",
    "\n",
    "def antidiagonal(n):\n",
    "    n = n | 1\n",
    "    for i in range(n):\n",
    "        a=65\n",
    "        b=66\n",
    "        for j in range(n):\n",
    "            if (i==n//2) and (j==n//2):\n",
    "                print(\"#\",end='')   \n",
    "            elif (i+j>=n//2 and i<=n//2 and j<=n//2) or (i-j<=n//2 and i>=n//2 and j<=n//2) or (i-j>=-(n//2) and i<=n//2 and j>=n//2 ) or( i+j<=3*(n//2) and i>=n//2 and j>=n//2 ) :\n",
    "                print('*', end='')\n",
    "              \n",
    "            else:\n",
    "                print(\" \", end='')\n",
    "        print()\n",
    "\n",
    "antidiagonal(n)\n"
   ]
  },
  {
   "cell_type": "code",
   "execution_count": 146,
   "metadata": {},
   "outputs": [
    {
     "name": "stdout",
     "output_type": "stream",
     "text": [
      "* * * * * * * * * * \n",
      "* * * * *   * * * * \n",
      "* * * *       * * * \n",
      "* * *           * * \n",
      "* *               * \n",
      "*                 * \n",
      "* *               * \n",
      "* * *           * * \n",
      "* * * *       * * * \n",
      "* * * * * * * * * * \n"
     ]
    }
   ],
   "source": [
    "n = int(input(\"Enter a number to print: \"))\n",
    "\n",
    "def antidiagonal(n):\n",
    "    for i in range(n):\n",
    "        for j in range(n):\n",
    "            if (j==0 and i<=n//2) or (i==0 and j<=n//2) or i+j<=n//2 or (i==0 and j>=n//2) or (j==n-1 and i<=n//2) or i-j<=-(n//2) or (j==0 and i>=n//2) or (i==n-1 and j<=n//2) or i-j>= n//2 or (i==n-1 and j>=n//2) or (j==n-1 and i>=n//2) or i+j>=3*(n//2):\n",
    "                print(\"*\",sep =' ' ,end =' ')\n",
    "            else:\n",
    "                print(\" \", end =' ')\n",
    "        print()\n",
    "\n",
    "antidiagonal(n)"
   ]
  },
  {
   "cell_type": "code",
   "execution_count": 193,
   "metadata": {},
   "outputs": [
    {
     "name": "stdout",
     "output_type": "stream",
     "text": [
      "          *         \n",
      "          *         \n",
      "          *       * \n",
      "          *       * \n",
      "          *       * \n",
      "          *       * \n",
      "    *     *       * \n",
      "    *     *       * \n",
      "    *     *       * \n",
      "* * * * * * * * * * \n"
     ]
    }
   ],
   "source": [
    "n = int(input(\"Enter a number to print: \"))\n",
    "\n",
    "def antidiagonal(n):\n",
    "    for i in range(n):\n",
    "        for j in range(n):\n",
    "            if i==n-1 or j==n//2 or (j==n-1 and i>=n//4) or (j==n//4 and i>=3*(n//4)) :\n",
    "                print('*',sep =' ' ,end =' ')\n",
    "            else:\n",
    "                print(\" \", end =' ')\n",
    "        print()\n",
    "\n",
    "antidiagonal(n)"
   ]
  }
 ],
 "metadata": {
  "kernelspec": {
   "display_name": "Python 3",
   "language": "python",
   "name": "python3"
  },
  "language_info": {
   "codemirror_mode": {
    "name": "ipython",
    "version": 3
   },
   "file_extension": ".py",
   "mimetype": "text/x-python",
   "name": "python",
   "nbconvert_exporter": "python",
   "pygments_lexer": "ipython3",
   "version": "3.11.4"
  }
 },
 "nbformat": 4,
 "nbformat_minor": 2
}
