{
 "cells": [
  {
   "cell_type": "code",
   "execution_count": 6,
   "metadata": {},
   "outputs": [
    {
     "name": "stdout",
     "output_type": "stream",
     "text": [
      "D \n",
      "D D \n",
      "D D D \n",
      "D D D D \n",
      "D D D D D \n",
      "D D D D D D \n",
      "D D D D D \n",
      "D D D D \n",
      "D D D \n",
      "D D \n",
      "D \n"
     ]
    }
   ],
   "source": [
    "def p1(n):\n",
    "    n |= 1\n",
    "    for i in range (n):\n",
    "        for j in range(n):\n",
    "                if j == 0 or (i - j >= 0 and i <= n // 2) or (i + j <= n - 1 and i >= n // 2):\n",
    "                        print(\"D\", end=' ')\n",
    "        print()     \n",
    "p1(int(input(\"N: \")))              "
   ]
  },
  {
   "cell_type": "code",
   "execution_count": 7,
   "metadata": {},
   "outputs": [
    {
     "name": "stdout",
     "output_type": "stream",
     "text": [
      "5 \n",
      "5 4 \n",
      "5 4 3 \n",
      "5 4 3 2 \n",
      "5 4 3 2 1 \n",
      "5 4 3 2 1 0 \n",
      "5 4 3 2 1 \n",
      "5 4 3 2 \n",
      "5 4 3 \n",
      "5 4 \n",
      "5 \n"
     ]
    }
   ],
   "source": [
    "def p2(n):\n",
    "    n |= 1\n",
    "    for i in range (n):\n",
    "        for j in range(n):\n",
    "                if j == 0 or (i - j >= 0 and i <= n // 2) or (i + j <= n - 1 and i >= n // 2):\n",
    "                        print((n // 2) - j, end=' ')  \n",
    "        print()     \n",
    "p2(int(input(\"N: \")))  "
   ]
  },
  {
   "cell_type": "code",
   "execution_count": 16,
   "metadata": {},
   "outputs": [
    {
     "name": "stdout",
     "output_type": "stream",
     "text": [
      "5 \n",
      "4 5 \n",
      "3 4 5 \n",
      "2 3 4 5 \n",
      "1 2 3 4 5 \n",
      "0 1 2 3 4 5 \n",
      "1 2 3 4 5 \n",
      "2 3 4 5 \n",
      "3 4 5 \n",
      "4 5 \n",
      "5 \n"
     ]
    }
   ],
   "source": [
    "def p3(n):\n",
    "    n |= 1\n",
    "    flag = 0\n",
    "    for i in range (n):\n",
    "        if i < ((n + 1) / 2) :\n",
    "            flag += 1\n",
    "        else :\n",
    "            flag -= 1\n",
    "        for j in range(flag):\n",
    "                print(int(((n + 1) / 2) - flag + j), end = \" \") \n",
    "        print()     \n",
    "p3(int(input(\"N: \")))  "
   ]
  },
  {
   "cell_type": "code",
   "execution_count": 4,
   "metadata": {},
   "outputs": [
    {
     "name": "stdout",
     "output_type": "stream",
     "text": [
      "F \n",
      "F E \n",
      "F E D \n",
      "F E D C \n",
      "F E D C B \n",
      "F E D C B A \n",
      "F E D C B \n",
      "F E D C \n",
      "F E D \n",
      "F E \n",
      "F \n"
     ]
    }
   ],
   "source": [
    "def p4(n):\n",
    "    n |= 1\n",
    "    flag = 0\n",
    "    for i in range (n):\n",
    "        if i < ((n + 1) / 2) :\n",
    "            flag += 1\n",
    "        else :\n",
    "            flag -= 1\n",
    "        for j in range(flag):\n",
    "            print(chr(64 + int(((n + 1) / 2) - j)), end = \" \")\n",
    "        print()\n",
    "\n",
    "p4(int(input(\"N: \")))  "
   ]
  },
  {
   "cell_type": "code",
   "execution_count": 5,
   "metadata": {},
   "outputs": [
    {
     "name": "stdout",
     "output_type": "stream",
     "text": [
      "F \n",
      "E F \n",
      "D E F \n",
      "C D E F \n",
      "B C D E F \n",
      "A B C D E F \n",
      "B C D E F \n",
      "C D E F \n",
      "D E F \n",
      "E F \n",
      "F \n"
     ]
    }
   ],
   "source": [
    "def p5(n):\n",
    "    n |= 1\n",
    "    flag = 0\n",
    "    for i in range (n):\n",
    "        if i < ((n + 1) / 2) :\n",
    "            flag += 1\n",
    "        else :\n",
    "            flag -= 1\n",
    "        for j in range(flag):\n",
    "            print(chr(65 + int(((n + 1) / 2) - flag + j)), end = \" \") \n",
    "        print()     \n",
    "p5(int(input(\"N: \")))  "
   ]
  },
  {
   "cell_type": "code",
   "execution_count": 39,
   "metadata": {},
   "outputs": [
    {
     "name": "stdout",
     "output_type": "stream",
     "text": [
      "            D \n",
      "          D D \n",
      "        D D D \n",
      "      D D D D \n",
      "    D D D D D \n",
      "  D D D D D D \n",
      "    D D D D D \n",
      "      D D D D \n",
      "        D D D \n",
      "          D D \n",
      "            D \n"
     ]
    }
   ],
   "source": [
    "def p6(n):\n",
    "    n |= 1\n",
    "    flag = 0\n",
    "    for i in range (n):\n",
    "        if i < int((n + 1) / 2):\n",
    "            for j in range (int((n + 1) / 2) - i):\n",
    "                print(\" \", end = \" \")\n",
    "        else:\n",
    "            for j in range (i - int((n + 1) / 2) + 2):\n",
    "                print(\" \", end = \" \")\n",
    "        if i < ((n + 1) // 2):\n",
    "            flag += 1\n",
    "        else :\n",
    "            flag -= 1\n",
    "        for j in range(flag):\n",
    "            print((\"D\"), end = \" \") \n",
    "        print()     \n",
    "p6(int(input(\"N: \")))  "
   ]
  },
  {
   "cell_type": "code",
   "execution_count": 70,
   "metadata": {},
   "outputs": [
    {
     "name": "stdout",
     "output_type": "stream",
     "text": [
      "            5 \n",
      "          5 4 \n",
      "        5 4 3 \n",
      "      5 4 3 2 \n",
      "    5 4 3 2 1 \n",
      "  5 4 3 2 1 0 \n",
      "    5 4 3 2 1 \n",
      "      5 4 3 2 \n",
      "        5 4 3 \n",
      "          5 4 \n",
      "            5 \n"
     ]
    }
   ],
   "source": [
    "def p7(n):\n",
    "    n |= 1\n",
    "    flag = 0\n",
    "    for i in range (n):\n",
    "        if i < int((n + 1) / 2):\n",
    "            for j in range (int((n + 1) / 2) - i):\n",
    "                print(\" \", end = \" \")\n",
    "        else:\n",
    "            for j in range (i - int((n + 1) / 2) + 2):\n",
    "                print(\" \", end = \" \")\n",
    "        if i < ((n + 1) // 2):\n",
    "            flag += 1\n",
    "        else :\n",
    "            flag -= 1\n",
    "        for j in range(flag):\n",
    "            print(n - j - int(((n + 1) / 2)), end = \" \")  \n",
    "        print()     \n",
    "p7(int(input(\"N: \")))  "
   ]
  },
  {
   "cell_type": "code",
   "execution_count": 40,
   "metadata": {},
   "outputs": [
    {
     "name": "stdout",
     "output_type": "stream",
     "text": [
      "            5 \n",
      "          4 5 \n",
      "        3 4 5 \n",
      "      2 3 4 5 \n",
      "    1 2 3 4 5 \n",
      "  0 1 2 3 4 5 \n",
      "    1 2 3 4 5 \n",
      "      2 3 4 5 \n",
      "        3 4 5 \n",
      "          4 5 \n",
      "            5 \n"
     ]
    }
   ],
   "source": [
    "def p8(n):\n",
    "    n |= 1\n",
    "    flag = 0\n",
    "    for i in range (n):\n",
    "        if i < int((n + 1) / 2):\n",
    "            for j in range (int((n + 1) / 2) - i):\n",
    "                print(\" \", end = \" \")\n",
    "        else:\n",
    "            for j in range (i - int((n + 1) / 2) + 2):\n",
    "                print(\" \", end = \" \")\n",
    "        if i < ((n + 1) // 2):\n",
    "            flag += 1\n",
    "        else :\n",
    "            flag -= 1\n",
    "        for j in range(flag):\n",
    "            print((int((n + 1) / 2)) - flag + j, end = \" \") \n",
    "        print()     \n",
    "p8(int(input(\"N: \")))  "
   ]
  },
  {
   "cell_type": "code",
   "execution_count": 57,
   "metadata": {},
   "outputs": [
    {
     "name": "stdout",
     "output_type": "stream",
     "text": [
      "            f \n",
      "          e f \n",
      "        d e f \n",
      "      c d e f \n",
      "    b c d e f \n",
      "  a b c d e f \n",
      "    b c d e f \n",
      "      c d e f \n",
      "        d e f \n",
      "          e f \n",
      "            f \n"
     ]
    }
   ],
   "source": [
    "def p9(n):\n",
    "    n |= 1\n",
    "    flag = 0\n",
    "    for i in range (n):\n",
    "        if i < int((n + 1) / 2):\n",
    "            for j in range (int((n + 1) / 2) - i):\n",
    "                print(\" \", end = \" \")\n",
    "        else:\n",
    "            for j in range (i - int((n + 1) / 2) + 2):\n",
    "                print(\" \", end = \" \")\n",
    "        if i < ((n + 1) // 2):\n",
    "            flag += 1\n",
    "        else :\n",
    "            flag -= 1\n",
    "        for j in range(flag):\n",
    "            print(chr((97) + int((n + 1) / 2) - flag + j), end = \" \") \n",
    "        print()     \n",
    "p9(int(input(\"N: \")))  "
   ]
  },
  {
   "cell_type": "code",
   "execution_count": 45,
   "metadata": {},
   "outputs": [
    {
     "name": "stdout",
     "output_type": "stream",
     "text": [
      "            f \n",
      "          f e \n",
      "        f e d \n",
      "      f e d c \n",
      "    f e d c b \n",
      "  f e d c b a \n",
      "    f e d c b \n",
      "      f e d c \n",
      "        f e d \n",
      "          f e \n",
      "            f \n"
     ]
    }
   ],
   "source": [
    "def p10(n):\n",
    "    n |= 1\n",
    "    flag = 0\n",
    "    for i in range (n):\n",
    "        if i < int((n + 1) / 2):\n",
    "            for j in range (int((n + 1) / 2) - i):\n",
    "                print(\" \", end = \" \")\n",
    "        else:\n",
    "            for j in range (i - int((n + 1) / 2) + 2):\n",
    "                print(\" \", end = \" \")\n",
    "        if i < ((n + 1) // 2):\n",
    "            flag += 1\n",
    "        else :\n",
    "            flag -= 1\n",
    "        for j in range(flag):\n",
    "            print(chr(96 + (int((n + 1) / 2)) - j), end = \" \") \n",
    "        print()     \n",
    "p10(int(input(\"N: \")))  "
   ]
  },
  {
   "cell_type": "code",
   "execution_count": 65,
   "metadata": {},
   "outputs": [
    {
     "name": "stdout",
     "output_type": "stream",
     "text": [
      "          * \n",
      "         * * \n",
      "        * * * \n",
      "       * * * * \n",
      "      * * * * * \n",
      "     * * * * * * \n",
      "    * * * * * * * \n",
      "   * * * * * * * * \n",
      "  * * * * * * * * * \n",
      " * * * * * * * * * * \n",
      "* * * * * * * * * * * \n"
     ]
    }
   ],
   "source": [
    "def p11(n):\n",
    "    n |= 1\n",
    "    for i in range (n):\n",
    "        for j in range(n - 1 - i , 0 , -1):\n",
    "            print(\" \", end = \"\") \n",
    "        for k in range(i  + 1):\n",
    "            print(\"*\", end = \" \")\n",
    "        print()     \n",
    "p11(int(input(\"N: \")))  "
   ]
  },
  {
   "cell_type": "code",
   "execution_count": 70,
   "metadata": {},
   "outputs": [
    {
     "name": "stdout",
     "output_type": "stream",
     "text": [
      "      1 \n",
      "     2 2 \n",
      "    3 3 3 \n",
      "   4 4 4 4 \n",
      "  5 5 5 5 5 \n",
      " 6 6 6 6 6 6 \n",
      "7 7 7 7 7 7 7 \n"
     ]
    }
   ],
   "source": [
    "def p12(n):\n",
    "    n |= 1\n",
    "    for i in range (n):\n",
    "        for j in range(n - 1 - i , 0 , -1):\n",
    "            print(\" \", end = \"\") \n",
    "        for k in range(i + 1):\n",
    "            print(i + 1, end = \" \")\n",
    "        print()     \n",
    "p12(int(input(\"N: \")))  "
   ]
  },
  {
   "cell_type": "code",
   "execution_count": 72,
   "metadata": {},
   "outputs": [
    {
     "name": "stdout",
     "output_type": "stream",
     "text": [
      "      1 \n",
      "     1 2 \n",
      "    1 2 3 \n",
      "   1 2 3 4 \n",
      "  1 2 3 4 5 \n",
      " 1 2 3 4 5 6 \n",
      "1 2 3 4 5 6 7 \n"
     ]
    }
   ],
   "source": [
    "def p13(n):\n",
    "    n |= 1\n",
    "    for i in range (n):\n",
    "        for j in range(n - 1 - i , 0 , -1):\n",
    "            print(\" \", end = \"\") \n",
    "        for k in range(i + 1):\n",
    "            print(k + 1, end = \" \")\n",
    "        print()     \n",
    "p13(int(input(\"N: \")))"
   ]
  },
  {
   "cell_type": "code",
   "execution_count": 73,
   "metadata": {},
   "outputs": [
    {
     "name": "stdout",
     "output_type": "stream",
     "text": [
      "          A \n",
      "         B B \n",
      "        C C C \n",
      "       D D D D \n",
      "      E E E E E \n",
      "     F F F F F F \n",
      "    G G G G G G G \n",
      "   H H H H H H H H \n",
      "  I I I I I I I I I \n",
      " J J J J J J J J J J \n",
      "K K K K K K K K K K K \n"
     ]
    }
   ],
   "source": [
    "def p14(n):\n",
    "    n |= 1\n",
    "    for i in range (n):\n",
    "        for j in range(n - 1 - i , 0 , -1):\n",
    "            print(\" \", end = \"\") \n",
    "        for k in range(i+ 1):\n",
    "            print(chr(65 + i), end = \" \")\n",
    "        print()     \n",
    "p14(int(input(\"N: \"))) "
   ]
  },
  {
   "cell_type": "code",
   "execution_count": 74,
   "metadata": {},
   "outputs": [
    {
     "name": "stdout",
     "output_type": "stream",
     "text": [
      "          A \n",
      "         A B \n",
      "        A B C \n",
      "       A B C D \n",
      "      A B C D E \n",
      "     A B C D E F \n",
      "    A B C D E F G \n",
      "   A B C D E F G H \n",
      "  A B C D E F G H I \n",
      " A B C D E F G H I J \n",
      "A B C D E F G H I J K \n"
     ]
    }
   ],
   "source": [
    "def p15(n):\n",
    "    n |= 1\n",
    "    for i in range (n):\n",
    "        for j in range(n - 1 - i , 0 , -1):\n",
    "            print(\" \", end = \"\") \n",
    "        for k in range(i + 1):\n",
    "            print(chr(65 + k), end = \" \")\n",
    "        print()     \n",
    "p15(int(input(\"N: \")))"
   ]
  },
  {
   "cell_type": "code",
   "execution_count": 75,
   "metadata": {},
   "outputs": [
    {
     "name": "stdout",
     "output_type": "stream",
     "text": [
      "D D D D D D D D D D \n",
      " D D D D D D D D D \n",
      "  D D D D D D D D \n",
      "   D D D D D D D \n",
      "    D D D D D D \n",
      "     D D D D D \n",
      "      D D D D \n",
      "       D D D \n",
      "        D D \n",
      "         D \n",
      "          \n"
     ]
    }
   ],
   "source": [
    "def p16(n):\n",
    "    n |= 1\n",
    "    for i in range (n):\n",
    "        for j in range(i):\n",
    "            print(\" \", end = \"\") \n",
    "        for k in range(n - i - 1):\n",
    "            print(\"D\", end = \" \")\n",
    "        print()     \n",
    "p16(int(input(\"N: \")))"
   ]
  },
  {
   "cell_type": "code",
   "execution_count": 76,
   "metadata": {},
   "outputs": [
    {
     "name": "stdout",
     "output_type": "stream",
     "text": [
      "9 9 9 9 9 9 9 9 \n",
      " 8 8 8 8 8 8 8 \n",
      "  7 7 7 7 7 7 \n",
      "   6 6 6 6 6 \n",
      "    5 5 5 5 \n",
      "     4 4 4 \n",
      "      3 3 \n",
      "       2 \n",
      "        \n"
     ]
    }
   ],
   "source": [
    "def p17(n):\n",
    "    n |= 1\n",
    "    for i in range (n):\n",
    "        for j in range(i):\n",
    "            print(\" \", end = \"\") \n",
    "        for k in range(n - i - 1):\n",
    "            print(n - i, end = \" \")\n",
    "        print()     \n",
    "p17(int(input(\"N: \")))"
   ]
  },
  {
   "cell_type": "code",
   "execution_count": 78,
   "metadata": {},
   "outputs": [
    {
     "name": "stdout",
     "output_type": "stream",
     "text": [
      "8 7 6 5 4 3 2 1 \n",
      " 7 6 5 4 3 2 1 \n",
      "  6 5 4 3 2 1 \n",
      "   5 4 3 2 1 \n",
      "    4 3 2 1 \n",
      "     3 2 1 \n",
      "      2 1 \n",
      "       1 \n",
      "        \n"
     ]
    }
   ],
   "source": [
    "def p18(n):\n",
    "    n |= 1\n",
    "    for i in range (n):\n",
    "        for j in range(i):\n",
    "            print(\" \", end = \"\") \n",
    "        for k in range(n - i - 1):\n",
    "            print(n - i - k - 1, end = \" \")\n",
    "        print()     \n",
    "p18(int(input(\"N: \")))"
   ]
  },
  {
   "cell_type": "code",
   "execution_count": 79,
   "metadata": {},
   "outputs": [
    {
     "name": "stdout",
     "output_type": "stream",
     "text": [
      "J J J J J J J J \n",
      " I I I I I I I \n",
      "  H H H H H H \n",
      "   G G G G G \n",
      "    F F F F \n",
      "     E E E \n",
      "      D D \n",
      "       C \n",
      "        \n"
     ]
    }
   ],
   "source": [
    "def p19(n):\n",
    "    n |= 1\n",
    "    for i in range (n):\n",
    "        for j in range(i):\n",
    "            print(\" \", end = \"\") \n",
    "        for k in range(n - i - 1):\n",
    "            print(chr(65 + n - i), end = \" \")\n",
    "        print()     \n",
    "p19(int(input(\"N: \")))"
   ]
  },
  {
   "cell_type": "code",
   "execution_count": 80,
   "metadata": {},
   "outputs": [
    {
     "name": "stdout",
     "output_type": "stream",
     "text": [
      "H G F E D C B A \n",
      " G F E D C B A \n",
      "  F E D C B A \n",
      "   E D C B A \n",
      "    D C B A \n",
      "     C B A \n",
      "      B A \n",
      "       A \n",
      "        \n"
     ]
    }
   ],
   "source": [
    "def p20(n):\n",
    "    n |= 1\n",
    "    for i in range (n):\n",
    "        for j in range(i):\n",
    "            print(\" \", end = \"\") \n",
    "        for k in range(n - i - 1):\n",
    "            print(chr(63 + n - i - k), end = \" \")\n",
    "        print()     \n",
    "p20(int(input(\"N: \")))"
   ]
  },
  {
   "cell_type": "code",
   "execution_count": 81,
   "metadata": {},
   "outputs": [
    {
     "name": "stdout",
     "output_type": "stream",
     "text": [
      "A B C D E F G H \n",
      " A B C D E F G \n",
      "  A B C D E F \n",
      "   A B C D E \n",
      "    A B C D \n",
      "     A B C \n",
      "      A B \n",
      "       A \n",
      "        \n"
     ]
    }
   ],
   "source": [
    "def p21(n):\n",
    "    n |= 1\n",
    "    for i in range (n):\n",
    "        for j in range(i):\n",
    "            print(\" \", end = \"\") \n",
    "        for k in range(n - i- 1):\n",
    "            print(chr(65 + k), end = \" \")\n",
    "        print()     \n",
    "p21(int(input(\"N: \")))"
   ]
  },
  {
   "cell_type": "code",
   "execution_count": 113,
   "metadata": {},
   "outputs": [
    {
     "name": "stdout",
     "output_type": "stream",
     "text": [
      "    D \n",
      "   D D \n",
      "  D D D \n",
      " D D D D \n",
      "D D D D D \n",
      " D D D D \n",
      "  D D D \n",
      "   D D \n",
      "    D \n"
     ]
    }
   ],
   "source": [
    "def p22(n):\n",
    "    n |= 1\n",
    "    for i in range (n):\n",
    "        if i < n//2:\n",
    "            for k in range((n // 2) - i - 1, -1, -1):\n",
    "                print(\" \", end = \"\")\n",
    "        else :\n",
    "            for k in range(i - (n // 2) - 1, -1, -1):\n",
    "                print(\" \", end = \"\")\n",
    "        if i < n//2:\n",
    "            for j in range(i + 1):\n",
    "                print(\"D\", end = \" \")\n",
    "        else :\n",
    "            for j in range(n - i):\n",
    "                print(\"D\", end = \" \")\n",
    "        print()     \n",
    "p22(int(input(\"N: \")))"
   ]
  },
  {
   "cell_type": "code",
   "execution_count": 115,
   "metadata": {},
   "outputs": [
    {
     "name": "stdout",
     "output_type": "stream",
     "text": [
      "    1 \n",
      "   2 2 \n",
      "  3 3 3 \n",
      " 4 4 4 4 \n",
      "5 5 5 5 5 \n",
      " 4 4 4 4 \n",
      "  3 3 3 \n",
      "   2 2 \n",
      "    1 \n"
     ]
    }
   ],
   "source": [
    "def p23(n):\n",
    "    n |= 1\n",
    "    for i in range (n):\n",
    "        if i < n//2:\n",
    "            for k in range((n // 2) - i - 1, -1, -1):\n",
    "                print(\" \", end = \"\")\n",
    "        else :\n",
    "            for k in range(i - (n // 2) - 1, -1, -1):\n",
    "                print(\" \", end = \"\")\n",
    "        if i <= n//2:\n",
    "            for j in range(i + 1):\n",
    "                print(i + 1, end = \" \")\n",
    "        else :\n",
    "            for j in range(n - i):\n",
    "                print(n - i , end = \" \")\n",
    "        print()     \n",
    "p23(int(input(\"N: \")))"
   ]
  },
  {
   "cell_type": "code",
   "execution_count": 118,
   "metadata": {},
   "outputs": [
    {
     "name": "stdout",
     "output_type": "stream",
     "text": [
      "    1 \n",
      "   1 2 \n",
      "  1 2 3 \n",
      " 1 2 3 4 \n",
      "1 2 3 4 5 \n",
      " 2 3 4 5 \n",
      "  3 4 5 \n",
      "   4 5 \n",
      "    5 \n"
     ]
    }
   ],
   "source": [
    "def p24(n):\n",
    "    n |= 1\n",
    "    for i in range (n):\n",
    "        if i < n//2:\n",
    "            for k in range((n // 2) - i - 1, -1, -1):\n",
    "                print(\" \", end = \"\")\n",
    "        else :\n",
    "            for k in range(i - (n // 2) - 1, -1, -1):\n",
    "                print(\" \", end = \"\")\n",
    "        if i <= n//2:\n",
    "            for j in range(i + 1):\n",
    "                print(j + 1, end = \" \")\n",
    "        else :\n",
    "            for j in range(n - i):\n",
    "                print(j - (n // 2) + i + 1, end = \" \")\n",
    "        print()     \n",
    "p24(int(input(\"N: \")))"
   ]
  },
  {
   "cell_type": "code",
   "execution_count": 121,
   "metadata": {},
   "outputs": [
    {
     "name": "stdout",
     "output_type": "stream",
     "text": [
      "    1 \n",
      "   1 2 \n",
      "  1 2 3 \n",
      " 1 2 3 4 \n",
      "1 2 3 4 5 \n",
      " 1 2 3 4 \n",
      "  1 2 3 \n",
      "   1 2 \n",
      "    1 \n"
     ]
    }
   ],
   "source": [
    "def p25(n):\n",
    "    n |= 1\n",
    "    for i in range (n):\n",
    "        if i < n//2:\n",
    "            for k in range((n // 2) - i - 1, -1, -1):\n",
    "                print(\" \", end = \"\")\n",
    "        else :\n",
    "            for k in range(i - (n // 2) - 1, -1, -1):\n",
    "                print(\" \", end = \"\")\n",
    "        if i <= n//2:\n",
    "            for j in range(i + 1):\n",
    "                print(j + 1, end = \" \")\n",
    "        else :\n",
    "            for j in range(n - i):\n",
    "                print(j + 1, end = \" \")\n",
    "        print()     \n",
    "p25(int(input(\"N: \")))"
   ]
  },
  {
   "cell_type": "code",
   "execution_count": 119,
   "metadata": {},
   "outputs": [
    {
     "name": "stdout",
     "output_type": "stream",
     "text": [
      "    A \n",
      "   B B \n",
      "  C C C \n",
      " D D D D \n",
      "E E E E E \n",
      " D D D D \n",
      "  C C C \n",
      "   B B \n",
      "    A \n"
     ]
    }
   ],
   "source": [
    "def p26(n):\n",
    "    n |= 1\n",
    "    for i in range (n):\n",
    "        if i < n//2:\n",
    "            for k in range((n // 2) - i - 1, -1, -1):\n",
    "                print(\" \", end = \"\")\n",
    "        else :\n",
    "            for k in range(i - (n // 2) - 1, -1, -1):\n",
    "                print(\" \", end = \"\")\n",
    "        if i <= n//2:\n",
    "            for j in range(i + 1):\n",
    "                print(chr(65 + i), end = \" \")\n",
    "        else :\n",
    "            for j in range(n - i):\n",
    "                print(chr(64 - i + n), end = \" \")\n",
    "        print()     \n",
    "p26(int(input(\"N: \")))"
   ]
  },
  {
   "cell_type": "code",
   "execution_count": 123,
   "metadata": {},
   "outputs": [
    {
     "name": "stdout",
     "output_type": "stream",
     "text": [
      "    A \n",
      "   A B \n",
      "  A B C \n",
      " A B C D \n",
      "A B C D E \n",
      " B C D E \n",
      "  C D E \n",
      "   D E \n",
      "    E \n"
     ]
    }
   ],
   "source": [
    "def p27(n):\n",
    "    n |= 1\n",
    "    for i in range (n):\n",
    "        if i < n//2:\n",
    "            for k in range((n // 2) - i - 1, -1, -1):\n",
    "                print(\" \", end = \"\")\n",
    "        else :\n",
    "            for k in range(i - (n // 2) - 1, -1, -1):\n",
    "                print(\" \", end = \"\")\n",
    "        if i <= n//2:\n",
    "            for j in range(i + 1):\n",
    "                print(chr(65 + j), end = \" \")\n",
    "        else :\n",
    "            for j in range(n - i):\n",
    "                print(chr(65 + j - (n // 2) + i), end = \" \")\n",
    "        print()     \n",
    "p27(int(input(\"N: \")))"
   ]
  },
  {
   "cell_type": "code",
   "execution_count": 127,
   "metadata": {},
   "outputs": [
    {
     "name": "stdout",
     "output_type": "stream",
     "text": [
      "                D \n",
      "              D   D \n",
      "            D       D \n",
      "          D           D \n",
      "        D               D \n",
      "      D                   D \n",
      "    D                       D \n",
      "  D                           D \n",
      "D                               D \n"
     ]
    }
   ],
   "source": [
    "def p28(n):\n",
    "    n |= 1\n",
    "    for i in range (n):\n",
    "        for j in range(n - 1 - i , 0 , -1):\n",
    "            print(\" \", end = \" \") \n",
    "        for k in range((i * 2) + 1):\n",
    "            if k == 0 or k == (i * 2):\n",
    "                print(\"D\", end = \" \")\n",
    "            else :\n",
    "                print(\" \", end = \" \")\n",
    "        print()     \n",
    "p28(int(input(\"N: \")))  "
   ]
  },
  {
   "cell_type": "code",
   "execution_count": 128,
   "metadata": {},
   "outputs": [
    {
     "name": "stdout",
     "output_type": "stream",
     "text": [
      "                1 \n",
      "              2   2 \n",
      "            3       3 \n",
      "          4           4 \n",
      "        5               5 \n",
      "      6                   6 \n",
      "    7                       7 \n",
      "  8                           8 \n",
      "9                               9 \n"
     ]
    }
   ],
   "source": [
    "def p29(n):\n",
    "    n |= 1\n",
    "    for i in range (n):\n",
    "        for j in range(n - 1 - i , 0 , -1):\n",
    "            print(\" \", end = \" \") \n",
    "        for k in range((i * 2) + 1):\n",
    "            if k == 0 or k == (i * 2):\n",
    "                print(i + 1, end = \" \")\n",
    "            else :\n",
    "                print(\" \", end = \" \")\n",
    "        print()     \n",
    "p29(int(input(\"N: \")))  "
   ]
  },
  {
   "cell_type": "code",
   "execution_count": 129,
   "metadata": {},
   "outputs": [
    {
     "name": "stdout",
     "output_type": "stream",
     "text": [
      "                9 \n",
      "              8   8 \n",
      "            7       7 \n",
      "          6           6 \n",
      "        5               5 \n",
      "      4                   4 \n",
      "    3                       3 \n",
      "  2                           2 \n",
      "1                               1 \n"
     ]
    }
   ],
   "source": [
    "def p30(n):\n",
    "    n |= 1\n",
    "    for i in range (n):\n",
    "        for j in range(n - 1 - i , 0 , -1):\n",
    "            print(\" \", end = \" \") \n",
    "        for k in range((i * 2) + 1):\n",
    "            if k == 0 or k == (i * 2):\n",
    "                print(n - i, end = \" \")\n",
    "            else :\n",
    "                print(\" \", end = \" \")\n",
    "        print()     \n",
    "p30(int(input(\"N: \")))  "
   ]
  },
  {
   "cell_type": "code",
   "execution_count": 131,
   "metadata": {},
   "outputs": [
    {
     "name": "stdout",
     "output_type": "stream",
     "text": [
      "                A \n",
      "              B   B \n",
      "            C       C \n",
      "          D           D \n",
      "        E               E \n",
      "      F                   F \n",
      "    G                       G \n",
      "  H                           H \n",
      "I                               I \n"
     ]
    }
   ],
   "source": [
    "def p31(n):\n",
    "    n |= 1\n",
    "    for i in range (n):\n",
    "        for j in range(n - 1 - i , 0 , -1):\n",
    "            print(\" \", end = \" \") \n",
    "        for k in range((i * 2) + 1):\n",
    "            if k == 0 or k == (i * 2):\n",
    "                print(chr(65 + i), end = \" \")\n",
    "            else :\n",
    "                print(\" \", end = \" \")\n",
    "        print()     \n",
    "p31(int(input(\"N: \")))  "
   ]
  },
  {
   "cell_type": "code",
   "execution_count": 134,
   "metadata": {},
   "outputs": [
    {
     "name": "stdout",
     "output_type": "stream",
     "text": [
      "                I \n",
      "              H   H \n",
      "            G       G \n",
      "          F           F \n",
      "        E               E \n",
      "      D                   D \n",
      "    C                       C \n",
      "  B                           B \n",
      "A                               A \n"
     ]
    }
   ],
   "source": [
    "def p32(n):\n",
    "    n |= 1\n",
    "    for i in range (n):\n",
    "        for j in range(n - 1 - i , 0 , -1):\n",
    "            print(\" \", end = \" \") \n",
    "        for k in range((i * 2) + 1):\n",
    "            if k == 0 or k == (i * 2):\n",
    "                print(chr(64 - i + n), end = \" \")\n",
    "            else :\n",
    "                print(\" \", end = \" \")\n",
    "        print()     \n",
    "p32(int(input(\"N: \")))  "
   ]
  },
  {
   "cell_type": "code",
   "execution_count": 142,
   "metadata": {},
   "outputs": [
    {
     "name": "stdout",
     "output_type": "stream",
     "text": [
      "D                               D \n",
      "  D                           D \n",
      "    D                       D \n",
      "      D                   D \n",
      "        D               D \n",
      "          D           D \n",
      "            D       D \n",
      "              D   D \n",
      "                D \n"
     ]
    }
   ],
   "source": [
    "def p33(n):\n",
    "    n |= 1\n",
    "    for i in range (n):\n",
    "        for j in range(i):\n",
    "            print(\" \", end = \" \") \n",
    "        for k in range(((n - i) * 2) - 1):\n",
    "            if k == 0 or k == (((n - i) * 2) - 2):\n",
    "                print(\"D\", end = \" \")\n",
    "            else :\n",
    "                print(\" \", end = \" \")\n",
    "        print()     \n",
    "p33(int(input(\"N: \")))  "
   ]
  },
  {
   "cell_type": "code",
   "execution_count": 143,
   "metadata": {},
   "outputs": [
    {
     "name": "stdout",
     "output_type": "stream",
     "text": [
      "1                               1 \n",
      "  2                           2 \n",
      "    3                       3 \n",
      "      4                   4 \n",
      "        5               5 \n",
      "          6           6 \n",
      "            7       7 \n",
      "              8   8 \n",
      "                9 \n"
     ]
    }
   ],
   "source": [
    "def p34(n):\n",
    "    n |= 1\n",
    "    for i in range (n):\n",
    "        for j in range(i):\n",
    "            print(\" \", end = \" \") \n",
    "        for k in range(((n - i) * 2) - 1):\n",
    "            if k == 0 or k == (((n - i) * 2) - 2):\n",
    "                print(i + 1, end = \" \")\n",
    "            else :\n",
    "                print(\" \", end = \" \")\n",
    "        print()     \n",
    "p34(int(input(\"N: \")))  "
   ]
  },
  {
   "cell_type": "code",
   "execution_count": 144,
   "metadata": {},
   "outputs": [
    {
     "name": "stdout",
     "output_type": "stream",
     "text": [
      "9                               9 \n",
      "  8                           8 \n",
      "    7                       7 \n",
      "      6                   6 \n",
      "        5               5 \n",
      "          4           4 \n",
      "            3       3 \n",
      "              2   2 \n",
      "                1 \n"
     ]
    }
   ],
   "source": [
    "def p35(n):\n",
    "    n |= 1\n",
    "    for i in range (n):\n",
    "        for j in range(i):\n",
    "            print(\" \", end = \" \") \n",
    "        for k in range(((n - i) * 2) - 1):\n",
    "            if k == 0 or k == (((n - i) * 2) - 2):\n",
    "                print(n - i, end = \" \")\n",
    "            else :\n",
    "                print(\" \", end = \" \")\n",
    "        print()     \n",
    "p35(int(input(\"N: \")))  "
   ]
  },
  {
   "cell_type": "code",
   "execution_count": 145,
   "metadata": {},
   "outputs": [
    {
     "name": "stdout",
     "output_type": "stream",
     "text": [
      "A                               A \n",
      "  B                           B \n",
      "    C                       C \n",
      "      D                   D \n",
      "        E               E \n",
      "          F           F \n",
      "            G       G \n",
      "              H   H \n",
      "                I \n"
     ]
    }
   ],
   "source": [
    "def p36(n):\n",
    "    n |= 1\n",
    "    for i in range (n):\n",
    "        for j in range(i):\n",
    "            print(\" \", end = \" \") \n",
    "        for k in range(((n - i) * 2) - 1):\n",
    "            if k == 0 or k == (((n - i) * 2) - 2):\n",
    "                print(chr(65 + i), end = \" \")\n",
    "            else :\n",
    "                print(\" \", end = \" \")\n",
    "        print()     \n",
    "p36(int(input(\"N: \")))  "
   ]
  },
  {
   "cell_type": "code",
   "execution_count": 146,
   "metadata": {},
   "outputs": [
    {
     "name": "stdout",
     "output_type": "stream",
     "text": [
      "I                               I \n",
      "  H                           H \n",
      "    G                       G \n",
      "      F                   F \n",
      "        E               E \n",
      "          D           D \n",
      "            C       C \n",
      "              B   B \n",
      "                A \n"
     ]
    }
   ],
   "source": [
    "def p37(n):\n",
    "    n |= 1\n",
    "    for i in range (n):\n",
    "        for j in range(i):\n",
    "            print(\" \", end = \" \") \n",
    "        for k in range(((n - i) * 2) - 1):\n",
    "            if k == 0 or k == (((n - i) * 2) - 2):\n",
    "                print(chr(64 - i + n), end = \" \")\n",
    "            else :\n",
    "                print(\" \", end = \" \")\n",
    "        print()     \n",
    "p37(int(input(\"N: \")))  "
   ]
  },
  {
   "cell_type": "code",
   "execution_count": 169,
   "metadata": {},
   "outputs": [
    {
     "name": "stdout",
     "output_type": "stream",
     "text": [
      "        D \n",
      "      D   D \n",
      "    D       D \n",
      "  D           D \n",
      "D               D \n",
      "  D           D \n",
      "    D       D \n",
      "      D   D \n",
      "        D \n"
     ]
    }
   ],
   "source": [
    "def p38(n):\n",
    "    n |= 1\n",
    "    for i in range (n//2):\n",
    "        for j in range((n//2) - i , 0 , -1):\n",
    "            print(\" \", end = \" \") \n",
    "        for k in range((i * 2) + 1):\n",
    "            if k == 0 or k == (i * 2):\n",
    "                print(\"D\", end = \" \")\n",
    "            else :\n",
    "                print(\" \", end = \" \")\n",
    "        print()   \n",
    "    for i in range ((n // 2) + 1):\n",
    "        for j in range(i):\n",
    "            print(\" \", end = \" \") \n",
    "        for k in range(((n//2 - i) * 2) + 1):\n",
    "            if k == 0 or k == (((n // 2) - i) * 2):\n",
    "                print(\"D\", end = \" \")\n",
    "            else :\n",
    "                print(\" \", end = \" \")\n",
    "        print()     \n",
    "p38(int(input(\"N: \")))  "
   ]
  },
  {
   "cell_type": "code",
   "execution_count": 172,
   "metadata": {},
   "outputs": [
    {
     "name": "stdout",
     "output_type": "stream",
     "text": [
      "          1 \n",
      "        2   2 \n",
      "      3       3 \n",
      "    4           4 \n",
      "  5               5 \n",
      "6                   6 \n",
      "  5               5 \n",
      "    4           4 \n",
      "      3       3 \n",
      "        2   2 \n",
      "          1 \n"
     ]
    }
   ],
   "source": [
    "def p39(n):\n",
    "    n |= 1\n",
    "    for i in range (n//2):\n",
    "        for j in range((n//2) - i , 0 , -1):\n",
    "            print(\" \", end = \" \") \n",
    "        for k in range((i * 2) + 1):\n",
    "            if k == 0 or k == (i * 2):\n",
    "                print(i + 1, end = \" \")\n",
    "            else :\n",
    "                print(\" \", end = \" \")\n",
    "        print()   \n",
    "    for i in range ((n // 2) + 1):\n",
    "        for j in range(i):\n",
    "            print(\" \", end = \" \") \n",
    "        for k in range(((n//2 - i) * 2) + 1):\n",
    "            if k == 0 or k == (((n // 2) - i) * 2):\n",
    "                print((n // 2) - i + 1, end = \" \")\n",
    "            else :\n",
    "                print(\" \", end = \" \")\n",
    "        print()     \n",
    "p39(int(input(\"N: \")))  "
   ]
  },
  {
   "cell_type": "code",
   "execution_count": 173,
   "metadata": {},
   "outputs": [
    {
     "name": "stdout",
     "output_type": "stream",
     "text": [
      "          6 \n",
      "        5   5 \n",
      "      4       4 \n",
      "    3           3 \n",
      "  2               2 \n",
      "1                   1 \n",
      "  2               2 \n",
      "    3           3 \n",
      "      4       4 \n",
      "        5   5 \n",
      "          6 \n"
     ]
    }
   ],
   "source": [
    "def p40(n):\n",
    "    n |= 1\n",
    "    for i in range (n//2):\n",
    "        for j in range((n//2) - i , 0 , -1):\n",
    "            print(\" \", end = \" \") \n",
    "        for k in range((i * 2) + 1):\n",
    "            if k == 0 or k == (i * 2):\n",
    "                print((n // 2) - i + 1, end = \" \")\n",
    "            else :\n",
    "                print(\" \", end = \" \")\n",
    "        print()   \n",
    "    for i in range ((n // 2) + 1):\n",
    "        for j in range(i):\n",
    "            print(\" \", end = \" \") \n",
    "        for k in range(((n//2 - i) * 2) + 1):\n",
    "            if k == 0 or k == (((n // 2) - i) * 2):\n",
    "                print(i + 1, end = \" \")\n",
    "            else :\n",
    "                print(\" \", end = \" \")\n",
    "        print()     \n",
    "p40(int(input(\"N: \")))  "
   ]
  },
  {
   "cell_type": "code",
   "execution_count": 174,
   "metadata": {},
   "outputs": [
    {
     "name": "stdout",
     "output_type": "stream",
     "text": [
      "          A \n",
      "        B   B \n",
      "      C       C \n",
      "    D           D \n",
      "  E               E \n",
      "F                   F \n",
      "  E               E \n",
      "    D           D \n",
      "      C       C \n",
      "        B   B \n",
      "          A \n"
     ]
    }
   ],
   "source": [
    "def p41(n):\n",
    "    n |= 1\n",
    "    for i in range (n//2):\n",
    "        for j in range((n//2) - i , 0 , -1):\n",
    "            print(\" \", end = \" \") \n",
    "        for k in range((i * 2) + 1):\n",
    "            if k == 0 or k == (i * 2):\n",
    "                print(chr(65 + i), end = \" \")\n",
    "            else :\n",
    "                print(\" \", end = \" \")\n",
    "        print()   \n",
    "    for i in range ((n // 2) + 1):\n",
    "        for j in range(i):\n",
    "            print(\" \", end = \" \") \n",
    "        for k in range(((n//2 - i) * 2) + 1):\n",
    "            if k == 0 or k == (((n // 2) - i) * 2):\n",
    "                print(chr(65 + (n // 2) - i), end = \" \")\n",
    "            else :\n",
    "                print(\" \", end = \" \")\n",
    "        print()     \n",
    "p41(int(input(\"N: \")))  "
   ]
  },
  {
   "cell_type": "code",
   "execution_count": 175,
   "metadata": {},
   "outputs": [
    {
     "name": "stdout",
     "output_type": "stream",
     "text": [
      "          F \n",
      "        E   E \n",
      "      D       D \n",
      "    C           C \n",
      "  B               B \n",
      "A                   A \n",
      "  B               B \n",
      "    C           C \n",
      "      D       D \n",
      "        E   E \n",
      "          F \n"
     ]
    }
   ],
   "source": [
    "def p42(n):\n",
    "    n |= 1\n",
    "    for i in range (n//2):\n",
    "        for j in range((n//2) - i , 0 , -1):\n",
    "            print(\" \", end = \" \") \n",
    "        for k in range((i * 2) + 1):\n",
    "            if k == 0 or k == (i * 2):\n",
    "                print(chr(65 + (n // 2) - i), end = \" \")\n",
    "            else :\n",
    "                print(\" \", end = \" \")\n",
    "        print()   \n",
    "    for i in range ((n // 2) + 1):\n",
    "        for j in range(i):\n",
    "            print(\" \", end = \" \") \n",
    "        for k in range(((n//2 - i) * 2) + 1):\n",
    "            if k == 0 or k == (((n // 2) - i) * 2):\n",
    "                print(chr(65 + i), end = \" \")\n",
    "            else :\n",
    "                print(\" \", end = \" \")\n",
    "        print()     \n",
    "p42(int(input(\"N: \")))  "
   ]
  },
  {
   "cell_type": "code",
   "execution_count": 207,
   "metadata": {},
   "outputs": [
    {
     "name": "stdout",
     "output_type": "stream",
     "text": [
      "D D D D D D D D D \n",
      "D D D D   D D D D \n",
      "D D D       D D D \n",
      "D D           D D \n",
      "D               D \n"
     ]
    }
   ],
   "source": [
    "def p43(n):\n",
    "    n |= 1\n",
    "    for i in range((n + 1) // 2):\n",
    "        for j in range(n):\n",
    "            if (j == 0 and i <= n // 2) or (i == 0 and j <= n // 2) or i + j <= n//2 or (i == 0 and j >= n // 2) or (j == n - 1 and i <= n // 2) or i - j <= - (n // 2):\n",
    "                print(\"D\", end =\" \")\n",
    "            else:\n",
    "                print(\" \", end =\" \")\n",
    "        print()\n",
    "p43(int(input(\"N: \")))  \n"
   ]
  },
  {
   "cell_type": "code",
   "execution_count": 208,
   "metadata": {},
   "outputs": [
    {
     "name": "stdout",
     "output_type": "stream",
     "text": [
      "D               D \n",
      "D D           D D \n",
      "D D D       D D D \n",
      "D D D D   D D D D \n",
      "D D D D D D D D D \n"
     ]
    }
   ],
   "source": [
    "def p44(n):\n",
    "    n = n | 1\n",
    "    for i in range((n - 1) // 2, n):\n",
    "        for j in range(n):\n",
    "            if (j == 0 and i >= n // 2) or (i == n - 1 and j <= n // 2) or i - j >= n // 2 or (i == n - 1 and j >= n // 2) or (j == n - 1 and i >= n // 2) or i + j >= 3 * (n // 2):\n",
    "                print(\"D\", end =\" \")\n",
    "            else:\n",
    "                print(\" \", end =\" \")\n",
    "        print()\n",
    "p44(int(input(\"N: \")))  \n"
   ]
  },
  {
   "cell_type": "code",
   "execution_count": 209,
   "metadata": {},
   "outputs": [
    {
     "name": "stdout",
     "output_type": "stream",
     "text": [
      "D               D \n",
      "D D           D D \n",
      "D D D       D D D \n",
      "D D D D   D D D D \n",
      "D D D D D D D D D \n",
      "D D D D   D D D D \n",
      "D D D       D D D \n",
      "D D           D D \n",
      "D               D \n"
     ]
    }
   ],
   "source": [
    "def p45(n):\n",
    "    n = n | 1\n",
    "    for i in range(n):\n",
    "        for j in range(n):\n",
    "            if j==0 or j==n-1 or (i-j>=0 and i<=n//2) or (i+j<=n-1 and i>=n//2) or (i-j<=0 and i>=n//2) or(i+j>=n-1 and i<=n//2) :\n",
    "                print(\"D\", end =\" \")\n",
    "            else:\n",
    "                print(\" \", end =\" \")\n",
    "        print()\n",
    "p45(int(input(\"N: \")))  \n"
   ]
  },
  {
   "cell_type": "code",
   "execution_count": 211,
   "metadata": {},
   "outputs": [
    {
     "name": "stdout",
     "output_type": "stream",
     "text": [
      "          D                     D \n",
      "         D D                   D D \n",
      "        D D D                 D D D \n",
      "       D D D D               D D D D \n",
      "      D D D D D             D D D D D \n",
      "     D D D D D D           D D D D D D \n",
      "    D D D D D D D         D D D D D D D \n",
      "   D D D D D D D D       D D D D D D D D \n",
      "  D D D D D D D D D     D D D D D D D D D \n",
      " D D D D D D D D D D   D D D D D D D D D D \n",
      "D D D D D D D D D D D D D D D D D D D D D D \n"
     ]
    }
   ],
   "source": [
    "def p46(n):\n",
    "    n = n | 1\n",
    "    for i in range(n):\n",
    "        for j in range(n - 1 - i , 0 , -1):\n",
    "            print(\" \", end = \"\") \n",
    "        for k in range(i  + 1):\n",
    "            print(\"D\", end = \" \")\n",
    "        for j in range(n - 1 - i , 0 , -1):\n",
    "            print(\" \", end = \" \") \n",
    "        for k in range(i  + 1):\n",
    "            print(\"D\", end = \" \")\n",
    "        print()\n",
    "p46(int(input(\"N: \")))  "
   ]
  },
  {
   "cell_type": "code",
   "execution_count": 212,
   "metadata": {},
   "outputs": [
    {
     "name": "stdout",
     "output_type": "stream",
     "text": [
      "        D                 D \n",
      "       D D               D D \n",
      "      D D D             D D D \n",
      "     D D D D           D D D D \n",
      "    D D D D D         D D D D D \n",
      "   D D D D D D       D D D D D D \n",
      "  D D D D D D D     D D D D D D D \n",
      "                   \n",
      "D D D D D D D D D D D D D D D D D D \n"
     ]
    }
   ],
   "source": [
    "def p47(n):\n",
    "    n = n | 1\n",
    "    for i in range(n):\n",
    "        for j in range(n - 1 - i , 0 , -1):\n",
    "            print(\" \", end = \"\") \n",
    "        for k in range(i + 1):\n",
    "            if(not(i == n-2)):\n",
    "                print(\"D\", end = \" \")\n",
    "            else:\n",
    "                print(\" \", end = \"\") \n",
    "        for j in range(n - 1 - i , 0 , -1):\n",
    "            print(\" \", end = \" \") \n",
    "        for k in range(i + 1):\n",
    "            if(not(i == n-2)):\n",
    "                print(\"D\", end = \" \")\n",
    "            else:\n",
    "                print(\" \", end = \"\") \n",
    "        print()\n",
    "p47(int(input(\"N: \")))  "
   ]
  },
  {
   "cell_type": "code",
   "execution_count": 269,
   "metadata": {},
   "outputs": [
    {
     "name": "stdout",
     "output_type": "stream",
     "text": [
      "            D \n",
      "           D D \n",
      "          D D D \n",
      "         D D D D \n",
      "        D D D D D \n",
      "       D D D D D D \n",
      "      D           D \n",
      "     D D         D D \n",
      "    D D D       D D D \n",
      "   D D D D     D D D D \n",
      "  D D D D D   D D D D D \n",
      " D D D D D D D D D D D D \n",
      "D D D D D D D D D D D D D \n"
     ]
    }
   ],
   "source": [
    "def p48(n):\n",
    "    n |= 1\n",
    "    for i in range (n):\n",
    "        for j in range(n - 1 - i , 0 , -1):\n",
    "            print(\" \", end = \"\") \n",
    "        for k in range(i + 1):\n",
    "            if(((i < (n - 1) // 2) or ((i - ((n - 1) // 2) >= k) or ((n // 2) - 1 < k)))):\n",
    "                print(\"D\", end = \" \")\n",
    "            else:\n",
    "                print(\" \", end = \" \") \n",
    "        print()     \n",
    "p48(int(input(\"N: \")))"
   ]
  },
  {
   "cell_type": "code",
   "execution_count": 213,
   "metadata": {},
   "outputs": [
    {
     "name": "stdout",
     "output_type": "stream",
     "text": [
      "D               D \n",
      "  D           D   \n",
      "    D       D     \n",
      "      D   D       \n",
      "        D         \n",
      "      D   D       \n",
      "    D       D     \n",
      "  D           D   \n",
      "D               D \n"
     ]
    }
   ],
   "source": [
    "def p49(n):\n",
    "    n |= 1\n",
    "    for i in range(n):\n",
    "        for j in range(n):\n",
    "            if i - j == 0 or i + j == n - 1:\n",
    "                print(\"D\", end=\" \")\n",
    "            else:\n",
    "                print(\" \", end=\" \")\n",
    "        print()\n",
    "p49(int(input(\"N: \")))  "
   ]
  },
  {
   "cell_type": "code",
   "execution_count": 214,
   "metadata": {},
   "outputs": [
    {
     "name": "stdout",
     "output_type": "stream",
     "text": [
      "1               1 \n",
      "  2           2   \n",
      "    3       3     \n",
      "      4   4       \n",
      "        5         \n",
      "      6   6       \n",
      "    7       7     \n",
      "  8           8   \n",
      "9               9 \n"
     ]
    }
   ],
   "source": [
    "def p50(n):\n",
    "    n |= 1\n",
    "    for i in range(n):\n",
    "        for j in range(n):\n",
    "            if i - j == 0 or i + j == n - 1:\n",
    "                print(i + 1, end=\" \")\n",
    "            else:\n",
    "                print(\" \", end=\" \")\n",
    "        print()\n",
    "p50(int(input(\"N: \")))  "
   ]
  },
  {
   "cell_type": "code",
   "execution_count": 215,
   "metadata": {},
   "outputs": [
    {
     "name": "stdout",
     "output_type": "stream",
     "text": [
      "9               9 \n",
      "  8           8   \n",
      "    7       7     \n",
      "      6   6       \n",
      "        5         \n",
      "      4   4       \n",
      "    3       3     \n",
      "  2           2   \n",
      "1               1 \n"
     ]
    }
   ],
   "source": [
    "def p51(n):\n",
    "    n |= 1\n",
    "    for i in range(n):\n",
    "        for j in range(n):\n",
    "            if i - j == 0 or i + j == n - 1:\n",
    "                print(n - i, end=\" \")\n",
    "            else:\n",
    "                print(\" \", end=\" \")\n",
    "        print()\n",
    "p51(int(input(\"N: \")))  "
   ]
  },
  {
   "cell_type": "code",
   "execution_count": 216,
   "metadata": {},
   "outputs": [
    {
     "name": "stdout",
     "output_type": "stream",
     "text": [
      "1               9 \n",
      "  2           8   \n",
      "    3       7     \n",
      "      4   6       \n",
      "        5         \n",
      "      4   6       \n",
      "    3       7     \n",
      "  2           8   \n",
      "1               9 \n"
     ]
    }
   ],
   "source": [
    "def p52(n):\n",
    "    n |= 1\n",
    "    for i in range(n):\n",
    "        for j in range(n):\n",
    "            if i - j == 0 or i + j == n - 1:\n",
    "                print(j + 1, end=\" \")\n",
    "            else:\n",
    "                print(\" \", end=\" \")\n",
    "        print()\n",
    "p52(int(input(\"N: \")))  "
   ]
  },
  {
   "cell_type": "code",
   "execution_count": 217,
   "metadata": {},
   "outputs": [
    {
     "name": "stdout",
     "output_type": "stream",
     "text": [
      "9               1 \n",
      "  8           2   \n",
      "    7       3     \n",
      "      6   4       \n",
      "        5         \n",
      "      6   4       \n",
      "    7       3     \n",
      "  8           2   \n",
      "9               1 \n"
     ]
    }
   ],
   "source": [
    "def p53(n):\n",
    "    n |= 1\n",
    "    for i in range(n):\n",
    "        for j in range(n):\n",
    "            if i - j == 0 or i + j == n - 1:\n",
    "                print(n - j, end=\" \")\n",
    "            else:\n",
    "                print(\" \", end=\" \")\n",
    "        print()\n",
    "p53(int(input(\"N: \")))  "
   ]
  },
  {
   "cell_type": "code",
   "execution_count": 218,
   "metadata": {},
   "outputs": [
    {
     "name": "stdout",
     "output_type": "stream",
     "text": [
      "A               A \n",
      "  B           B   \n",
      "    C       C     \n",
      "      D   D       \n",
      "        E         \n",
      "      F   F       \n",
      "    G       G     \n",
      "  H           H   \n",
      "I               I \n"
     ]
    }
   ],
   "source": [
    "def p54(n):\n",
    "    n |= 1\n",
    "    for i in range(n):\n",
    "        for j in range(n):\n",
    "            if i - j == 0 or i + j == n - 1:\n",
    "                print(chr(65 + i), end=\" \")\n",
    "            else:\n",
    "                print(\" \", end=\" \")\n",
    "        print()\n",
    "p54(int(input(\"N: \")))  "
   ]
  },
  {
   "cell_type": "code",
   "execution_count": 219,
   "metadata": {},
   "outputs": [
    {
     "name": "stdout",
     "output_type": "stream",
     "text": [
      "A               I \n",
      "  B           H   \n",
      "    C       G     \n",
      "      D   F       \n",
      "        E         \n",
      "      D   F       \n",
      "    C       G     \n",
      "  B           H   \n",
      "A               I \n"
     ]
    }
   ],
   "source": [
    "def p55(n):\n",
    "    n |= 1\n",
    "    for i in range(n):\n",
    "        for j in range(n):\n",
    "            if i - j == 0 or i + j == n - 1:\n",
    "                print(chr(65 + j), end=\" \")\n",
    "            else:\n",
    "                print(\" \", end=\" \")\n",
    "        print()\n",
    "p55(int(input(\"N: \")))  "
   ]
  },
  {
   "cell_type": "code",
   "execution_count": 220,
   "metadata": {},
   "outputs": [
    {
     "name": "stdout",
     "output_type": "stream",
     "text": [
      "D # # # # # # # # \n",
      "# D # # # # # # # \n",
      "# # D # # # # # # \n",
      "# # # D # # # # # \n",
      "# # # # D # # # # \n",
      "# # # # # D # # # \n",
      "# # # # # # D # # \n",
      "# # # # # # # D # \n",
      "# # # # # # # # D \n"
     ]
    }
   ],
   "source": [
    "def p56(n):\n",
    "    n |= 1\n",
    "    for i in range(n):\n",
    "        for j in range(n):\n",
    "            if i - j == 0:\n",
    "                print(\"D\", end=\" \")\n",
    "            else:\n",
    "                print(\"#\", end=\" \")\n",
    "        print()\n",
    "p56(int(input(\"N: \")))  "
   ]
  },
  {
   "cell_type": "code",
   "execution_count": 222,
   "metadata": {},
   "outputs": [
    {
     "name": "stdout",
     "output_type": "stream",
     "text": [
      "# D D D D D D D D \n",
      "# # D D D D D D D \n",
      "# # # D D D D D D \n",
      "# # # # D D D D D \n",
      "# # # # # D D D D \n",
      "# # # # # # D D D \n",
      "# # # # # # # D D \n",
      "# # # # # # # # D \n",
      "# # # # # # # # # \n"
     ]
    }
   ],
   "source": [
    "def p57(n):\n",
    "    n |= 1\n",
    "    for i in range(n):\n",
    "        for j in range(n):\n",
    "            if i - j < 0:\n",
    "                print(\"D\", end=\" \")\n",
    "            else:\n",
    "                print(\"#\", end=\" \")\n",
    "        print()\n",
    "p57(int(input(\"N: \")))  "
   ]
  },
  {
   "cell_type": "code",
   "execution_count": 223,
   "metadata": {},
   "outputs": [
    {
     "name": "stdout",
     "output_type": "stream",
     "text": [
      "D # # # # # # # D \n",
      "# D # # # # # D # \n",
      "# # D # # # D # # \n",
      "# # # D # D # # # \n",
      "# # # # D # # # # \n",
      "# # # D # D # # # \n",
      "# # D # # # D # # \n",
      "# D # # # # # D # \n",
      "D # # # # # # # D \n"
     ]
    }
   ],
   "source": [
    "def p58(n):\n",
    "    n |= 1\n",
    "    for i in range(n):\n",
    "        for j in range(n):\n",
    "            if i - j == 0 or i + j == n - 1:\n",
    "                print(\"D\", end=\" \")\n",
    "            else:\n",
    "                print(\"#\", end=\" \")\n",
    "        print()\n",
    "p58(int(input(\"N: \")))  "
   ]
  },
  {
   "cell_type": "code",
   "execution_count": 226,
   "metadata": {},
   "outputs": [
    {
     "name": "stdout",
     "output_type": "stream",
     "text": [
      "# # # # # # # # # \n",
      "# # # # # # # # # \n",
      "# # # # # # # # # \n",
      "# # # # # # # # # \n",
      "# # # # D # # # # \n",
      "# # # # # # # # # \n",
      "# # # # # # # # # \n",
      "# # # # # # # # # \n",
      "# # # # # # # # # \n"
     ]
    }
   ],
   "source": [
    "def p59(n):\n",
    "    n |= 1\n",
    "    for i in range(n):\n",
    "        for j in range(n):\n",
    "            if i == n // 2 and j == n // 2:\n",
    "                print(\"D\", end=\" \")\n",
    "            else:\n",
    "                print(\"#\", end=\" \")\n",
    "        print()\n",
    "p59(int(input(\"N: \")))  "
   ]
  },
  {
   "cell_type": "code",
   "execution_count": 228,
   "metadata": {},
   "outputs": [
    {
     "name": "stdout",
     "output_type": "stream",
     "text": [
      "        D         \n",
      "        D         \n",
      "        D         \n",
      "        D         \n",
      "D D D D D D D D D \n",
      "        D         \n",
      "        D         \n",
      "        D         \n",
      "        D         \n"
     ]
    }
   ],
   "source": [
    "def p60(n):\n",
    "    n |= 1\n",
    "    for i in range(n):\n",
    "        for j in range(n):\n",
    "            if i == n // 2 or j == n // 2:\n",
    "                print(\"D\", end=\" \")\n",
    "            else:\n",
    "                print(\" \", end=\" \")\n",
    "        print()\n",
    "p60(int(input(\"N: \")))  "
   ]
  },
  {
   "cell_type": "code",
   "execution_count": 348,
   "metadata": {},
   "outputs": [
    {
     "name": "stdout",
     "output_type": "stream",
     "text": [
      "# # # # D # # # # \n",
      "# # # # D # # # # \n",
      "# # # # D # # # # \n",
      "# # # # D # # # # \n",
      "D D D D D D D D D \n",
      "# # # # D # # # # \n",
      "# # # # D # # # # \n",
      "# # # # D # # # # \n",
      "# # # # D # # # # \n"
     ]
    }
   ],
   "source": [
    "def p61(n):\n",
    "    n |= 1\n",
    "    for i in range(n):\n",
    "        for j in range(n):\n",
    "            if i == n // 2 or j == n // 2:\n",
    "                print(\"D\", end=\" \")\n",
    "            else:\n",
    "                print(\"#\", end=\" \")\n",
    "        print()\n",
    "p61(int(input(\"N: \")))  "
   ]
  },
  {
   "cell_type": "code",
   "execution_count": 233,
   "metadata": {},
   "outputs": [
    {
     "name": "stdout",
     "output_type": "stream",
     "text": [
      "        D D D D D \n",
      "       D D D D D \n",
      "      D D D D D \n",
      "     D D D D D \n",
      "    D D D D D \n",
      "   D D D D D \n",
      "  D D D D D \n",
      " D D D D D \n",
      "D D D D D \n"
     ]
    }
   ],
   "source": [
    "def p62(n):\n",
    "    n |= 1\n",
    "    for i in range(n):\n",
    "        for j in range(n - 1 - i , 0 , -1):\n",
    "            print(\" \", end = \"\") \n",
    "        for j in range(n):\n",
    "            if j < ((n // 2) + 1):\n",
    "                print(\"D\", end=\" \")\n",
    "            else:\n",
    "                print(\"\", end=\"\")\n",
    "        print()\n",
    "p62(int(input(\"N: \")))  "
   ]
  },
  {
   "cell_type": "code",
   "execution_count": 297,
   "metadata": {},
   "outputs": [
    {
     "name": "stdout",
     "output_type": "stream",
     "text": [
      "\n",
      "* * \n",
      "* * \n",
      "* * * * \n",
      "* * * * \n",
      "* * * * * * \n",
      "* * * * * * \n",
      "* * * * * * * * \n",
      "* * * * * * * * \n",
      "* * * * * * * * * * \n",
      "* * * * * * * * * * \n"
     ]
    }
   ],
   "source": [
    "def p63(n):\n",
    "    if n % 2 != 0:\n",
    "        n += 1\n",
    "    for i in range(n+1):\n",
    "        for k in range(0, i, 2):\n",
    "            print(\"* *\", end = \" \")\n",
    "        print()\n",
    "p63(int(input(\"N: \")))  "
   ]
  },
  {
   "cell_type": "code",
   "execution_count": 308,
   "metadata": {},
   "outputs": [
    {
     "name": "stdout",
     "output_type": "stream",
     "text": [
      "* * * * * * * * * * \n",
      "* * * * * * * * * * \n",
      "* * * * * * * * \n",
      "* * * * * * * * \n",
      "* * * * * * \n",
      "* * * * * * \n",
      "* * * * \n",
      "* * * * \n",
      "* * \n",
      "* * \n",
      "\n"
     ]
    }
   ],
   "source": [
    "def p64(n):\n",
    "    if n % 2 != 0:\n",
    "        n += 1\n",
    "    for i in range(n, -1, -1):\n",
    "        for i in range(i, 0, -2):\n",
    "            print(\"* *\", end = \" \")\n",
    "        print()\n",
    "p64(int(input(\"N: \")))  "
   ]
  },
  {
   "cell_type": "code",
   "execution_count": 313,
   "metadata": {},
   "outputs": [
    {
     "name": "stdout",
     "output_type": "stream",
     "text": [
      "                    \n",
      "                * * \n",
      "                * * \n",
      "            * * * * \n",
      "            * * * * \n",
      "        * * * * * * \n",
      "        * * * * * * \n",
      "    * * * * * * * * \n",
      "    * * * * * * * * \n",
      "* * * * * * * * * * \n",
      "* * * * * * * * * * \n"
     ]
    }
   ],
   "source": [
    "def p65(n):\n",
    "    if n % 2 != 0:\n",
    "        n += 1\n",
    "    for i in range(n + 1):\n",
    "        for k in range(0, n - i - 1, 2):\n",
    "            print(\"   \", end = \" \")\n",
    "        for k in range(0, i, 2):\n",
    "            print(\"* *\", end = \" \")\n",
    "        print()\n",
    "p65(int(input(\"N: \")))  "
   ]
  },
  {
   "cell_type": "code",
   "execution_count": 346,
   "metadata": {},
   "outputs": [
    {
     "name": "stdout",
     "output_type": "stream",
     "text": [
      "* * * * * * * * * * \n",
      "* * * * * * * * * * \n",
      "    * * * * * * * * \n",
      "    * * * * * * * * \n",
      "        * * * * * * \n",
      "        * * * * * * \n",
      "            * * * * \n",
      "            * * * * \n",
      "                * * \n",
      "                * * \n",
      "                    \n"
     ]
    }
   ],
   "source": [
    "def p66(n):\n",
    "    if n % 2 != 0:\n",
    "        n += 1\n",
    "    for i in range(n + 1):\n",
    "        for k in range(0, i - 1, 2):\n",
    "            print(\"   \", end = \" \")\n",
    "        for j in range(0, n - i , 2):\n",
    "            print(\"* *\", end = \" \")\n",
    "        print()\n",
    "p66(int(input(\"N: \")))  "
   ]
  },
  {
   "cell_type": "code",
   "execution_count": 353,
   "metadata": {},
   "outputs": [
    {
     "name": "stdout",
     "output_type": "stream",
     "text": [
      "* \n",
      "* \n",
      "* * \n",
      "* * \n",
      "* * * \n",
      "* * * \n",
      "* * * * \n",
      "* * * * \n",
      "* * * * * \n",
      "* * * * * \n"
     ]
    }
   ],
   "source": [
    "def p67(n):\n",
    "    if n % 2 != 0:\n",
    "        n += 1\n",
    "    for i in range(n):\n",
    "        for k in range((i // 2) + 1):\n",
    "            print(\"*\", end = \" \")\n",
    "        print()\n",
    "p67(int(input(\"N: \")))  "
   ]
  },
  {
   "cell_type": "code",
   "execution_count": 366,
   "metadata": {},
   "outputs": [
    {
     "name": "stdout",
     "output_type": "stream",
     "text": [
      "          * \n",
      "          * \n",
      "        * * \n",
      "        * * \n",
      "      * * * \n",
      "      * * * \n",
      "    * * * * \n",
      "    * * * * \n",
      "  * * * * * \n",
      "  * * * * * \n"
     ]
    }
   ],
   "source": [
    "def p68(n):\n",
    "    if n % 2 != 0:\n",
    "        n += 1\n",
    "    for i in range(n):\n",
    "        for k in range((n // 2) - (i // 2), 0, -1):\n",
    "            print(\" \", end = \" \")\n",
    "        for k in range((i // 2) + 1):\n",
    "            print(\"*\", end = \" \")\n",
    "        print()\n",
    "p68(int(input(\"N: \")))  "
   ]
  },
  {
   "cell_type": "code",
   "execution_count": 364,
   "metadata": {},
   "outputs": [
    {
     "name": "stdout",
     "output_type": "stream",
     "text": [
      "* * * * * * \n",
      "* * * * * * \n",
      "* * * * * \n",
      "* * * * * \n",
      "* * * * \n",
      "* * * * \n",
      "* * * \n",
      "* * * \n",
      "* * \n",
      "* * \n",
      "* \n",
      "* \n"
     ]
    }
   ],
   "source": [
    "def p69(n):\n",
    "    if n % 2 != 0:\n",
    "        n += 1\n",
    "    for i in range(n):\n",
    "        for k in range((n // 2) - (i // 2), 0, -1):\n",
    "            print(\"*\", end = \" \")\n",
    "        print()\n",
    "p69(int(input(\"N: \")))  "
   ]
  },
  {
   "cell_type": "code",
   "execution_count": 368,
   "metadata": {},
   "outputs": [
    {
     "name": "stdout",
     "output_type": "stream",
     "text": [
      "  * * * * * \n",
      "  * * * * * \n",
      "    * * * * \n",
      "    * * * * \n",
      "      * * * \n",
      "      * * * \n",
      "        * * \n",
      "        * * \n",
      "          * \n",
      "          * \n"
     ]
    }
   ],
   "source": [
    "def p70(n):\n",
    "    if n % 2 != 0:\n",
    "        n += 1\n",
    "    for i in range(n):\n",
    "        for k in range((i // 2) + 1):\n",
    "            print(\" \", end = \" \")\n",
    "        for k in range((n // 2) - (i // 2), 0, -1):\n",
    "            print(\"*\", end = \" \")\n",
    "        print()\n",
    "p70(int(input(\"N: \")))  "
   ]
  },
  {
   "cell_type": "code",
   "execution_count": 371,
   "metadata": {},
   "outputs": [
    {
     "name": "stdout",
     "output_type": "stream",
     "text": [
      "          * \n",
      "          * \n",
      "        * * * \n",
      "        * * * \n",
      "      * * * * * \n",
      "      * * * * * \n",
      "    * * * * * * * \n",
      "    * * * * * * * \n",
      "  * * * * * * * * * \n",
      "  * * * * * * * * * \n"
     ]
    }
   ],
   "source": [
    "def p71(n):\n",
    "    if n % 2 != 0:\n",
    "        n += 1\n",
    "    for i in range(n):\n",
    "        for k in range((n // 2) - (i // 2), 0, -1):\n",
    "            print(\" \", end = \" \")\n",
    "        for k in range((i // 2) + 1):\n",
    "            print(\"*\", end = \" \")\n",
    "        for k in range((i // 2)):\n",
    "            print(\"*\", end = \" \")\n",
    "        print()\n",
    "p71(int(input(\"N: \")))  "
   ]
  },
  {
   "cell_type": "code",
   "execution_count": 374,
   "metadata": {},
   "outputs": [
    {
     "name": "stdout",
     "output_type": "stream",
     "text": [
      "D D D D D D D D D \n",
      "D               D \n",
      "D               D \n",
      "D               D \n",
      "D               D \n",
      "D               D \n",
      "D               D \n",
      "D               D \n",
      "D D D D D D D D D \n"
     ]
    }
   ],
   "source": [
    "def p72(n):\n",
    "    n |= 1\n",
    "    for i in range(n):\n",
    "        for j in range(n):\n",
    "            if i == 0 or j == 0 or i == n - 1 or j == n - 1:\n",
    "                print(\"D\", end=\" \")\n",
    "            else:\n",
    "                print(\" \", end=\" \")\n",
    "        print()\n",
    "p72(int(input(\"N: \")))  "
   ]
  },
  {
   "cell_type": "code",
   "execution_count": 375,
   "metadata": {},
   "outputs": [
    {
     "name": "stdout",
     "output_type": "stream",
     "text": [
      "D D D D D D D D D \n",
      "D # # # # # # # D \n",
      "D # # # # # # # D \n",
      "D # # # # # # # D \n",
      "D # # # # # # # D \n",
      "D # # # # # # # D \n",
      "D # # # # # # # D \n",
      "D # # # # # # # D \n",
      "D D D D D D D D D \n"
     ]
    }
   ],
   "source": [
    "def p73(n):\n",
    "    n |= 1\n",
    "    for i in range(n):\n",
    "        for j in range(n):\n",
    "            if i == 0 or j == 0 or i == n - 1 or j == n - 1:\n",
    "                print(\"D\", end=\" \")\n",
    "            else:\n",
    "                print(\"#\", end=\" \")\n",
    "        print()\n",
    "p73(int(input(\"N: \")))  "
   ]
  },
  {
   "cell_type": "code",
   "execution_count": 376,
   "metadata": {},
   "outputs": [
    {
     "name": "stdout",
     "output_type": "stream",
     "text": [
      "D                 \n",
      "D D               \n",
      "D   D             \n",
      "D     D           \n",
      "D       D         \n",
      "D         D       \n",
      "D           D     \n",
      "D             D   \n",
      "D D D D D D D D D \n"
     ]
    }
   ],
   "source": [
    "def p74(n):\n",
    "    n |= 1\n",
    "    for i in range(n):\n",
    "        for j in range(n):\n",
    "            if j == 0 or i == (n - 1) or i - j == 0:\n",
    "                print(\"D\", end=\" \")\n",
    "            else:\n",
    "                print(\" \", end=\" \")\n",
    "        print()\n",
    "p74(int(input(\"N: \")))  "
   ]
  },
  {
   "cell_type": "code",
   "execution_count": 377,
   "metadata": {},
   "outputs": [
    {
     "name": "stdout",
     "output_type": "stream",
     "text": [
      "D D D D D D D D D \n",
      "D D           D D \n",
      "D   D       D   D \n",
      "D     D   D     D \n",
      "D       D       D \n",
      "D     D   D     D \n",
      "D   D       D   D \n",
      "D D           D D \n",
      "D D D D D D D D D \n"
     ]
    }
   ],
   "source": [
    "def p75(n):\n",
    "    n |= 1\n",
    "    for i in range(n):\n",
    "        for j in range(n):\n",
    "            if i==0 or i==(n-1) or j==0 or j==(n-1) or i-j==0 or i+j==n-1:\n",
    "                print(\"D\", end=\" \")\n",
    "            else:\n",
    "                print(\" \", end=\" \")\n",
    "        print()\n",
    "p75(int(input(\"N: \")))  "
   ]
  },
  {
   "cell_type": "code",
   "execution_count": 393,
   "metadata": {},
   "outputs": [
    {
     "name": "stdout",
     "output_type": "stream",
     "text": [
      "1\n",
      "1 2 \n",
      "3 5 8 \n",
      "13 21 34 55 \n",
      "89 144 233 377 610 \n"
     ]
    }
   ],
   "source": [
    "def p76(n):\n",
    "    o, m = 0, 1\n",
    "    print(1)\n",
    "    for i in range(n):\n",
    "        for j in range(-1,i + 1):\n",
    "            l = m + o\n",
    "            o = m\n",
    "            m = l\n",
    "            print(m, end=\" \")\n",
    "        print()\n",
    "p76(int(input(\"N: \")))  "
   ]
  },
  {
   "cell_type": "code",
   "execution_count": 394,
   "metadata": {},
   "outputs": [
    {
     "name": "stdout",
     "output_type": "stream",
     "text": [
      "\n",
      "0 \n",
      "0 1 \n",
      "0 1 2 \n",
      "0 1 2 3 \n",
      "0 1 2 3 4 \n",
      "0 1 2 3 4 5 \n",
      "0 1 2 3 4 5 6 \n",
      "0 1 2 3 4 5 6 7 \n"
     ]
    }
   ],
   "source": [
    "def p77(n):\n",
    "    for i in range(n):\n",
    "        for j in range(i):\n",
    "            print(j, end=\" \")\n",
    "        print()\n",
    "p77(int(input(\"N: \")))  "
   ]
  },
  {
   "cell_type": "code",
   "execution_count": 398,
   "metadata": {},
   "outputs": [
    {
     "name": "stdout",
     "output_type": "stream",
     "text": [
      "\n",
      "1 \n",
      "2 3 \n",
      "4 5 6 \n",
      "7 8 9 10 \n"
     ]
    }
   ],
   "source": [
    "def p78(n):\n",
    "    k = 1\n",
    "    for i in range(n):\n",
    "        for j in range(i):\n",
    "            print(k, end=\" \")\n",
    "            k += 1\n",
    "        print()\n",
    "p78(int(input(\"N: \")))  "
   ]
  },
  {
   "cell_type": "code",
   "execution_count": 408,
   "metadata": {},
   "outputs": [
    {
     "name": "stdout",
     "output_type": "stream",
     "text": [
      "\n",
      "1 \n",
      "2 3 \n",
      "3 4 5 \n",
      "4 5 6 7 \n",
      "5 6 7 8 9 \n"
     ]
    }
   ],
   "source": [
    "def p79(n):\n",
    "    k = 1\n",
    "    for i in range(n):\n",
    "        k = n - i\n",
    "        for j in range(i):\n",
    "            print(i + j + n , end=\" \")\n",
    "            k -= 1\n",
    "        print()\n",
    "p79(int(input(\"N: \")))  "
   ]
  },
  {
   "cell_type": "code",
   "execution_count": 6,
   "metadata": {},
   "outputs": [
    {
     "name": "stdout",
     "output_type": "stream",
     "text": [
      "2 \n",
      "1 3 \n",
      "2 4 6 \n",
      "1 3 5 7 \n",
      "2 4 6 8 10 \n"
     ]
    }
   ],
   "source": [
    "def p80(n):\n",
    "    for i in range(1, n + 1):\n",
    "        if i % 2 != 0:\n",
    "            k = 2\n",
    "        else:\n",
    "            k = 1\n",
    "        for j in range(1, i + 1):\n",
    "            print(k, end=\" \")\n",
    "            k += 2\n",
    "        print()\n",
    "p80(int(input(\"N: \")))  "
   ]
  },
  {
   "cell_type": "code",
   "execution_count": 26,
   "metadata": {},
   "outputs": [
    {
     "name": "stdout",
     "output_type": "stream",
     "text": [
      "1 \n",
      "3 2 \n",
      "6 5 4 \n",
      "10 9 8 7 \n",
      "15 14 13 12 11 \n",
      "21 20 19 18 17 16 \n",
      "28 27 26 25 24 23 22 \n",
      "36 35 34 33 32 31 30 29 \n",
      "45 44 43 42 41 40 39 38 37 \n"
     ]
    }
   ],
   "source": [
    "def p81(n):\n",
    "    k = 0\n",
    "    for i in range(1, n + 1):\n",
    "        k += i\n",
    "        m = k\n",
    "        for j in range(1, i + 1):\n",
    "            print(m, end=\" \")\n",
    "            m -= 1\n",
    "        print()\n",
    "p81(int(input(\"N: \")))  \n"
   ]
  },
  {
   "cell_type": "code",
   "execution_count": 56,
   "metadata": {},
   "outputs": [
    {
     "name": "stdout",
     "output_type": "stream",
     "text": [
      "               1 \n",
      "            3 8 5 \n",
      "         7 9 40 11 13 \n",
      "      15 17 19 120 21 23 25 \n",
      "   27 29 31 33 272 35 37 39 41 \n"
     ]
    }
   ],
   "source": [
    "def p82(n):\n",
    "    n |= 1\n",
    "    #print(1)\n",
    "    s = 1\n",
    "    e = 1\n",
    "    m = 1\n",
    "    for i in range (0,n):\n",
    "      sum_ = 0\n",
    "      if not i == 0:\n",
    "        s = e + 2\n",
    "        e = s + 2 *(2 * i) - 2\n",
    "      for l in range(n-i):\n",
    "        print(\"  \", end = \" \")\n",
    "      for k in range(s, e + 2, 2):\n",
    "        sum_ += k\n",
    "      t = 0\n",
    "      for j in range (s, e + 2, 2):\n",
    "        if i + 1//2 == t:\n",
    "          if not i == 0:\n",
    "            print(sum_, end = \" \")\n",
    "        print(j, end = \" \")\n",
    "        t += 1\n",
    "      print()  \n",
    "p82(int(input(\"N: \")))  "
   ]
  },
  {
   "cell_type": "code",
   "execution_count": 30,
   "metadata": {},
   "outputs": [
    {
     "name": "stdout",
     "output_type": "stream",
     "text": [
      "A \n",
      "A B \n",
      "A B C \n",
      "A B C D \n",
      "A B C D E \n",
      "A B C D \n",
      "A B C \n",
      "A B \n",
      "A \n"
     ]
    }
   ],
   "source": [
    "def p83(n):\n",
    "    n |= 1\n",
    "    flag = 0\n",
    "    for i in range (n):\n",
    "        if i < ((n + 1) / 2) :\n",
    "            flag += 1\n",
    "        else :\n",
    "            flag -= 1\n",
    "        for j in range(flag):\n",
    "            print(chr(65 + j), end = \" \")\n",
    "        print()  \n",
    "p83(int(input(\"N: \")))  "
   ]
  },
  {
   "cell_type": "code",
   "execution_count": null,
   "metadata": {},
   "outputs": [],
   "source": [
    "def p84(n):\n",
    "    n |= 1\n",
    "    for i in range (n):\n",
    "        for j in range (n):\n",
    "        print()  \n",
    "p84(int(input(\"N: \")))  "
   ]
  },
  {
   "cell_type": "code",
   "execution_count": null,
   "metadata": {},
   "outputs": [],
   "source": [
    "def p85(n):\n",
    "    n |= 1\n",
    "    for i in range (n):\n",
    "        for j in range (n):\n",
    "        print()  \n",
    "p85(int(input(\"N: \")))  "
   ]
  },
  {
   "cell_type": "code",
   "execution_count": 37,
   "metadata": {},
   "outputs": [
    {
     "name": "stdout",
     "output_type": "stream",
     "text": [
      "1 1 1 2 1 3 1 4 1 \n",
      "2 1 2 2 2 3 2 4 2 \n",
      "3 1 3 2 3 3 3 4 3 \n",
      "4 1 4 2 4 3 4 4 4 \n",
      "5 1 5 2 5 3 5 4 5 \n",
      "6 1 6 2 6 3 6 4 6 \n",
      "7 1 7 2 7 3 7 4 7 \n",
      "8 1 8 2 8 3 8 4 8 \n",
      "9 1 9 2 9 3 9 4 9 \n"
     ]
    }
   ],
   "source": [
    "def p86(n):\n",
    "    n |= 1\n",
    "    for i in range (1, n + 1):\n",
    "        for j in range (1, n + 1):\n",
    "            if (j % 2 == 0 or j == 0):\n",
    "                print((j + 1) // 2, end = \" \")\n",
    "            else:\n",
    "                print(i, end = \" \")\n",
    "        print()  \n",
    "p86(int(input(\"N: \")))  "
   ]
  },
  {
   "cell_type": "code",
   "execution_count": 38,
   "metadata": {},
   "outputs": [
    {
     "name": "stdout",
     "output_type": "stream",
     "text": [
      "1 1 2 1 3 1 4 1 5 \n",
      "1 2 2 2 3 2 4 2 5 \n",
      "1 3 2 3 3 3 4 3 5 \n",
      "1 4 2 4 3 4 4 4 5 \n",
      "1 5 2 5 3 5 4 5 5 \n",
      "1 6 2 6 3 6 4 6 5 \n",
      "1 7 2 7 3 7 4 7 5 \n",
      "1 8 2 8 3 8 4 8 5 \n",
      "1 9 2 9 3 9 4 9 5 \n"
     ]
    }
   ],
   "source": [
    "def p87(n):\n",
    "    n |= 1\n",
    "    for i in range (1, n + 1):\n",
    "        for j in range (1, n + 1):\n",
    "            if (j % 2 == 0 or j == 0):\n",
    "                print(i, end = \" \")\n",
    "            else:\n",
    "                print((j + 1) // 2, end = \" \")\n",
    "        print()  \n",
    "p87(int(input(\"N: \")))  "
   ]
  },
  {
   "cell_type": "code",
   "execution_count": 416,
   "metadata": {},
   "outputs": [
    {
     "name": "stdout",
     "output_type": "stream",
     "text": [
      "        D         \n",
      "      D D D       \n",
      "    D   D   D     \n",
      "  D     D     D   \n",
      "D D D D D D D D D \n",
      "  D     D     D   \n",
      "    D   D   D     \n",
      "      D D D       \n",
      "        D         \n"
     ]
    }
   ],
   "source": [
    "def p88(n):\n",
    "    n=n|1\n",
    "    for i in range(n):\n",
    "        for j in range(n):\n",
    "            if i+j==n//2 or i-j==n//2 or i-j==-(n//2) or i+j==3*(n//2) or i == n // 2 or j == n // 2:\n",
    "                print(\"D\", end = \" \")\n",
    "            else:\n",
    "                print(\" \", end = \" \")\n",
    "        print()\n",
    "p88(int(input(\"N: \")))  "
   ]
  },
  {
   "cell_type": "code",
   "execution_count": 420,
   "metadata": {},
   "outputs": [
    {
     "name": "stdout",
     "output_type": "stream",
     "text": [
      "                  \n",
      "                  \n",
      "            *     \n",
      "              *   \n",
      "* * * * * * * * * \n",
      "              *   \n",
      "            *     \n",
      "                  \n",
      "                  \n"
     ]
    }
   ],
   "source": [
    "def p89(n):\n",
    "    n = n | 1\n",
    "    for i in range(0,n):\n",
    "        for j in range(n):\n",
    "            if i==n//2  or (i-j==-(n//2) and i>=n//4)  or( i+j==3*(n//2) and j>=3*(n//4)) :\n",
    "                print(\"*\", end =\" \")\n",
    "            else:\n",
    "                print(\" \", end =\" \")\n",
    "        print()\n",
    "p89(int(input(\"N: \")))  "
   ]
  },
  {
   "cell_type": "code",
   "execution_count": 49,
   "metadata": {},
   "outputs": [
    {
     "name": "stdout",
     "output_type": "stream",
     "text": [
      "* * * * * * * * * * * \n",
      "* * * * *   * * * * * \n",
      "* * * *       * * * * \n",
      "* * *           * * * \n",
      "* *               * * \n",
      "*                   * \n",
      "* *               * * \n",
      "* * *           * * * \n",
      "* * * *       * * * * \n",
      "* * * * *   * * * * * \n",
      "* * * * * * * * * * * \n"
     ]
    }
   ],
   "source": [
    "def p90(n):\n",
    "    if (n % 2 != 0):\n",
    "        n += 1\n",
    "    for i in range(n + 1):\n",
    "        for j in range(n + 1):\n",
    "            if (i + j <= n// 2) or (i - j <= -(n // 2)) or ((i + j) >= 3 * (n // 2)) or (i - j >= (n // 2)):\n",
    "                print(\"*\", end =\" \")\n",
    "            else:\n",
    "                print(\" \", end =\" \")\n",
    "        print()\n",
    "p90(int(input(\"N: \")))  "
   ]
  },
  {
   "cell_type": "code",
   "execution_count": 52,
   "metadata": {},
   "outputs": [
    {
     "name": "stdout",
     "output_type": "stream",
     "text": [
      "* * * * * * * * * * * \n",
      "* * * * * * * * * * * \n",
      "* * * *     * * * * * \n",
      "* * *         * * * * \n",
      "* *             * * * \n",
      "* *               * * \n",
      "* * *             * * \n",
      "* * * *         * * * \n",
      "* * * * *     * * * * \n",
      "* * * * * * * * * * * \n",
      "* * * * * * * * * * * \n"
     ]
    }
   ],
   "source": [
    "def p91(n):\n",
    "    if (n % 2 != 0):\n",
    "        n += 1\n",
    "    for i in range(n + 1):\n",
    "        for j in range(n + 1):\n",
    "            if (i + j <= n// 2) or (i - j <= -(n // 2) + 1) or ((i + j) >= 3 * (n // 2)) or (i - j >= (n // 2) - 1):\n",
    "                print(\"*\", end =\" \")\n",
    "            else:\n",
    "                print(\" \", end =\" \")\n",
    "        print()\n",
    "p91(int(input(\"N: \")))  "
   ]
  },
  {
   "cell_type": "code",
   "execution_count": 3,
   "metadata": {},
   "outputs": [
    {
     "name": "stdout",
     "output_type": "stream",
     "text": [
      "    1 \n",
      "   1 1 \n",
      "  1 2 1 \n",
      " 1 3 3 1 \n",
      "1 4 6 4 1 \n"
     ]
    }
   ],
   "source": [
    "import math\n",
    "def b(n, k):\n",
    "    return math.factorial(n) // (math.factorial(k) * math.factorial(n - k))\n",
    "\n",
    "def p92(n):\n",
    "    for i in range(n):\n",
    "        for j in range(n - i - 1):\n",
    "            print(\" \", end=\"\")\n",
    "        for j in range(i + 1):\n",
    "            print(b(i, j), end=\" \")\n",
    "        print()\n",
    "\n",
    "p92(int(input(\"N: \")))  \n"
   ]
  },
  {
   "cell_type": "code",
   "execution_count": 77,
   "metadata": {},
   "outputs": [
    {
     "name": "stdout",
     "output_type": "stream",
     "text": [
      "                      \n",
      "                      \n",
      "                      \n",
      "    * * * * * * *     \n",
      "  * * * * * * * * *   \n",
      "  * * * * * * * * *   \n",
      "  * * * * * * * * *   \n",
      "    * * * * * * *     \n",
      "                      \n",
      "                      \n",
      "                      \n"
     ]
    }
   ],
   "source": [
    "def p92(n):\n",
    "    if (n % 2 != 0):\n",
    "        n += 1\n",
    "    for i in range(n + 1):\n",
    "        for j in range(n + 1):\n",
    "            if ((i > n // 4) and (i < ((3 * n) // 4) + 1)) and not((i + j < n// 2) or (i - j < -(n // 2)) or ((i + j) > 3 * (n // 2)) or (i - j > (n // 2)) or j == 0 or j == n):\n",
    "                print(\"*\", end =\" \")\n",
    "            else:\n",
    "                print(\" \", end =\" \")\n",
    "        print()\n",
    "p92(int(input(\"N: \")))  "
   ]
  },
  {
   "cell_type": "code",
   "execution_count": 95,
   "metadata": {},
   "outputs": [
    {
     "name": "stdout",
     "output_type": "stream",
     "text": [
      "D D D D D D D D D D \n",
      "D D D D D D D D D D \n",
      "D D                 \n",
      "D D                 \n",
      "D D D D D D D D D D \n",
      "D D D D D D D D D D \n",
      "                D D \n",
      "                D D \n",
      "D D D D D D D D D D \n",
      "D D D D D D D D D D \n"
     ]
    }
   ],
   "source": [
    "def p93(n):\n",
    "    if (n % 2 != 0):\n",
    "        n += 1\n",
    "    t = 2\n",
    "    for i in range(n):\n",
    "        for j in range(n):\n",
    "            if (i>=0 and i<t) or (n-t<=i and i<n) or ((n//2) - (t//2) <= i and i < (n//2) + (t//2)) or ((0<=j and j<t) and (i < n//2)) or ((n - t <= j and j <= n)and (i > n//2)):\n",
    "                print(\"D\", end=\" \")\n",
    "            else:\n",
    "                print(\" \", end=\" \")\n",
    "        print()\n",
    "p93(int(input(\"N: \")))  \n"
   ]
  },
  {
   "cell_type": "code",
   "execution_count": 98,
   "metadata": {},
   "outputs": [
    {
     "name": "stdout",
     "output_type": "stream",
     "text": [
      "        / \\             / \\             / \\             / \\             / \\             / \\             / \\             / \\ \n",
      "      /     \\         /     \\         /     \\         /     \\         /     \\         /     \\         /     \\         /     \n",
      "    /         \\     /         \\     /         \\     /         \\     /         \\     /         \\     /         \\     /       \n",
      "  /             \\ /             \\ /             \\ /             \\ /             \\ /             \\ /             \\ /         \n"
     ]
    }
   ],
   "source": [
    "#94\n",
    "input_ = input(\"Enter the height and length with a space :\").split(' ')\n",
    "for it in range(0, len(input_), 2):\n",
    "        if(input_[it] == \"height\"):\n",
    "            height = int(input_[it + 1])\n",
    "        if(input_[it] == \"length\"):\n",
    "            length = int(input_[it + 1])\n",
    "#height,length = int(input(\"Height:\")),int(input(\"width:\"))\n",
    "k = height + 1\n",
    "for i in range(height):\n",
    "    o = k - i - 1\n",
    "    s_gap = 0\n",
    "    for l in range (height - i):\n",
    "        print(\" \",end = \" \")\n",
    "    for j in range(height - i - 1,length + 1):\n",
    "        if((j+1)%(o) == 0):\n",
    "            if s_gap == 0:\n",
    "                print(\"/\",end = \" \")\n",
    "                o += i*2 + 1\n",
    "                s_gap = 1\n",
    "            else :\n",
    "                print(\"\\\\\",end = \" \")\n",
    "                o += (height -i*2) + height - 1\n",
    "                s_gap = 0\n",
    "        else:\n",
    "            print(\" \",end = \" \") \n",
    "    print()"
   ]
  },
  {
   "cell_type": "code",
   "execution_count": 100,
   "metadata": {},
   "outputs": [
    {
     "name": "stdout",
     "output_type": "stream",
     "text": [
      "          | |                 | |                 | |                 | |                 | |           \n",
      "        |     |             |     |             |     |             |     |             |     |         \n",
      "      |         |         |         |         |         |         |         |         |         |       \n",
      "    |             |     |             |     |             |     |             |     |             |     \n",
      "  |                 | |                 | |                 | |                 | |                 | | \n"
     ]
    }
   ],
   "source": [
    "#95\n",
    "input_ = input(\"Enter the height and length with a space :\").split(' ')\n",
    "for it in range(0, len(input_), 2):\n",
    "        if(input_[it] == \"height\"):\n",
    "            height = int(input_[it + 1])\n",
    "        if(input_[it] == \"length\"):\n",
    "            length = int(input_[it + 1])\n",
    "#height,length = int(input(\"Height:\")),int(input(\"width:\"))\n",
    "k = height + 1\n",
    "for i in range(height):\n",
    "    o = k - i - 1\n",
    "    s_gap = 0\n",
    "    for l in range (height - i):\n",
    "        print(\" \",end = \" \")\n",
    "    for j in range(height - i - 1,length + 1):\n",
    "        if((j+1)%(o) == 0):\n",
    "            print(\"|\",end = \" \")\n",
    "            if s_gap == 0:\n",
    "                o += i*2 + 1\n",
    "                s_gap = 1\n",
    "            else :\n",
    "                o += (height -i*2) + height - 1\n",
    "                s_gap = 0\n",
    "        else:\n",
    "            print(\" \",end = \" \") \n",
    "    print()"
   ]
  },
  {
   "cell_type": "code",
   "execution_count": 101,
   "metadata": {},
   "outputs": [
    {
     "name": "stdout",
     "output_type": "stream",
     "text": [
      "            * *                     * *                     * *                     * *                     * *                     * *         \n",
      "          *     *                 *     *                 *     *                 *     *                 *     *                 *     *       \n",
      "        *         *             *         *             *         *             *         *             *         *             *         *     \n",
      "      *             *         *             *         *             *         *             *         *             *         *             *   \n",
      "    *                 *     *                 *     *                 *     *                 *     *                 *     *                 * \n",
      "  *                     * *                     * *                     * *                     * *                     * *                     \n"
     ]
    }
   ],
   "source": [
    "#96\n",
    "input_ = input(\"Enter the height and length with a space :\").split(' ')\n",
    "for it in range(0, len(input_), 2):\n",
    "        if(input_[it] == \"height\"):\n",
    "            height = int(input_[it + 1])\n",
    "        if(input_[it] == \"length\"):\n",
    "            length = int(input_[it + 1])\n",
    "#height,length = int(input(\"Height:\")),int(input(\"width:\"))\n",
    "k = height + 1\n",
    "for i in range(height):\n",
    "    o = k - i - 1\n",
    "    s_gap = 0\n",
    "    for l in range (height - i):\n",
    "        print(\" \",end = \" \")\n",
    "    for j in range(height - i - 1,length + 1):\n",
    "        if((j+1)%(o) == 0):\n",
    "            print(\"*\",end = \" \")\n",
    "            if s_gap == 0:\n",
    "                o += i*2 + 1\n",
    "                s_gap = 1\n",
    "            else :\n",
    "                o += (height -i*2) + height - 1\n",
    "                s_gap = 0\n",
    "        else:\n",
    "            print(\" \",end = \" \") \n",
    "    print()"
   ]
  },
  {
   "cell_type": "code",
   "execution_count": 1,
   "metadata": {},
   "outputs": [
    {
     "name": "stdout",
     "output_type": "stream",
     "text": [
      "          4 5                 14 15                 24 25                 34 35                 44 45                 54 55                 64 65                 74 75                 84 85                 94 95                 104 105                 114 115                 124 125                 134 135                 144 145                 154 155                 164 165                 174 175                 184 185                 194 195                 204 205                 214 215                 224 225                 234 235                 244 245                 254 255                 264 265                 274 275                 284 285                 294 295                 304 305                 314 315                 324 325                 334 335                 344 345                 354 355                 364 365                 374 375                 384 385                 394 395                 404 405                 414 415                 424 425                 434 435                 444 445                 454 455                 464 465                 474 475                 484 485                 494 495                 504 505                 514 515                 524 525                 534 535                 544 545                 554 555                 564 565                 574 575                 584 585                 594 595                 604 605                 614 615                 624 625                 634 635                 644 645                 654 655                 664 665                 674 675                 684 685                 694 695                 704 705                 714 715                 724 725                 734 735                 744 745                 754 755                 764 765                 774 775                 784 785                 794 795                 804 805                 814 815                 824 825                 834 835                 844 845                 854 855                 864 865                 874 875                 884 885                 894 895                 904 905                 914 915                 924 925                 934 935                 944 945                 954 955                 964 965                 974 975                 984 985                 994 995           \n",
      "        3     6             13     16             23     26             33     36             43     46             53     56             63     66             73     76             83     86             93     96             103     106             113     116             123     126             133     136             143     146             153     156             163     166             173     176             183     186             193     196             203     206             213     216             223     226             233     236             243     246             253     256             263     266             273     276             283     286             293     296             303     306             313     316             323     326             333     336             343     346             353     356             363     366             373     376             383     386             393     396             403     406             413     416             423     426             433     436             443     446             453     456             463     466             473     476             483     486             493     496             503     506             513     516             523     526             533     536             543     546             553     556             563     566             573     576             583     586             593     596             603     606             613     616             623     626             633     636             643     646             653     656             663     666             673     676             683     686             693     696             703     706             713     716             723     726             733     736             743     746             753     756             763     766             773     776             783     786             793     796             803     806             813     816             823     826             833     836             843     846             853     856             863     866             873     876             883     886             893     896             903     906             913     916             923     926             933     936             943     946             953     956             963     966             973     976             983     986             993     996         \n",
      "      2         7         12         17         22         27         32         37         42         47         52         57         62         67         72         77         82         87         92         97         102         107         112         117         122         127         132         137         142         147         152         157         162         167         172         177         182         187         192         197         202         207         212         217         222         227         232         237         242         247         252         257         262         267         272         277         282         287         292         297         302         307         312         317         322         327         332         337         342         347         352         357         362         367         372         377         382         387         392         397         402         407         412         417         422         427         432         437         442         447         452         457         462         467         472         477         482         487         492         497         502         507         512         517         522         527         532         537         542         547         552         557         562         567         572         577         582         587         592         597         602         607         612         617         622         627         632         637         642         647         652         657         662         667         672         677         682         687         692         697         702         707         712         717         722         727         732         737         742         747         752         757         762         767         772         777         782         787         792         797         802         807         812         817         822         827         832         837         842         847         852         857         862         867         872         877         882         887         892         897         902         907         912         917         922         927         932         937         942         947         952         957         962         967         972         977         982         987         992         997       \n",
      "    1             8     11             18     21             28     31             38     41             48     51             58     61             68     71             78     81             88     91             98     101             108     111             118     121             128     131             138     141             148     151             158     161             168     171             178     181             188     191             198     201             208     211             218     221             228     231             238     241             248     251             258     261             268     271             278     281             288     291             298     301             308     311             318     321             328     331             338     341             348     351             358     361             368     371             378     381             388     391             398     401             408     411             418     421             428     431             438     441             448     451             458     461             468     471             478     481             488     491             498     501             508     511             518     521             528     531             538     541             548     551             558     561             568     571             578     581             588     591             598     601             608     611             618     621             628     631             638     641             648     651             658     661             668     671             678     681             688     691             698     701             708     711             718     721             728     731             738     741             748     751             758     761             768     771             778     781             788     791             798     801             808     811             818     821             828     831             838     841             848     851             858     861             868     871             878     881             888     891             898     901             908     911             918     921             928     931             938     941             948     951             958     961             968     971             978     981             988     991             998     \n",
      "  0                 9 10                 19 20                 29 30                 39 40                 49 50                 59 60                 69 70                 79 80                 89 90                 99 100                 109 110                 119 120                 129 130                 139 140                 149 150                 159 160                 169 170                 179 180                 189 190                 199 200                 209 210                 219 220                 229 230                 239 240                 249 250                 259 260                 269 270                 279 280                 289 290                 299 300                 309 310                 319 320                 329 330                 339 340                 349 350                 359 360                 369 370                 379 380                 389 390                 399 400                 409 410                 419 420                 429 430                 439 440                 449 450                 459 460                 469 470                 479 480                 489 490                 499 500                 509 510                 519 520                 529 530                 539 540                 549 550                 559 560                 569 570                 579 580                 589 590                 599 600                 609 610                 619 620                 629 630                 639 640                 649 650                 659 660                 669 670                 679 680                 689 690                 699 700                 709 710                 719 720                 729 730                 739 740                 749 750                 759 760                 769 770                 779 780                 789 790                 799 800                 809 810                 819 820                 829 830                 839 840                 849 850                 859 860                 869 870                 879 880                 889 890                 899 900                 909 910                 919 920                 929 930                 939 940                 949 950                 959 960                 969 970                 979 980                 989 990                 999 1000 \n"
     ]
    }
   ],
   "source": [
    "#97\n",
    "input_ = input(\"Enter the height and length with a space :\").split(' ')\n",
    "for it in range(0, len(input_), 2):\n",
    "        if(input_[it] == \"height\"):\n",
    "            height = int(input_[it + 1])\n",
    "        if(input_[it] == \"length\"):\n",
    "            length = int(input_[it + 1])\n",
    "#height,length = int(input(\"Height:\")),int(input(\"width:\"))\n",
    "k = height + 1\n",
    "for i in range(height):\n",
    "    o = k - i - 1\n",
    "    s_gap = 0\n",
    "    for l in range (height - i):\n",
    "        print(\" \",end = \" \")\n",
    "    for j in range(height - i - 1,length + 1):\n",
    "        if((j+1)%(o) == 0):\n",
    "            print(j,end = \" \")\n",
    "            if s_gap == 0:\n",
    "                o += i*2 + 1\n",
    "                s_gap = 1\n",
    "            else :\n",
    "                o += (height -i*2) + height - 1\n",
    "                s_gap = 0\n",
    "        else:\n",
    "            print(\" \",end = \" \") \n",
    "    print()"
   ]
  },
  {
   "cell_type": "code",
   "execution_count": 438,
   "metadata": {},
   "outputs": [
    {
     "name": "stdout",
     "output_type": "stream",
     "text": [
      "          E F                 O P                 Y Z                 c d                 m n                 w x                             \n",
      "        D     G             N     Q             X     [             b     e             l     o             v     y                           \n",
      "      C         H         M         R         W         \\         a         f         k         p         u         z                         \n",
      "    B             I     L             S     V             ]     `             g     j             q     t             {     ~                  \n",
      "  A                 J K                 T U                 ^ _                 h i                 r s                 | }                   \n"
     ]
    }
   ],
   "source": [
    "#98\n",
    "input_ = input(\"Enter the height and length with a space :\").split(' ')\n",
    "for it in range(0, len(input_), 2):\n",
    "        if(input_[it] == \"height\"):\n",
    "            height = int(input_[it + 1])\n",
    "        if(input_[it] == \"length\"):\n",
    "            length = int(input_[it + 1])\n",
    "#height,length = int(input(\"Height:\")),int(input(\"width:\"))\n",
    "k = height + 1\n",
    "for i in range(height):\n",
    "    o = k - i - 1\n",
    "    s_gap = 0\n",
    "    for l in range (height - i):\n",
    "        print(\" \",end = \" \")\n",
    "    for j in range(height - i - 1,length + 1):\n",
    "        if((j+1)%(o) == 0):\n",
    "            print(chr(65 + j),end = \" \")\n",
    "            if s_gap == 0:\n",
    "                o += i*2 + 1\n",
    "                s_gap = 1\n",
    "            else :\n",
    "                o += (height -i*2) + height - 1\n",
    "                s_gap = 0\n",
    "        else:\n",
    "            print(\" \",end = \" \") \n",
    "    print()"
   ]
  },
  {
   "cell_type": "code",
   "execution_count": 439,
   "metadata": {},
   "outputs": [
    {
     "name": "stdout",
     "output_type": "stream",
     "text": [
      "      c d         i j         o p         u v         { |                                                                      ¥ ¦   \n",
      "    b     e     h     k     n     q     t     w     z     }                                                            ¡     ¤     § \n",
      "  a         f g         l m         r s         x y         ~                                                            ¢ £         \n"
     ]
    }
   ],
   "source": [
    "#99\n",
    "input_ = input(\"Enter the height and length with a space :\").split(' ')\n",
    "for it in range(0, len(input_), 2):\n",
    "        if(input_[it] == \"height\"):\n",
    "            height = int(input_[it + 1])\n",
    "        if(input_[it] == \"length\"):\n",
    "            length = int(input_[it + 1])\n",
    "#height,length = int(input(\"Height:\")),int(input(\"width:\"))\n",
    "k = height + 1\n",
    "for i in range(height):\n",
    "    o = k - i - 1\n",
    "    s_gap = 0\n",
    "    for l in range (height - i):\n",
    "        print(\" \",end = \" \")\n",
    "    for j in range(height - i - 1,length + 1):\n",
    "        if((j+1)%(o) == 0):\n",
    "            print(chr(97 + j),end = \" \")\n",
    "            if s_gap == 0:\n",
    "                o += i*2 + 1\n",
    "                s_gap = 1\n",
    "            else :\n",
    "                o += (height -i*2) + height - 1\n",
    "                s_gap = 0\n",
    "        else:\n",
    "            print(\" \",end = \" \") \n",
    "    print()"
   ]
  },
  {
   "cell_type": "code",
   "execution_count": 107,
   "metadata": {},
   "outputs": [
    {
     "name": "stdout",
     "output_type": "stream",
     "text": [
      "        W V             O N             G F         \n",
      "      X     U         P     M         H     E       \n",
      "    Y         T     Q         L     I         D     \n",
      "  Z             S R             K J             C B \n"
     ]
    }
   ],
   "source": [
    "#100\n",
    "input_ = input(\"Enter the height and length with a space :\").split(' ')\n",
    "for it in range(0, len(input_), 2):\n",
    "        if(input_[it] == \"height\"):\n",
    "            height = int(input_[it + 1])\n",
    "        if(input_[it] == \"length\"):\n",
    "            length = int(input_[it + 1])\n",
    "#height,length = int(input(\"Height:\")),int(input(\"width:\"))\n",
    "k = height + 1\n",
    "for i in range(height):\n",
    "    o = k - i - 1\n",
    "    s_gap = 0\n",
    "    for l in range (height - i):\n",
    "        print(\" \",end = \" \")\n",
    "    for j in range(height - i - 1,length + 1):\n",
    "        if((j+1)%(o) == 0):\n",
    "            print(chr(90 - j),end = \" \")\n",
    "            if s_gap == 0:\n",
    "                o += i*2 + 1\n",
    "                s_gap = 1\n",
    "            else :\n",
    "                o += (height -i*2) + height - 1\n",
    "                s_gap = 0\n",
    "        else:\n",
    "            print(\" \",end = \" \") \n",
    "    print()"
   ]
  },
  {
   "cell_type": "code",
   "execution_count": 108,
   "metadata": {},
   "outputs": [
    {
     "name": "stdout",
     "output_type": "stream",
     "text": [
      "          v u                 l k                 b a \n",
      "        w     t             m     j             c     \n",
      "      x         s         n         i         d       \n",
      "    y             r     o             h     e         \n",
      "  z                 q p                 g f           \n"
     ]
    }
   ],
   "source": [
    "#101\n",
    "input_ = input(\"Enter the height and length with a space :\").split(' ')\n",
    "for it in range(0, len(input_), 2):\n",
    "        if(input_[it] == \"height\"):\n",
    "            height = int(input_[it + 1])\n",
    "        if(input_[it] == \"length\"):\n",
    "            length = int(input_[it + 1])\n",
    "#height,length = int(input(\"Height:\")),int(input(\"width:\"))\n",
    "k = height + 1\n",
    "for i in range(height):\n",
    "    o = k - i - 1\n",
    "    s_gap = 0\n",
    "    for l in range (height - i):\n",
    "        print(\" \",end = \" \")\n",
    "    for j in range(height - i - 1,length + 1):\n",
    "        if((j+1)%(o) == 0):\n",
    "            print(chr(122 - j),end = \" \")\n",
    "            if s_gap == 0:\n",
    "                o += i*2 + 1\n",
    "                s_gap = 1\n",
    "            else :\n",
    "                o += (height -i*2) + height - 1\n",
    "                s_gap = 0\n",
    "        else:\n",
    "            print(\" \",end = \" \") \n",
    "    print()"
   ]
  },
  {
   "cell_type": "code",
   "execution_count": 169,
   "metadata": {},
   "outputs": [
    {
     "name": "stdout",
     "output_type": "stream",
     "text": [
      "    D D         D D         D D         D D         D D         D D         D D         D D         D D         D D         D D   \n",
      "  D     D     D     D     D     D     D     D     D     D     D     D     D     D     D     D     D     D     D     D     D     D \n",
      "  D     D     D     D     D     D     D     D     D     D     D     D     D     D     D     D     D     D     D     D     D     D   \n",
      "  D     D     D     D     D     D     D     D     D     D     D     D     D     D     D     D     D     D     D     D     D     D     \n",
      "  D     D     D     D     D     D     D     D     D     D     D     D     D     D     D     D     D     D     D     D     D     D     D \n",
      "D         D D         D D         D D         D D         D D         D D         D D         D D         D D         D D         D D   \n"
     ]
    }
   ],
   "source": [
    "#102\n",
    "input_ = input(\"Enter the length with a space :\").split(' ')\n",
    "for it in range(0, len(input_), 2):\n",
    "        if(input_[it] == \"length\"):\n",
    "            length = int(input_[it + 1])\n",
    "        if(input_[it] == \"height\"):\n",
    "            height = int(input_[it + 1])\n",
    "#height,length = int(input(\"Height:\")),int(input(\"width:\"))\n",
    "#height = 4\n",
    "if height % 2 != 0:\n",
    "    height += 1\n",
    "k = height + 1\n",
    "for i in range(height):\n",
    "    o = k - i - 1\n",
    "    s_gap = 0\n",
    "    if i == 0:\n",
    "        print(\"   \",end = \" \")\n",
    "    elif i == height - 1:\n",
    "        print(\"\",end= \"\")\n",
    "    else:\n",
    "        print(\" \",end = \" \")\n",
    "    for j in range(height - i - 1,length + 1):\n",
    "        if((j+1)%(o) == 0):\n",
    "            if (i == 0):\n",
    "                if((j+1)%(o) == 0):\n",
    "                    print(\"D\",end = \" \")\n",
    "                    if s_gap == 0:\n",
    "                        o += 1\n",
    "                        s_gap = 1\n",
    "                    else :\n",
    "                        o += 5\n",
    "                        s_gap = 0\n",
    "            elif (i == height - 1):\n",
    "                if((j+1)%(o) == 0):\n",
    "                    print(\"D\",end = \" \")\n",
    "                    if s_gap == 0:\n",
    "                        o += 5\n",
    "                        s_gap = 1\n",
    "                    else :\n",
    "                        o += 1\n",
    "                        s_gap = 0\n",
    "            elif (i > 0 or i < height - 1):\n",
    "                if((j+1)%(o) == 0):\n",
    "                    print(\"D\",end = \" \")\n",
    "                    if s_gap == 0:\n",
    "                        o += 3\n",
    "                        s_gap = 1\n",
    "                    else :\n",
    "                        o += 3\n",
    "                        s_gap = 0\n",
    "        else:\n",
    "            print(\" \",end = \" \") \n",
    "    print()"
   ]
  },
  {
   "cell_type": "code",
   "execution_count": 171,
   "metadata": {},
   "outputs": [
    {
     "name": "stdout",
     "output_type": "stream",
     "text": [
      "    3 4         9 10         15 16         21 22       \n",
      "  2     5     8     11     14     17     20     23     \n",
      "  1     4     7     10     13     16     19     22     25 \n",
      "0         5 6         11 12         17 18         23 24   \n"
     ]
    }
   ],
   "source": [
    "#103\n",
    "input_ = input(\"Enter the length with a space :\").split(' ')\n",
    "for it in range(0, len(input_), 2):\n",
    "        if(input_[it] == \"length\"):\n",
    "            length = int(input_[it + 1])\n",
    "        if(input_[it] == \"height\"):\n",
    "            height = int(input_[it + 1])\n",
    "#height,length = int(input(\"Height:\")),int(input(\"width:\"))\n",
    "#height,length = 4,25\n",
    "if height % 2 != 0:\n",
    "    height += 1\n",
    "k = height + 1\n",
    "for i in range(height):\n",
    "    o = k - i - 1\n",
    "    s_gap = 0\n",
    "    if i == 0:\n",
    "        print(\"   \",end = \" \")\n",
    "    elif i == height - 1:\n",
    "        print(\"\",end= \"\")\n",
    "    else:\n",
    "        print(\" \",end = \" \")\n",
    "    for j in range(height - i - 1,length + 1):\n",
    "        if((j+1)%(o) == 0):\n",
    "            if (i == 0):\n",
    "                if((j+1)%(o) == 0):\n",
    "                    print(j,end = \" \")\n",
    "                    if s_gap == 0:\n",
    "                        o += 1\n",
    "                        s_gap = 1\n",
    "                    else :\n",
    "                        o += 5\n",
    "                        s_gap = 0\n",
    "            elif (i == height - 1):\n",
    "                if((j+1)%(o) == 0):\n",
    "                    print(j,end = \" \")\n",
    "                    if s_gap == 0:\n",
    "                        o += 5\n",
    "                        s_gap = 1\n",
    "                    else :\n",
    "                        o += 1\n",
    "                        s_gap = 0\n",
    "            elif (i > 0 or i < height - 1):\n",
    "                if((j+1)%(o) == 0):\n",
    "                    print(j,end = \" \")\n",
    "                    if s_gap == 0:\n",
    "                        o += 3\n",
    "                        s_gap = 1\n",
    "                    else :\n",
    "                        o += 3\n",
    "                        s_gap = 0\n",
    "        else:\n",
    "            print(\" \",end = \" \") \n",
    "    print()"
   ]
  },
  {
   "cell_type": "code",
   "execution_count": 172,
   "metadata": {},
   "outputs": [
    {
     "name": "stdout",
     "output_type": "stream",
     "text": [
      "    F G         L M         R S         X Y         ^ _         \n",
      "  E     H     K     N     Q     T     W     Z     ]     `     c \n",
      "  D     G     J     M     P     S     V     Y     \\     _     b   \n",
      "  C     F     I     L     O     R     U     X     [     ^     a     \n",
      "  B     E     H     K     N     Q     T     W     Z     ]     `     c \n",
      "A         F G         L M         R S         X Y         ^ _         \n"
     ]
    }
   ],
   "source": [
    "#104\n",
    "input_ = input(\"Enter the length with a space :\").split(' ')\n",
    "for it in range(0, len(input_), 2):\n",
    "        if(input_[it] == \"length\"):\n",
    "            length = int(input_[it + 1])\n",
    "        if(input_[it] == \"height\"):\n",
    "            height = int(input_[it + 1])\n",
    "#height,length = int(input(\"Height:\")),int(input(\"width:\"))\n",
    "#height,length = 4,25\n",
    "if height % 2 != 0:\n",
    "    height += 1\n",
    "k = height + 1\n",
    "for i in range(height):\n",
    "    o = k - i - 1\n",
    "    s_gap = 0\n",
    "    if i == 0:\n",
    "        print(\"   \",end = \" \")\n",
    "    elif i == height - 1:\n",
    "        print(\"\",end= \"\")\n",
    "    else:\n",
    "        print(\" \",end = \" \")\n",
    "    for j in range(height - i - 1,length + 1):\n",
    "        if((j+1)%(o) == 0):\n",
    "            if (i == 0):\n",
    "                if((j+1)%(o) == 0):\n",
    "                    print(chr(65+j),end = \" \")\n",
    "                    if s_gap == 0:\n",
    "                        o += 1\n",
    "                        s_gap = 1\n",
    "                    else :\n",
    "                        o += 5\n",
    "                        s_gap = 0\n",
    "            elif (i == height - 1):\n",
    "                if((j+1)%(o) == 0):\n",
    "                    print(chr(65+j),end = \" \")\n",
    "                    if s_gap == 0:\n",
    "                        o += 5\n",
    "                        s_gap = 1\n",
    "                    else :\n",
    "                        o += 1\n",
    "                        s_gap = 0\n",
    "            elif (i > 0 or i < height - 1):\n",
    "                if((j+1)%(o) == 0):\n",
    "                    print(chr(65+j),end = \" \")\n",
    "                    if s_gap == 0:\n",
    "                        o += 3\n",
    "                        s_gap = 1\n",
    "                    else :\n",
    "                        o += 3\n",
    "                        s_gap = 0\n",
    "        else:\n",
    "            print(\" \",end = \" \") \n",
    "    print()"
   ]
  },
  {
   "cell_type": "code",
   "execution_count": 173,
   "metadata": {},
   "outputs": [
    {
     "name": "stdout",
     "output_type": "stream",
     "text": [
      "    d e         j k         p q         v w       \n",
      "  c     f     i     l     o     r     u     x     \n",
      "  b     e     h     k     n     q     t     w     z \n",
      "a         f g         l m         r s         x y   \n"
     ]
    }
   ],
   "source": [
    "#105\n",
    "input_ = input(\"Enter the length with a space :\").split(' ')\n",
    "for it in range(0, len(input_), 2):\n",
    "        if(input_[it] == \"length\"):\n",
    "            length = int(input_[it + 1])\n",
    "        if(input_[it] == \"height\"):\n",
    "            height = int(input_[it + 1])\n",
    "#height,length = int(input(\"Height:\")),int(input(\"width:\"))\n",
    "#height,length = 4,25\n",
    "if height % 2 != 0:\n",
    "    height += 1\n",
    "k = height + 1\n",
    "for i in range(height):\n",
    "    o = k - i - 1\n",
    "    s_gap = 0\n",
    "    if i == 0:\n",
    "        print(\"   \",end = \" \")\n",
    "    elif i == height - 1:\n",
    "        print(\"\",end= \"\")\n",
    "    else:\n",
    "        print(\" \",end = \" \")\n",
    "    for j in range(height - i - 1,length + 1):\n",
    "        if((j+1)%(o) == 0):\n",
    "            if (i == 0):\n",
    "                if((j+1)%(o) == 0):\n",
    "                    print(chr(97+j),end = \" \")\n",
    "                    if s_gap == 0:\n",
    "                        o += 1\n",
    "                        s_gap = 1\n",
    "                    else :\n",
    "                        o += 5\n",
    "                        s_gap = 0\n",
    "            elif (i == height - 1):\n",
    "                if((j+1)%(o) == 0):\n",
    "                    print(chr(97+j),end = \" \")\n",
    "                    if s_gap == 0:\n",
    "                        o += 5\n",
    "                        s_gap = 1\n",
    "                    else :\n",
    "                        o += 1\n",
    "                        s_gap = 0\n",
    "            elif (i > 0 or i < height - 1):\n",
    "                if((j+1)%(o) == 0):\n",
    "                    print(chr(97+j),end = \" \")\n",
    "                    if s_gap == 0:\n",
    "                        o += 3\n",
    "                        s_gap = 1\n",
    "                    else :\n",
    "                        o += 3\n",
    "                        s_gap = 0\n",
    "        else:\n",
    "            print(\" \",end = \" \") \n",
    "    print()"
   ]
  },
  {
   "cell_type": "code",
   "execution_count": 175,
   "metadata": {},
   "outputs": [
    {
     "name": "stdout",
     "output_type": "stream",
     "text": [
      "    U T         O N         I H         C B   \n",
      "  V     S     P     M     J     G     D     A \n",
      "  W     T     Q     N     K     H     E     B   \n",
      "  X     U     R     O     L     I     F     C     \n",
      "  Y     V     S     P     M     J     G     D     A \n",
      "Z         U T         O N         I H         C B   \n"
     ]
    }
   ],
   "source": [
    "#106\n",
    "input_ = input(\"Enter the length with a space :\").split(' ')\n",
    "for it in range(0, len(input_), 2):\n",
    "        if(input_[it] == \"length\"):\n",
    "            length = int(input_[it + 1])\n",
    "        if(input_[it] == \"height\"):\n",
    "            height = int(input_[it + 1])\n",
    "#height,length = int(input(\"Height:\")),int(input(\"width:\"))\n",
    "#height,length = 4,25\n",
    "if height % 2 != 0:\n",
    "    height += 1\n",
    "k = height + 1\n",
    "for i in range(height):\n",
    "    o = k - i - 1\n",
    "    s_gap = 0\n",
    "    if i == 0:\n",
    "        print(\"   \",end = \" \")\n",
    "    elif i == height - 1:\n",
    "        print(\"\",end= \"\")\n",
    "    else:\n",
    "        print(\" \",end = \" \")\n",
    "    for j in range(height - i - 1,length + 1):\n",
    "        if((j+1)%(o) == 0):\n",
    "            if (i == 0):\n",
    "                if((j+1)%(o) == 0):\n",
    "                    print(chr(90-j),end = \" \")\n",
    "                    if s_gap == 0:\n",
    "                        o += 1\n",
    "                        s_gap = 1\n",
    "                    else :\n",
    "                        o += 5\n",
    "                        s_gap = 0\n",
    "            elif (i == height - 1):\n",
    "                if((j+1)%(o) == 0):\n",
    "                    print(chr(90-j),end = \" \")\n",
    "                    if s_gap == 0:\n",
    "                        o += 5\n",
    "                        s_gap = 1\n",
    "                    else :\n",
    "                        o += 1\n",
    "                        s_gap = 0\n",
    "            elif (i > 0 or i < height - 1):\n",
    "                if((j+1)%(o) == 0):\n",
    "                    print(chr(90-j),end = \" \")\n",
    "                    if s_gap == 0:\n",
    "                        o += 3\n",
    "                        s_gap = 1\n",
    "                    else :\n",
    "                        o += 3\n",
    "                        s_gap = 0\n",
    "        else:\n",
    "            print(\" \",end = \" \") \n",
    "    print()"
   ]
  },
  {
   "cell_type": "code",
   "execution_count": 176,
   "metadata": {},
   "outputs": [
    {
     "name": "stdout",
     "output_type": "stream",
     "text": [
      "    w v         q p         k j         e d       \n",
      "  x     u     r     o     l     i     f     c     \n",
      "  y     v     s     p     m     j     g     d     a \n",
      "z         u t         o n         i h         c b   \n"
     ]
    }
   ],
   "source": [
    "#107\n",
    "input_ = input(\"Enter the length with a space :\").split(' ')\n",
    "for it in range(0, len(input_), 2):\n",
    "        if(input_[it] == \"length\"):\n",
    "            length = int(input_[it + 1])\n",
    "        if(input_[it] == \"height\"):\n",
    "            height = int(input_[it + 1])\n",
    "#height,length = int(input(\"Height:\")),int(input(\"width:\"))\n",
    "#height,length = 4,25\n",
    "if height % 2 != 0:\n",
    "    height += 1\n",
    "k = height + 1\n",
    "for i in range(height):\n",
    "    o = k - i - 1\n",
    "    s_gap = 0\n",
    "    if i == 0:\n",
    "        print(\"   \",end = \" \")\n",
    "    elif i == height - 1:\n",
    "        print(\"\",end= \"\")\n",
    "    else:\n",
    "        print(\" \",end = \" \")\n",
    "    for j in range(height - i - 1,length + 1):\n",
    "        if((j+1)%(o) == 0):\n",
    "            if (i == 0):\n",
    "                if((j+1)%(o) == 0):\n",
    "                    print(chr(122-j),end = \" \")\n",
    "                    if s_gap == 0:\n",
    "                        o += 1\n",
    "                        s_gap = 1\n",
    "                    else :\n",
    "                        o += 5\n",
    "                        s_gap = 0\n",
    "            elif (i == height - 1):\n",
    "                if((j+1)%(o) == 0):\n",
    "                    print(chr(122-j),end = \" \")\n",
    "                    if s_gap == 0:\n",
    "                        o += 5\n",
    "                        s_gap = 1\n",
    "                    else :\n",
    "                        o += 1\n",
    "                        s_gap = 0\n",
    "            elif (i > 0 or i < height - 1):\n",
    "                if((j+1)%(o) == 0):\n",
    "                    print(chr(122-j),end = \" \")\n",
    "                    if s_gap == 0:\n",
    "                        o += 3\n",
    "                        s_gap = 1\n",
    "                    else :\n",
    "                        o += 3\n",
    "                        s_gap = 0\n",
    "        else:\n",
    "            print(\" \",end = \" \") \n",
    "    print()"
   ]
  },
  {
   "cell_type": "code",
   "execution_count": 2,
   "metadata": {},
   "outputs": [
    {
     "name": "stdout",
     "output_type": "stream",
     "text": [
      "  D D D D     D D D D     D D D D     D D D D     D D D D     D D D D     D D D D     D D D D     D D D D     D D D D     D D D D   \n",
      "  D     D     D     D     D     D     D     D     D     D     D     D     D     D     D     D     D     D     D     D     D     D     \n",
      "  D     D     D     D     D     D     D     D     D     D     D     D     D     D     D     D     D     D     D     D     D     D     D \n",
      "  D     D     D     D     D     D     D     D     D     D     D     D     D     D     D     D     D     D     D     D     D     D     D   \n",
      "  D     D     D     D     D     D     D     D     D     D     D     D     D     D     D     D     D     D     D     D     D     D     D     \n",
      "D D     D D D D     D D D D     D D D D     D D D D     D D D D     D D D D     D D D D     D D D D     D D D D     D D D D     D D D D     \n"
     ]
    }
   ],
   "source": [
    "#108\n",
    "input_ = input(\"Enter the length with a space :\").split(' ')\n",
    "for it in range(0, len(input_), 2):\n",
    "        if(input_[it] == \"length\"):\n",
    "            length = int(input_[it + 1])\n",
    "        if(input_[it] == \"height\"):\n",
    "            height = int(input_[it + 1])\n",
    "#height,length = int(input(\"Height:\")),int(input(\"width:\"))\n",
    "#height,length = 4,26\n",
    "if height % 2 != 0:\n",
    "    height += 1\n",
    "k = height + 1\n",
    "for i in range(height):\n",
    "    o = k - i - 1\n",
    "    s_gap = 0\n",
    "    if i == height - 1:\n",
    "        print(\"\",end= \"\")\n",
    "    else:\n",
    "        print(\" \",end = \" \")\n",
    "    for j in range(height - i - 1,length + 1):\n",
    "        if((j+1)%(o) == 0):\n",
    "            if (i == 0):\n",
    "                if((j+1)%(o) == 0):\n",
    "                    print(\"D\",end = \" \")\n",
    "                    if s_gap <= 2:\n",
    "                        o += 1\n",
    "                        s_gap += 1\n",
    "                    else :\n",
    "                        o += 3\n",
    "                        s_gap = 0\n",
    "            elif (i == height - 1):\n",
    "                if((j+1)%(o) == 0):\n",
    "                    print(\"D\",end = \" \")\n",
    "                    '''if s_gap <= 1:\n",
    "                        o += 1\n",
    "                        s_gap += 1\n",
    "                    elif s_gap == 2:\n",
    "                        o += 3\n",
    "                        s_gap += 3\n",
    "                    else :\n",
    "                        o += 1\n",
    "                        s_gap -= 1'''\n",
    "                    if s_gap == 0:\n",
    "                        o += 1\n",
    "                        s_gap += 1\n",
    "                    elif s_gap == 1:\n",
    "                        o += 3\n",
    "                        s_gap += 3\n",
    "                    else :\n",
    "                        o += 1\n",
    "                        s_gap -= 1\n",
    "\n",
    "            elif (i > 0 or i < height - 1):\n",
    "                if((j+1)%(o) == 0):\n",
    "                    print(\"D\",end = \" \")\n",
    "                    if s_gap == 0:\n",
    "                        o += 3\n",
    "                        s_gap = 1\n",
    "                    else :\n",
    "                        o += 3\n",
    "                        s_gap = 0\n",
    "        else:\n",
    "            print(\" \",end = \" \") \n",
    "    print()"
   ]
  },
  {
   "cell_type": "code",
   "execution_count": 232,
   "metadata": {},
   "outputs": [
    {
     "name": "stdout",
     "output_type": "stream",
     "text": [
      "  5 6 7 8     11 12 13 14     17 18 19 20     23 24 25 26     29 30 31 32     35 36 37 38     41 42 43 44     47 48 49 50     53 54 55 56     59 60 61 62     65 66 67 \n",
      "  4     7     10     13     16     19     22     25     28     31     34     37     40     43     46     49     52     55     58     61     64     67 \n",
      "  3     6     9     12     15     18     21     24     27     30     33     36     39     42     45     48     51     54     57     60     63     66   \n",
      "  2     5     8     11     14     17     20     23     26     29     32     35     38     41     44     47     50     53     56     59     62     65     \n",
      "  1     4     7     10     13     16     19     22     25     28     31     34     37     40     43     46     49     52     55     58     61     64     67 \n",
      "0 1     4 5 6 7     10 11 12 13     16 17 18 19     22 23 24 25     28 29 30 31     34 35 36 37     40 41 42 43     46 47 48 49     52 53 54 55     58 59 60 61     64 65 66 67 \n"
     ]
    }
   ],
   "source": [
    "#109\n",
    "input_ = input(\"Enter the length with a space :\").split(' ')\n",
    "for it in range(0, len(input_), 2):\n",
    "        if(input_[it] == \"length\"):\n",
    "            length = int(input_[it + 1])\n",
    "        if(input_[it] == \"height\"):\n",
    "            height = int(input_[it + 1])\n",
    "#height,length = int(input(\"Height:\")),int(input(\"width:\"))\n",
    "#height,length = 4,26\n",
    "if height % 2 != 0:\n",
    "    height += 1\n",
    "k = height + 1\n",
    "for i in range(height):\n",
    "    o = k - i - 1\n",
    "    s_gap = 0\n",
    "    if i == height - 1:\n",
    "        print(\"\",end= \"\")\n",
    "    else:\n",
    "        print(\" \",end = \" \")\n",
    "    for j in range(height - i - 1,length + 1):\n",
    "        if((j+1)%(o) == 0):\n",
    "            if (i == 0):\n",
    "                if((j+1)%(o) == 0):\n",
    "                    print(j,end = \" \")\n",
    "                    if s_gap <= 2:\n",
    "                        o += 1\n",
    "                        s_gap += 1\n",
    "                    else :\n",
    "                        o += 3\n",
    "                        s_gap = 0\n",
    "            elif (i == height - 1):\n",
    "                if((j+1)%(o) == 0):\n",
    "                    print(j,end = \" \")\n",
    "                    '''if s_gap <= 1:\n",
    "                        o += 1\n",
    "                        s_gap += 1\n",
    "                    elif s_gap == 2:\n",
    "                        o += 3\n",
    "                        s_gap += 3\n",
    "                    else :\n",
    "                        o += 1\n",
    "                        s_gap -= 1'''\n",
    "                    if s_gap == 0:\n",
    "                        o += 1\n",
    "                        s_gap += 1\n",
    "                    elif s_gap == 1:\n",
    "                        o += 3\n",
    "                        s_gap += 3\n",
    "                    else :\n",
    "                        o += 1\n",
    "                        s_gap -= 1\n",
    "\n",
    "            elif (i > 0 or i < height - 1):\n",
    "                if((j+1)%(o) == 0):\n",
    "                    print(j,end = \" \")\n",
    "                    if s_gap == 0:\n",
    "                        o += 3\n",
    "                        s_gap = 1\n",
    "                    else :\n",
    "                        o += 3\n",
    "                        s_gap = 0\n",
    "        else:\n",
    "            print(\" \",end = \" \") \n",
    "    print()"
   ]
  },
  {
   "cell_type": "code",
   "execution_count": 1,
   "metadata": {},
   "outputs": [
    {
     "name": "stdout",
     "output_type": "stream",
     "text": [
      "D       D D       D D       D D       D D       D \n",
      "  D   D     D   D     D   D     D   D     D   D   \n",
      "    D         D         D         D         D     \n",
      "  D   D     D   D     D   D     D   D     D   D   \n",
      "D       D D       D D       D D       D D       D \n"
     ]
    }
   ],
   "source": [
    "def p110(n):\n",
    "        for i in range(n):\n",
    "                for k in range(n):\n",
    "                        for j in range(n):\n",
    "                                if i - j == 0 or i + j == n - 1:\n",
    "                                        print(\"D\", end=\" \")\n",
    "                                else:\n",
    "                                        print(\" \", end=\" \")\n",
    "                print()\n",
    "p110(int(input(\"N: \")))"
   ]
  },
  {
   "cell_type": "code",
   "execution_count": 239,
   "metadata": {},
   "outputs": [
    {
     "name": "stdout",
     "output_type": "stream",
     "text": [
      "D               D D               D D               D D               D D               D D               D D               D D               D D               D \n",
      "  D           D     D           D     D           D     D           D     D           D     D           D     D           D     D           D     D           D   \n",
      "    D       D         D       D         D       D         D       D         D       D         D       D         D       D         D       D         D       D     \n",
      "      D   D             D   D             D   D             D   D             D   D             D   D             D   D             D   D             D   D       \n",
      "        D                 D                 D                 D                 D                 D                 D                 D                 D         \n",
      "      D   D             D   D             D   D             D   D             D   D             D   D             D   D             D   D             D   D       \n",
      "    D       D         D       D         D       D         D       D         D       D         D       D         D       D         D       D         D       D     \n",
      "  D           D     D           D     D           D     D           D     D           D     D           D     D           D     D           D     D           D   \n",
      "D               D D               D D               D D               D D               D D               D D               D D               D D               D \n"
     ]
    }
   ],
   "source": [
    "def p111(n):\n",
    "        for i in range(n):\n",
    "                for k in range(n):\n",
    "                        for j in range(n):\n",
    "                                if i - j == 0 or i + j == n - 1:\n",
    "                                        print(\"D\", end=\" \")\n",
    "                                else:\n",
    "                                        print(\" \", end=\" \")\n",
    "                print()\n",
    "p111(int(input(\"N: \")))"
   ]
  },
  {
   "cell_type": "code",
   "execution_count": 243,
   "metadata": {},
   "outputs": [
    {
     "name": "stdout",
     "output_type": "stream",
     "text": [
      "][              ][][              ][][              ][][              ][][              ][][              ][][              ][][              ][][              ][\n",
      "  ][          ][    ][          ][    ][          ][    ][          ][    ][          ][    ][          ][    ][          ][    ][          ][    ][          ][  \n",
      "    ][      ][        ][      ][        ][      ][        ][      ][        ][      ][        ][      ][        ][      ][        ][      ][        ][      ][    \n",
      "      ][  ][            ][  ][            ][  ][            ][  ][            ][  ][            ][  ][            ][  ][            ][  ][            ][  ][      \n",
      "        ][                ][                ][                ][                ][                ][                ][                ][                ][        \n",
      "      ][  ][            ][  ][            ][  ][            ][  ][            ][  ][            ][  ][            ][  ][            ][  ][            ][  ][      \n",
      "    ][      ][        ][      ][        ][      ][        ][      ][        ][      ][        ][      ][        ][      ][        ][      ][        ][      ][    \n",
      "  ][          ][    ][          ][    ][          ][    ][          ][    ][          ][    ][          ][    ][          ][    ][          ][    ][          ][  \n",
      "][              ][][              ][][              ][][              ][][              ][][              ][][              ][][              ][][              ][\n"
     ]
    }
   ],
   "source": [
    "def p112(n):\n",
    "        for i in range(n):\n",
    "                for k in range(n):\n",
    "                        for j in range(n):\n",
    "                                if i - j == 0 or i + j == n - 1:\n",
    "                                        print(\"][\", end=\"\")\n",
    "                                else:\n",
    "                                        print(\" \", end=\" \")\n",
    "                print()\n",
    "p112(int(input(\"N: \")))"
   ]
  },
  {
   "cell_type": "code",
   "execution_count": 244,
   "metadata": {},
   "outputs": [
    {
     "name": "stdout",
     "output_type": "stream",
     "text": [
      ">>              >>>>              >>>>              >>>>              >>>>              >>>>              >>>>              >>>>              >>>>              >>\n",
      "  >>          >>    >>          >>    >>          >>    >>          >>    >>          >>    >>          >>    >>          >>    >>          >>    >>          >>  \n",
      "    >>      >>        >>      >>        >>      >>        >>      >>        >>      >>        >>      >>        >>      >>        >>      >>        >>      >>    \n",
      "      >>  >>            >>  >>            >>  >>            >>  >>            >>  >>            >>  >>            >>  >>            >>  >>            >>  >>      \n",
      "        >>                >>                >>                >>                >>                >>                >>                >>                >>        \n",
      "      >>  >>            >>  >>            >>  >>            >>  >>            >>  >>            >>  >>            >>  >>            >>  >>            >>  >>      \n",
      "    >>      >>        >>      >>        >>      >>        >>      >>        >>      >>        >>      >>        >>      >>        >>      >>        >>      >>    \n",
      "  >>          >>    >>          >>    >>          >>    >>          >>    >>          >>    >>          >>    >>          >>    >>          >>    >>          >>  \n",
      ">>              >>>>              >>>>              >>>>              >>>>              >>>>              >>>>              >>>>              >>>>              >>\n"
     ]
    }
   ],
   "source": [
    "def p113(n):\n",
    "        for i in range(n):\n",
    "                for k in range(n):\n",
    "                        for j in range(n):\n",
    "                                if i - j == 0 or i + j == n - 1:\n",
    "                                        print(\">>\", end=\"\")\n",
    "                                else:\n",
    "                                        print(\" \", end=\" \")\n",
    "                print()\n",
    "p113(int(input(\"N: \")))"
   ]
  },
  {
   "cell_type": "code",
   "execution_count": 254,
   "metadata": {},
   "outputs": [
    {
     "name": "stdout",
     "output_type": "stream",
     "text": [
      "        D         \n",
      "      D D D       \n",
      "    D D D D D     \n",
      "  D D D D D D D   \n",
      "D D D D # D D D D \n",
      "  D D D D D D D   \n",
      "    D D D D D     \n",
      "      D D D       \n",
      "        D         \n"
     ]
    }
   ],
   "source": [
    "def p114(n):\n",
    "    n = n | 1\n",
    "    for i in range(n):\n",
    "        for j in range(n):\n",
    "            if i == ((n - 1) // 2) and j == ((n - 1) // 2):\n",
    "                print(\"#\", end =' ')\n",
    "            elif i+j >= n//2 and i-j <= n//2 and i-j >= -(n//2) and i+j <= 3*(n//2) :\n",
    "                print(\"D\", end =' ')\n",
    "            else:\n",
    "                print(\" \", end =' ')\n",
    "        print()\n",
    "p114(int(input(\"N: \")))"
   ]
  },
  {
   "cell_type": "code",
   "execution_count": 258,
   "metadata": {},
   "outputs": [
    {
     "name": "stdout",
     "output_type": "stream",
     "text": [
      "\n",
      "D \n",
      "D D \n",
      "D D D \n",
      "D D D D \n",
      "D D D D D \n"
     ]
    }
   ],
   "source": [
    "def p115(n):\n",
    "    n = n | 1\n",
    "    for i in range(n + 1):\n",
    "        for j in range(i):\n",
    "            print(\"D\", end = \" \")\n",
    "        print()\n",
    "p115(int(input(\"N: \")))"
   ]
  },
  {
   "cell_type": "code",
   "execution_count": 260,
   "metadata": {},
   "outputs": [
    {
     "name": "stdout",
     "output_type": "stream",
     "text": [
      "        D \n",
      "      D D \n",
      "    D D D \n",
      "  D D D D \n",
      "D D D D D \n"
     ]
    }
   ],
   "source": [
    "def p116(n):\n",
    "    n = n | 1\n",
    "    for i in range(n):\n",
    "        for j in range(n - i - 1):\n",
    "            print(\" \", end = \" \")\n",
    "        for k in range(i + 1):\n",
    "            print(\"D\", end = \" \")\n",
    "        print()\n",
    "p116(int(input(\"N: \")))"
   ]
  },
  {
   "cell_type": "code",
   "execution_count": 259,
   "metadata": {},
   "outputs": [
    {
     "name": "stdout",
     "output_type": "stream",
     "text": [
      "D D D D D \n",
      "D D D D \n",
      "D D D \n",
      "D D \n",
      "D \n"
     ]
    }
   ],
   "source": [
    "def p117(n):\n",
    "    n = n | 1\n",
    "    for i in range(n):\n",
    "        for j in range(n - i):\n",
    "            print(\"D\", end = \" \")\n",
    "        print()\n",
    "p117(int(input(\"N: \")))"
   ]
  },
  {
   "cell_type": "code",
   "execution_count": 263,
   "metadata": {},
   "outputs": [
    {
     "name": "stdout",
     "output_type": "stream",
     "text": [
      "D D D D D \n",
      "  D D D D \n",
      "    D D D \n",
      "      D D \n",
      "        D \n"
     ]
    }
   ],
   "source": [
    "def p118(n):\n",
    "    n = n | 1\n",
    "    for i in range(n):\n",
    "        for j in range(i):\n",
    "            print(\" \", end = \" \")\n",
    "        for k in range(n - i):\n",
    "            print(\"D\", end = \" \")\n",
    "        print()\n",
    "p118(int(input(\"N: \")))"
   ]
  },
  {
   "cell_type": "code",
   "execution_count": 265,
   "metadata": {},
   "outputs": [
    {
     "name": "stdout",
     "output_type": "stream",
     "text": [
      "* * * * * * * \n",
      "* * *   * * * \n",
      "* *       * * \n",
      "*           * \n",
      "* *       * * \n",
      "* * *   * * * \n",
      "* * * * * * * \n"
     ]
    }
   ],
   "source": [
    "def p119(n):\n",
    "    n = n | 1\n",
    "    for i in range(n):\n",
    "        for j in range(n):\n",
    "            if (j==0 and i<=n//2) or (i==0 and j<=n//2) or i+j<=n//2 or (i==0 and j>=n//2) or (j==n-1 and i<=n//2) or i-j<=-(n//2) or (j==0 and i>=n//2) or (i==n-1 and j<=n//2) or i-j>= n//2 or (i==n-1 and j>=n//2) or (j==n-1 and i>=n//2) or i+j>=3*(n//2):\n",
    "                print(\"*\",sep =' ' ,end =' ')\n",
    "            else:\n",
    "                print(\" \", end =' ')\n",
    "        print()\n",
    "p119(int(input(\"N: \")))"
   ]
  },
  {
   "cell_type": "code",
   "execution_count": 264,
   "metadata": {},
   "outputs": [
    {
     "name": "stdout",
     "output_type": "stream",
     "text": [
      "      D \n",
      "    D   D \n",
      "  D       D \n",
      "D           D \n",
      "  D       D \n",
      "    D   D \n",
      "      D \n"
     ]
    }
   ],
   "source": [
    "def p120(n):\n",
    "    n |= 1\n",
    "    for i in range (n//2):\n",
    "        for j in range((n//2) - i , 0 , -1):\n",
    "            print(\" \", end = \" \") \n",
    "        for k in range((i * 2) + 1):\n",
    "            if k == 0 or k == (i * 2):\n",
    "                print(\"D\", end = \" \")\n",
    "            else :\n",
    "                print(\" \", end = \" \")\n",
    "        print()   \n",
    "    for i in range ((n // 2) + 1):\n",
    "        for j in range(i):\n",
    "            print(\" \", end = \" \") \n",
    "        for k in range(((n//2 - i) * 2) + 1):\n",
    "            if k == 0 or k == (((n // 2) - i) * 2):\n",
    "                print(\"D\", end = \" \")\n",
    "            else :\n",
    "                print(\" \", end = \" \")\n",
    "        print()     \n",
    "p120(int(input(\"N: \")))  "
   ]
  },
  {
   "cell_type": "code",
   "execution_count": 267,
   "metadata": {},
   "outputs": [
    {
     "name": "stdout",
     "output_type": "stream",
     "text": [
      "\n",
      "1 \n",
      "1 2 \n",
      "1 2 3 \n",
      "1 2 3 4 \n",
      "1 2 3 4 5 \n",
      "1 2 3 4 5 6 \n",
      "1 2 3 4 5 6 7 \n"
     ]
    }
   ],
   "source": [
    "def p121(n):\n",
    "    n = n | 1\n",
    "    for i in range(n + 1):\n",
    "        for j in range(i):\n",
    "            print(j + 1, end = \" \")\n",
    "        print()\n",
    "p121(int(input(\"N: \")))"
   ]
  },
  {
   "cell_type": "code",
   "execution_count": 268,
   "metadata": {},
   "outputs": [
    {
     "name": "stdout",
     "output_type": "stream",
     "text": [
      "\n",
      "1 \n",
      "2 3 \n",
      "4 5 6 \n",
      "7 8 9 10 \n"
     ]
    }
   ],
   "source": [
    "def p122(n):\n",
    "    k = 1\n",
    "    for i in range(n):\n",
    "        for j in range(i):\n",
    "            print(k, end=\" \")\n",
    "            k += 1\n",
    "        print()\n",
    "p122(int(input(\"N: \"))) "
   ]
  },
  {
   "cell_type": "code",
   "execution_count": 270,
   "metadata": {},
   "outputs": [
    {
     "name": "stdout",
     "output_type": "stream",
     "text": [
      "\n",
      "1 \n",
      "2 3 \n",
      "4 5 6 \n",
      "7 8 9 1 \n",
      "2 3 4 5 6 \n",
      "7 8 9 1 2 3 \n",
      "4 5 6 7 8 9 1 \n",
      "2 3 4 5 6 7 8 9 \n"
     ]
    }
   ],
   "source": [
    "def p123(n):\n",
    "    k = 1\n",
    "    for i in range(n):\n",
    "        for j in range(i):\n",
    "            print(k, end=\" \")\n",
    "            k += 1\n",
    "            k %= 10\n",
    "            if k == 0:\n",
    "                k = 1\n",
    "        print()\n",
    "p123(int(input(\"N: \"))) "
   ]
  },
  {
   "cell_type": "code",
   "execution_count": 273,
   "metadata": {},
   "outputs": [
    {
     "name": "stdout",
     "output_type": "stream",
     "text": [
      "1 \n",
      "1 2 \n",
      "1 2 3 \n",
      "1 2 3 4 \n",
      "1 2 3 4 5 \n",
      "1 2 3 4 \n",
      "1 2 3 \n",
      "1 2 \n",
      "1 \n"
     ]
    }
   ],
   "source": [
    "def p124(n):\n",
    "    n |= 1\n",
    "    for i in range (n):\n",
    "        for j in range(n):\n",
    "                if j == 0 or (i - j >= 0 and i <= n // 2) or (i + j <= n - 1 and i >= n // 2):\n",
    "                        print(j + 1, end=' ')  \n",
    "        print()     \n",
    "p124(int(input(\"N: \")))  "
   ]
  },
  {
   "cell_type": "code",
   "execution_count": 275,
   "metadata": {},
   "outputs": [
    {
     "name": "stdout",
     "output_type": "stream",
     "text": [
      "A A A A A A A A A \n",
      "B B B B B B B B \n",
      "C C C C C C C \n",
      "D D D D D D \n",
      "E E E E E \n",
      "F F F F \n",
      "G G G \n",
      "H H \n",
      "I \n"
     ]
    }
   ],
   "source": [
    "def p125(n):\n",
    "    n = n | 1\n",
    "    for i in range(n):\n",
    "        for j in range(n - i):\n",
    "            print(chr(65 + i), end = \" \")\n",
    "        print()\n",
    "p125(int(input(\"N: \")))"
   ]
  },
  {
   "cell_type": "code",
   "execution_count": 276,
   "metadata": {},
   "outputs": [
    {
     "name": "stdout",
     "output_type": "stream",
     "text": [
      "            A \n",
      "          A B C \n",
      "        A B C D E \n",
      "      A B C D E F G \n",
      "    A B C D E F G H I \n",
      "  A B C D E F G H I J K \n",
      "A B C D E F G H I J K L M \n"
     ]
    }
   ],
   "source": [
    "def p126(n):\n",
    "    n |= 1\n",
    "    for i in range (n):\n",
    "        for j in range(n - 1 - i , 0 , -1):\n",
    "            print(\" \", end = \" \") \n",
    "        for k in range((i * 2) + 1):\n",
    "            print(chr(65 + k), end = \" \")\n",
    "        print()     \n",
    "p126(int(input(\"N: \")))"
   ]
  },
  {
   "cell_type": "code",
   "execution_count": 277,
   "metadata": {},
   "outputs": [
    {
     "name": "stdout",
     "output_type": "stream",
     "text": [
      "              a \n",
      "            a b a \n",
      "          a b c b a \n",
      "        a b c d c b a \n",
      "      a b c d e d c b a \n",
      "    a b c d e f e d c b a \n",
      "  a b c d e f g f e d c b a \n",
      "a b c d e f g h g f e d c b a \n"
     ]
    }
   ],
   "source": [
    "#127\n",
    "h = int(input(\"Height:\"))\n",
    "for i in range (1,h + 1):\n",
    "    #print spacing in front\n",
    "    for m in range (h - i):\n",
    "        print(\" \", end = \" \")\n",
    "    for j in range ((i * 2)-1):\n",
    "        if(j < int((i * 2) / 2)):\n",
    "            print(chr(97 + j),end=\" \")\n",
    "        else:\n",
    "            print(chr(95 + (i * 2) - j), end = \" \")\n",
    "    print()"
   ]
  },
  {
   "cell_type": "code",
   "execution_count": 317,
   "metadata": {},
   "outputs": [
    {
     "name": "stdout",
     "output_type": "stream",
     "text": [
      "    A     \n",
      "  A B C   \n",
      "A B C D E \n",
      "  A B C   \n",
      "    A     \n"
     ]
    }
   ],
   "source": [
    "def p127(n):\n",
    "    n = n | 1\n",
    "    for i in range(n):\n",
    "        for j in range(n):\n",
    "            if i+j >= n//2 and i-j <= n//2 and i-j >= -(n//2) and i+j <= 3*(n//2) :\n",
    "                if ( i <= n//2):\n",
    "                    print(chr(65 + j + i - (n//2)), end = \" \")\n",
    "                else:\n",
    "                    print(chr(65 + j - i + (n//2)), end = \" \")\n",
    "            else:\n",
    "                print(\" \", end =' ')\n",
    "        print()\n",
    "p127(int(input(\"N: \")))"
   ]
  },
  {
   "cell_type": "code",
   "execution_count": 361,
   "metadata": {},
   "outputs": [
    {
     "name": "stdout",
     "output_type": "stream",
     "text": [
      "        A         \n",
      "      C B A       \n",
      "    E D C B A     \n",
      "  G F E D C B A   \n",
      "I H G F E D C B A \n",
      "  G F E D C B A   \n",
      "    E D C B A     \n",
      "      C B A       \n",
      "        A         \n"
     ]
    }
   ],
   "source": [
    "def p128(n):\n",
    "    n = n | 1\n",
    "    for i in range(n):\n",
    "        for j in range(n):\n",
    "            if i+j >= n//2 and i-j <= n//2 and i-j >= -(n//2) and i+j <= 3*(n//2) :\n",
    "                if ( i <= n//2):\n",
    "                    print(chr(64 - j + i + ((n + 1)//2)), end = \" \")\n",
    "                else:\n",
    "                    print(chr(63 + n - j - i + ((n + 1)//2)), end = \" \")\n",
    "            else:\n",
    "                print(\" \", end =' ')\n",
    "        print()\n",
    "p128(int(input(\"N: \")))"
   ]
  },
  {
   "cell_type": "code",
   "execution_count": 316,
   "metadata": {},
   "outputs": [
    {
     "name": "stdout",
     "output_type": "stream",
     "text": [
      "        A         \n",
      "      A B C       \n",
      "    A B C D E     \n",
      "  A B C D E F G   \n",
      "A B C D E F G H I \n",
      "  A B C D E F G   \n",
      "    A B C D E     \n",
      "      A B C       \n",
      "        A         \n"
     ]
    }
   ],
   "source": [
    "def p129(n):\n",
    "    n = n | 1\n",
    "    for i in range(n):\n",
    "        for j in range(n):\n",
    "            if i+j >= n//2 and i-j <= n//2 and i-j >= -(n//2) and i+j <= 3*(n//2) :\n",
    "                if ( i <= n//2):\n",
    "                    print(chr(65 + j + i - (n//2)), end = \" \")\n",
    "                else:\n",
    "                    print(chr(65 + j - i + (n//2)), end = \" \")\n",
    "            else:\n",
    "                print(\" \", end =' ')\n",
    "        print()\n",
    "p129(int(input(\"N: \")))\n"
   ]
  },
  {
   "cell_type": "code",
   "execution_count": 4,
   "metadata": {},
   "outputs": [
    {
     "name": "stdout",
     "output_type": "stream",
     "text": [
      " 1  2  3  4  5  6  7  8  9 \n",
      "32 33 34 35 36 37 38 39 10 \n",
      "31 56 57 58 59 60 61 40 11 \n",
      "30 55 72 73 74 75 62 41 12 \n",
      "29 54 71 80 81 76 63 42 13 \n",
      "28 53 70 79 78 77 64 43 14 \n",
      "27 52 69 68 67 66 65 44 15 \n",
      "26 51 50 49 48 47 46 45 16 \n",
      "25 24 23 22 21 20 19 18 17 \n",
      " 1  2  3  4  5  6  7  8  9 10 \n",
      "36 37 38 39 40 41 42 43 44 11 \n",
      "35 64 65 66 67 68 69 70 45 12 \n",
      "34 63 84 85 86 87 88 71 46 13 \n",
      "33 62 83 96 97 98 89 72 47 14 \n",
      "32 61 82 95 100 99 90 73 48 15 \n",
      "31 60 81 94 93 92 91 74 49 16 \n",
      "30 59 80 79 78 77 76 75 50 17 \n",
      "29 58 57 56 55 54 53 52 51 18 \n",
      "28 27 26 25 24 23 22 21 20 19 \n",
      " 1  2  3  4  5  6  7  8 \n",
      "28 29 30 31 32 33 34  9 \n",
      "27 48 49 50 51 52 35 10 \n",
      "26 47 60 61 62 53 36 11 \n",
      "25 46 59 64 63 54 37 12 \n",
      "24 45 58 57 56 55 38 13 \n",
      "23 44 43 42 41 40 39 14 \n",
      "22 21 20 19 18 17 16 15 \n",
      " 1  2  3  4  5  6  7 \n",
      "24 25 26 27 28 29  8 \n",
      "23 40 41 42 43 30  9 \n",
      "22 39 48 49 44 31 10 \n",
      "21 38 47 46 45 32 11 \n",
      "20 37 36 35 34 33 12 \n",
      "19 18 17 16 15 14 13 \n",
      " 1  2  3  4  5  6 \n",
      "20 21 22 23 24  7 \n",
      "19 32 33 34 25  8 \n",
      "18 31 36 35 26  9 \n",
      "17 30 29 28 27 10 \n",
      "16 15 14 13 12 11 \n",
      " 1  2  3  4  5 \n",
      "16 17 18 19  6 \n",
      "15 24 25 20  7 \n",
      "14 23 22 21  8 \n",
      "13 12 11 10  9 \n"
     ]
    },
    {
     "ename": "ValueError",
     "evalue": "invalid literal for int() with base 10: 'False'",
     "output_type": "error",
     "traceback": [
      "\u001b[1;31m---------------------------------------------------------------------------\u001b[0m",
      "\u001b[1;31mValueError\u001b[0m                                Traceback (most recent call last)",
      "Cell \u001b[1;32mIn[4], line 20\u001b[0m\n\u001b[0;32m     18\u001b[0m         \u001b[38;5;28mprint\u001b[39m()\n\u001b[0;32m     19\u001b[0m \u001b[38;5;28;01mwhile\u001b[39;00m(\u001b[38;5;28;01mTrue\u001b[39;00m):\n\u001b[1;32m---> 20\u001b[0m     spiral(\u001b[38;5;28;43mint\u001b[39;49m\u001b[43m(\u001b[49m\u001b[38;5;28;43minput\u001b[39;49m\u001b[43m(\u001b[49m\u001b[43m)\u001b[49m\u001b[43m)\u001b[49m)\n",
      "\u001b[1;31mValueError\u001b[0m: invalid literal for int() with base 10: 'False'"
     ]
    }
   ],
   "source": [
    "def spiral(n):\n",
    "    for i in range(0, n):\n",
    "        for j in range(0, n):\n",
    "            f = 0\n",
    "            l = min(i, j, n - i - 1, n - j - 1)\n",
    "            #layer value\n",
    "            for k in range(l):\n",
    "                f = f + 4 * (n - l)\n",
    "            #four side conditions\n",
    "            if (j - i >= 0):\n",
    "                if (i + j > n - 1):\n",
    "                    print(f\"{(f + i - l + (n - l * 2)):2}\", end=\" \")\n",
    "                else:\n",
    "                    print(f\"{f + j - l + 1:2}\", end=\" \")\n",
    "            else:\n",
    "                if not i + j < n - 1:\n",
    "                    print(f\"{f + i - j + 2 * (n - l * 2) - 1:2}\", end=\" \")\n",
    "                else:\n",
    "                    print(f\"{f + (n -j - i - 1) + (n - l - 1 - j) + 2 *(n - l * 2) - 1:2}\", end=\" \")\n",
    "        print()\n",
    "\n",
    "def spiral_in_one(n):\n",
    "    [[(print(f\"{(sum(4 * (n - min(i, j, n - i - 1, n - j - 1)) for k in range(min(i, j, n - i - 1, n - j - 1))) + i - min(i, j, n - i - 1, n - j - 1) + (n - min(i, j, n - i - 1, n - j - 1) * 2)):3}\",end=\" \") if (i + j > n - 1) else print(f\"{sum(4 * (n - min(i, j, n - i - 1, n - j - 1)) for k in range(min(i, j, n - i - 1, n - j - 1))) + j - min(i, j, n - i - 1, n - j - 1) + 1:3}\", end=\" \")) if (j - i >= 0) else (print(f\"{sum(4 * (n - min(i, j, n - i - 1, n - j - 1)) for k in range(min(i, j, n - i - 1, n - j - 1))) + i - j + 2 * (n - min(i, j, n - i - 1, n - j - 1) * 2) - 1:3}\",end=\" \") if not i + j < n - 1 else print(f\"{sum(4 * (n - min(i, j, n - i - 1, n - j - 1)) for k in range(min(i, j, n - i - 1, n - j - 1))) + (n - j - i - 1) + (n - min(i, j, n - i - 1, n - j - 1) - 1 - j) + 2 * (n - min(i, j, n - i - 1, n - j - 1) * 2) - 1:3}\",end=\" \")) for j in range (n)] and (print()) for i in range (n)]\n",
    "\n",
    "while(True):\n",
    "    spiral(int(input()))\n",
    "    spiral_in_one(int(input()))\n"
   ]
  },
  {
   "cell_type": "code",
   "execution_count": 2,
   "metadata": {},
   "outputs": [
    {
     "name": "stdout",
     "output_type": "stream",
     "text": [
      "0 0 0 0 0 0 0 0 \n",
      "0 1 1 1 1 1 1 0 \n",
      "0 1 2 2 2 2 1 0 \n",
      "0 1 2 3 3 2 1 0 \n",
      "0 1 2 3 3 2 1 0 \n",
      "0 1 2 2 2 2 1 0 \n",
      "0 1 1 1 1 1 1 0 \n",
      "0 0 0 0 0 0 0 0 \n"
     ]
    }
   ],
   "source": [
    "def spiraljr(n):\n",
    "   [([print(min(i, j, n - i - 1, n - j - 1), end = \" \") for j in range(n)] and print()) for i in range(n)]\n",
    "spiraljr(int(input()))"
   ]
  },
  {
   "cell_type": "code",
   "execution_count": 15,
   "metadata": {},
   "outputs": [
    {
     "name": "stdout",
     "output_type": "stream",
     "text": [
      "  1   2   3   4   5 \n",
      " 16  17  18  19   6 \n",
      " 15  24  25  20   7 \n",
      " 14  23  22  21   8 \n",
      " 13  12  11  10   9 \n",
      "  1   2   3   4   5   6 \n",
      " 20  21  22  23  24   7 \n",
      " 19  32  33  34  25   8 \n",
      " 18  31  36  35  26   9 \n",
      " 17  30  29  28  27  10 \n",
      " 16  15  14  13  12  11 \n",
      "  1   2   3   4 \n",
      " 12  13  14   5 \n",
      " 11  16  15   6 \n",
      " 10   9   8   7 \n",
      "  1   2   3 \n",
      "  8   9   4 \n",
      "  7   6   5 \n",
      "  1   2   3   4   5   6   7 \n",
      " 24  25  26  27  28  29   8 \n",
      " 23  40  41  42  43  30   9 \n",
      " 22  39  48  49  44  31  10 \n",
      " 21  38  47  46  45  32  11 \n",
      " 20  37  36  35  34  33  12 \n",
      " 19  18  17  16  15  14  13 \n",
      "  1   2   3   4   5 \n",
      " 16  17  18  19   6 \n",
      " 15  24  25  20   7 \n",
      " 14  23  22  21   8 \n",
      " 13  12  11  10   9 \n"
     ]
    },
    {
     "ename": "ValueError",
     "evalue": "invalid literal for int() with base 10: 'e'",
     "output_type": "error",
     "traceback": [
      "\u001b[1;31m---------------------------------------------------------------------------\u001b[0m",
      "\u001b[1;31mValueError\u001b[0m                                Traceback (most recent call last)",
      "Cell \u001b[1;32mIn[15], line 4\u001b[0m\n\u001b[0;32m      2\u001b[0m     [[(\u001b[38;5;28mprint\u001b[39m(\u001b[38;5;124mf\u001b[39m\u001b[38;5;124m\"\u001b[39m\u001b[38;5;132;01m{\u001b[39;00m(\u001b[38;5;28msum\u001b[39m(\u001b[38;5;241m4\u001b[39m\u001b[38;5;250m \u001b[39m\u001b[38;5;241m*\u001b[39m\u001b[38;5;250m \u001b[39m(n\u001b[38;5;250m \u001b[39m\u001b[38;5;241m-\u001b[39m\u001b[38;5;250m \u001b[39m\u001b[38;5;28mmin\u001b[39m(i,\u001b[38;5;250m \u001b[39mj,\u001b[38;5;250m \u001b[39mn\u001b[38;5;250m \u001b[39m\u001b[38;5;241m-\u001b[39m\u001b[38;5;250m \u001b[39mi\u001b[38;5;250m \u001b[39m\u001b[38;5;241m-\u001b[39m\u001b[38;5;250m \u001b[39m\u001b[38;5;241m1\u001b[39m,\u001b[38;5;250m \u001b[39mn\u001b[38;5;250m \u001b[39m\u001b[38;5;241m-\u001b[39m\u001b[38;5;250m \u001b[39mj\u001b[38;5;250m \u001b[39m\u001b[38;5;241m-\u001b[39m\u001b[38;5;250m \u001b[39m\u001b[38;5;241m1\u001b[39m))\u001b[38;5;250m \u001b[39m\u001b[38;5;28;01mfor\u001b[39;00m\u001b[38;5;250m \u001b[39mk\u001b[38;5;250m \u001b[39m\u001b[38;5;129;01min\u001b[39;00m\u001b[38;5;250m \u001b[39m\u001b[38;5;28mrange\u001b[39m(\u001b[38;5;28mmin\u001b[39m(i,\u001b[38;5;250m \u001b[39mj,\u001b[38;5;250m \u001b[39mn\u001b[38;5;250m \u001b[39m\u001b[38;5;241m-\u001b[39m\u001b[38;5;250m \u001b[39mi\u001b[38;5;250m \u001b[39m\u001b[38;5;241m-\u001b[39m\u001b[38;5;250m \u001b[39m\u001b[38;5;241m1\u001b[39m,\u001b[38;5;250m \u001b[39mn\u001b[38;5;250m \u001b[39m\u001b[38;5;241m-\u001b[39m\u001b[38;5;250m \u001b[39mj\u001b[38;5;250m \u001b[39m\u001b[38;5;241m-\u001b[39m\u001b[38;5;250m \u001b[39m\u001b[38;5;241m1\u001b[39m)))\u001b[38;5;250m \u001b[39m\u001b[38;5;241m+\u001b[39m\u001b[38;5;250m \u001b[39mi\u001b[38;5;250m \u001b[39m\u001b[38;5;241m-\u001b[39m\u001b[38;5;250m \u001b[39m\u001b[38;5;28mmin\u001b[39m(i,\u001b[38;5;250m \u001b[39mj,\u001b[38;5;250m \u001b[39mn\u001b[38;5;250m \u001b[39m\u001b[38;5;241m-\u001b[39m\u001b[38;5;250m \u001b[39mi\u001b[38;5;250m \u001b[39m\u001b[38;5;241m-\u001b[39m\u001b[38;5;250m \u001b[39m\u001b[38;5;241m1\u001b[39m,\u001b[38;5;250m \u001b[39mn\u001b[38;5;250m \u001b[39m\u001b[38;5;241m-\u001b[39m\u001b[38;5;250m \u001b[39mj\u001b[38;5;250m \u001b[39m\u001b[38;5;241m-\u001b[39m\u001b[38;5;250m \u001b[39m\u001b[38;5;241m1\u001b[39m)\u001b[38;5;250m \u001b[39m\u001b[38;5;241m+\u001b[39m\u001b[38;5;250m \u001b[39m(n\u001b[38;5;250m \u001b[39m\u001b[38;5;241m-\u001b[39m\u001b[38;5;250m \u001b[39m\u001b[38;5;28mmin\u001b[39m(i,\u001b[38;5;250m \u001b[39mj,\u001b[38;5;250m \u001b[39mn\u001b[38;5;250m \u001b[39m\u001b[38;5;241m-\u001b[39m\u001b[38;5;250m \u001b[39mi\u001b[38;5;250m \u001b[39m\u001b[38;5;241m-\u001b[39m\u001b[38;5;250m \u001b[39m\u001b[38;5;241m1\u001b[39m,\u001b[38;5;250m \u001b[39mn\u001b[38;5;250m \u001b[39m\u001b[38;5;241m-\u001b[39m\u001b[38;5;250m \u001b[39mj\u001b[38;5;250m \u001b[39m\u001b[38;5;241m-\u001b[39m\u001b[38;5;250m \u001b[39m\u001b[38;5;241m1\u001b[39m)\u001b[38;5;250m \u001b[39m\u001b[38;5;241m*\u001b[39m\u001b[38;5;250m \u001b[39m\u001b[38;5;241m2\u001b[39m))\u001b[38;5;132;01m:\u001b[39;00m\u001b[38;5;124m3\u001b[39m\u001b[38;5;132;01m}\u001b[39;00m\u001b[38;5;124m\"\u001b[39m,end\u001b[38;5;241m=\u001b[39m\u001b[38;5;124m\"\u001b[39m\u001b[38;5;124m \u001b[39m\u001b[38;5;124m\"\u001b[39m) \u001b[38;5;28;01mif\u001b[39;00m (i \u001b[38;5;241m+\u001b[39m j \u001b[38;5;241m>\u001b[39m n \u001b[38;5;241m-\u001b[39m \u001b[38;5;241m1\u001b[39m) \u001b[38;5;28;01melse\u001b[39;00m \u001b[38;5;28mprint\u001b[39m(\u001b[38;5;124mf\u001b[39m\u001b[38;5;124m\"\u001b[39m\u001b[38;5;132;01m{\u001b[39;00m\u001b[38;5;28msum\u001b[39m(\u001b[38;5;241m4\u001b[39m\u001b[38;5;250m \u001b[39m\u001b[38;5;241m*\u001b[39m\u001b[38;5;250m \u001b[39m(n\u001b[38;5;250m \u001b[39m\u001b[38;5;241m-\u001b[39m\u001b[38;5;250m \u001b[39m\u001b[38;5;28mmin\u001b[39m(i,\u001b[38;5;250m \u001b[39mj,\u001b[38;5;250m \u001b[39mn\u001b[38;5;250m \u001b[39m\u001b[38;5;241m-\u001b[39m\u001b[38;5;250m \u001b[39mi\u001b[38;5;250m \u001b[39m\u001b[38;5;241m-\u001b[39m\u001b[38;5;250m \u001b[39m\u001b[38;5;241m1\u001b[39m,\u001b[38;5;250m \u001b[39mn\u001b[38;5;250m \u001b[39m\u001b[38;5;241m-\u001b[39m\u001b[38;5;250m \u001b[39mj\u001b[38;5;250m \u001b[39m\u001b[38;5;241m-\u001b[39m\u001b[38;5;250m \u001b[39m\u001b[38;5;241m1\u001b[39m))\u001b[38;5;250m \u001b[39m\u001b[38;5;28;01mfor\u001b[39;00m\u001b[38;5;250m \u001b[39mk\u001b[38;5;250m \u001b[39m\u001b[38;5;129;01min\u001b[39;00m\u001b[38;5;250m \u001b[39m\u001b[38;5;28mrange\u001b[39m(\u001b[38;5;28mmin\u001b[39m(i,\u001b[38;5;250m \u001b[39mj,\u001b[38;5;250m \u001b[39mn\u001b[38;5;250m \u001b[39m\u001b[38;5;241m-\u001b[39m\u001b[38;5;250m \u001b[39mi\u001b[38;5;250m \u001b[39m\u001b[38;5;241m-\u001b[39m\u001b[38;5;250m \u001b[39m\u001b[38;5;241m1\u001b[39m,\u001b[38;5;250m \u001b[39mn\u001b[38;5;250m \u001b[39m\u001b[38;5;241m-\u001b[39m\u001b[38;5;250m \u001b[39mj\u001b[38;5;250m \u001b[39m\u001b[38;5;241m-\u001b[39m\u001b[38;5;250m \u001b[39m\u001b[38;5;241m1\u001b[39m)))\u001b[38;5;250m \u001b[39m\u001b[38;5;241m+\u001b[39m\u001b[38;5;250m \u001b[39mj\u001b[38;5;250m \u001b[39m\u001b[38;5;241m-\u001b[39m\u001b[38;5;250m \u001b[39m\u001b[38;5;28mmin\u001b[39m(i,\u001b[38;5;250m \u001b[39mj,\u001b[38;5;250m \u001b[39mn\u001b[38;5;250m \u001b[39m\u001b[38;5;241m-\u001b[39m\u001b[38;5;250m \u001b[39mi\u001b[38;5;250m \u001b[39m\u001b[38;5;241m-\u001b[39m\u001b[38;5;250m \u001b[39m\u001b[38;5;241m1\u001b[39m,\u001b[38;5;250m \u001b[39mn\u001b[38;5;250m \u001b[39m\u001b[38;5;241m-\u001b[39m\u001b[38;5;250m \u001b[39mj\u001b[38;5;250m \u001b[39m\u001b[38;5;241m-\u001b[39m\u001b[38;5;250m \u001b[39m\u001b[38;5;241m1\u001b[39m)\u001b[38;5;250m \u001b[39m\u001b[38;5;241m+\u001b[39m\u001b[38;5;250m \u001b[39m\u001b[38;5;241m1\u001b[39m\u001b[38;5;132;01m:\u001b[39;00m\u001b[38;5;124m3\u001b[39m\u001b[38;5;132;01m}\u001b[39;00m\u001b[38;5;124m\"\u001b[39m, end\u001b[38;5;241m=\u001b[39m\u001b[38;5;124m\"\u001b[39m\u001b[38;5;124m \u001b[39m\u001b[38;5;124m\"\u001b[39m)) \u001b[38;5;28;01mif\u001b[39;00m (j \u001b[38;5;241m-\u001b[39m i \u001b[38;5;241m>\u001b[39m\u001b[38;5;241m=\u001b[39m \u001b[38;5;241m0\u001b[39m) \u001b[38;5;28;01melse\u001b[39;00m (\u001b[38;5;28mprint\u001b[39m(\u001b[38;5;124mf\u001b[39m\u001b[38;5;124m\"\u001b[39m\u001b[38;5;132;01m{\u001b[39;00m\u001b[38;5;28msum\u001b[39m(\u001b[38;5;241m4\u001b[39m\u001b[38;5;250m \u001b[39m\u001b[38;5;241m*\u001b[39m\u001b[38;5;250m \u001b[39m(n\u001b[38;5;250m \u001b[39m\u001b[38;5;241m-\u001b[39m\u001b[38;5;250m \u001b[39m\u001b[38;5;28mmin\u001b[39m(i,\u001b[38;5;250m \u001b[39mj,\u001b[38;5;250m \u001b[39mn\u001b[38;5;250m \u001b[39m\u001b[38;5;241m-\u001b[39m\u001b[38;5;250m \u001b[39mi\u001b[38;5;250m \u001b[39m\u001b[38;5;241m-\u001b[39m\u001b[38;5;250m \u001b[39m\u001b[38;5;241m1\u001b[39m,\u001b[38;5;250m \u001b[39mn\u001b[38;5;250m \u001b[39m\u001b[38;5;241m-\u001b[39m\u001b[38;5;250m \u001b[39mj\u001b[38;5;250m \u001b[39m\u001b[38;5;241m-\u001b[39m\u001b[38;5;250m \u001b[39m\u001b[38;5;241m1\u001b[39m))\u001b[38;5;250m \u001b[39m\u001b[38;5;28;01mfor\u001b[39;00m\u001b[38;5;250m \u001b[39mk\u001b[38;5;250m \u001b[39m\u001b[38;5;129;01min\u001b[39;00m\u001b[38;5;250m \u001b[39m\u001b[38;5;28mrange\u001b[39m(\u001b[38;5;28mmin\u001b[39m(i,\u001b[38;5;250m \u001b[39mj,\u001b[38;5;250m \u001b[39mn\u001b[38;5;250m \u001b[39m\u001b[38;5;241m-\u001b[39m\u001b[38;5;250m \u001b[39mi\u001b[38;5;250m \u001b[39m\u001b[38;5;241m-\u001b[39m\u001b[38;5;250m \u001b[39m\u001b[38;5;241m1\u001b[39m,\u001b[38;5;250m \u001b[39mn\u001b[38;5;250m \u001b[39m\u001b[38;5;241m-\u001b[39m\u001b[38;5;250m \u001b[39mj\u001b[38;5;250m \u001b[39m\u001b[38;5;241m-\u001b[39m\u001b[38;5;250m \u001b[39m\u001b[38;5;241m1\u001b[39m)))\u001b[38;5;250m \u001b[39m\u001b[38;5;241m+\u001b[39m\u001b[38;5;250m \u001b[39mi\u001b[38;5;250m \u001b[39m\u001b[38;5;241m-\u001b[39m\u001b[38;5;250m \u001b[39mj\u001b[38;5;250m \u001b[39m\u001b[38;5;241m+\u001b[39m\u001b[38;5;250m \u001b[39m\u001b[38;5;241m2\u001b[39m\u001b[38;5;250m \u001b[39m\u001b[38;5;241m*\u001b[39m\u001b[38;5;250m \u001b[39m(n\u001b[38;5;250m \u001b[39m\u001b[38;5;241m-\u001b[39m\u001b[38;5;250m \u001b[39m\u001b[38;5;28mmin\u001b[39m(i,\u001b[38;5;250m \u001b[39mj,\u001b[38;5;250m \u001b[39mn\u001b[38;5;250m \u001b[39m\u001b[38;5;241m-\u001b[39m\u001b[38;5;250m \u001b[39mi\u001b[38;5;250m \u001b[39m\u001b[38;5;241m-\u001b[39m\u001b[38;5;250m \u001b[39m\u001b[38;5;241m1\u001b[39m,\u001b[38;5;250m \u001b[39mn\u001b[38;5;250m \u001b[39m\u001b[38;5;241m-\u001b[39m\u001b[38;5;250m \u001b[39mj\u001b[38;5;250m \u001b[39m\u001b[38;5;241m-\u001b[39m\u001b[38;5;250m \u001b[39m\u001b[38;5;241m1\u001b[39m)\u001b[38;5;250m \u001b[39m\u001b[38;5;241m*\u001b[39m\u001b[38;5;250m \u001b[39m\u001b[38;5;241m2\u001b[39m)\u001b[38;5;250m \u001b[39m\u001b[38;5;241m-\u001b[39m\u001b[38;5;250m \u001b[39m\u001b[38;5;241m1\u001b[39m\u001b[38;5;132;01m:\u001b[39;00m\u001b[38;5;124m3\u001b[39m\u001b[38;5;132;01m}\u001b[39;00m\u001b[38;5;124m\"\u001b[39m,end\u001b[38;5;241m=\u001b[39m\u001b[38;5;124m\"\u001b[39m\u001b[38;5;124m \u001b[39m\u001b[38;5;124m\"\u001b[39m) \u001b[38;5;28;01mif\u001b[39;00m \u001b[38;5;129;01mnot\u001b[39;00m i \u001b[38;5;241m+\u001b[39m j \u001b[38;5;241m<\u001b[39m n \u001b[38;5;241m-\u001b[39m \u001b[38;5;241m1\u001b[39m \u001b[38;5;28;01melse\u001b[39;00m \u001b[38;5;28mprint\u001b[39m(\u001b[38;5;124mf\u001b[39m\u001b[38;5;124m\"\u001b[39m\u001b[38;5;132;01m{\u001b[39;00m\u001b[38;5;28msum\u001b[39m(\u001b[38;5;241m4\u001b[39m\u001b[38;5;250m \u001b[39m\u001b[38;5;241m*\u001b[39m\u001b[38;5;250m \u001b[39m(n\u001b[38;5;250m \u001b[39m\u001b[38;5;241m-\u001b[39m\u001b[38;5;250m \u001b[39m\u001b[38;5;28mmin\u001b[39m(i,\u001b[38;5;250m \u001b[39mj,\u001b[38;5;250m \u001b[39mn\u001b[38;5;250m \u001b[39m\u001b[38;5;241m-\u001b[39m\u001b[38;5;250m \u001b[39mi\u001b[38;5;250m \u001b[39m\u001b[38;5;241m-\u001b[39m\u001b[38;5;250m \u001b[39m\u001b[38;5;241m1\u001b[39m,\u001b[38;5;250m \u001b[39mn\u001b[38;5;250m \u001b[39m\u001b[38;5;241m-\u001b[39m\u001b[38;5;250m \u001b[39mj\u001b[38;5;250m \u001b[39m\u001b[38;5;241m-\u001b[39m\u001b[38;5;250m \u001b[39m\u001b[38;5;241m1\u001b[39m))\u001b[38;5;250m \u001b[39m\u001b[38;5;28;01mfor\u001b[39;00m\u001b[38;5;250m \u001b[39mk\u001b[38;5;250m \u001b[39m\u001b[38;5;129;01min\u001b[39;00m\u001b[38;5;250m \u001b[39m\u001b[38;5;28mrange\u001b[39m(\u001b[38;5;28mmin\u001b[39m(i,\u001b[38;5;250m \u001b[39mj,\u001b[38;5;250m \u001b[39mn\u001b[38;5;250m \u001b[39m\u001b[38;5;241m-\u001b[39m\u001b[38;5;250m \u001b[39mi\u001b[38;5;250m \u001b[39m\u001b[38;5;241m-\u001b[39m\u001b[38;5;250m \u001b[39m\u001b[38;5;241m1\u001b[39m,\u001b[38;5;250m \u001b[39mn\u001b[38;5;250m \u001b[39m\u001b[38;5;241m-\u001b[39m\u001b[38;5;250m \u001b[39mj\u001b[38;5;250m \u001b[39m\u001b[38;5;241m-\u001b[39m\u001b[38;5;250m \u001b[39m\u001b[38;5;241m1\u001b[39m)))\u001b[38;5;250m \u001b[39m\u001b[38;5;241m+\u001b[39m\u001b[38;5;250m \u001b[39m(n\u001b[38;5;250m \u001b[39m\u001b[38;5;241m-\u001b[39m\u001b[38;5;250m \u001b[39mj\u001b[38;5;250m \u001b[39m\u001b[38;5;241m-\u001b[39m\u001b[38;5;250m \u001b[39mi\u001b[38;5;250m \u001b[39m\u001b[38;5;241m-\u001b[39m\u001b[38;5;250m \u001b[39m\u001b[38;5;241m1\u001b[39m)\u001b[38;5;250m \u001b[39m\u001b[38;5;241m+\u001b[39m\u001b[38;5;250m \u001b[39m(n\u001b[38;5;250m \u001b[39m\u001b[38;5;241m-\u001b[39m\u001b[38;5;250m \u001b[39m\u001b[38;5;28mmin\u001b[39m(i,\u001b[38;5;250m \u001b[39mj,\u001b[38;5;250m \u001b[39mn\u001b[38;5;250m \u001b[39m\u001b[38;5;241m-\u001b[39m\u001b[38;5;250m \u001b[39mi\u001b[38;5;250m \u001b[39m\u001b[38;5;241m-\u001b[39m\u001b[38;5;250m \u001b[39m\u001b[38;5;241m1\u001b[39m,\u001b[38;5;250m \u001b[39mn\u001b[38;5;250m \u001b[39m\u001b[38;5;241m-\u001b[39m\u001b[38;5;250m \u001b[39mj\u001b[38;5;250m \u001b[39m\u001b[38;5;241m-\u001b[39m\u001b[38;5;250m \u001b[39m\u001b[38;5;241m1\u001b[39m)\u001b[38;5;250m \u001b[39m\u001b[38;5;241m-\u001b[39m\u001b[38;5;250m \u001b[39m\u001b[38;5;241m1\u001b[39m\u001b[38;5;250m \u001b[39m\u001b[38;5;241m-\u001b[39m\u001b[38;5;250m \u001b[39mj)\u001b[38;5;250m \u001b[39m\u001b[38;5;241m+\u001b[39m\u001b[38;5;250m \u001b[39m\u001b[38;5;241m2\u001b[39m\u001b[38;5;250m \u001b[39m\u001b[38;5;241m*\u001b[39m\u001b[38;5;250m \u001b[39m(n\u001b[38;5;250m \u001b[39m\u001b[38;5;241m-\u001b[39m\u001b[38;5;250m \u001b[39m\u001b[38;5;28mmin\u001b[39m(i,\u001b[38;5;250m \u001b[39mj,\u001b[38;5;250m \u001b[39mn\u001b[38;5;250m \u001b[39m\u001b[38;5;241m-\u001b[39m\u001b[38;5;250m \u001b[39mi\u001b[38;5;250m \u001b[39m\u001b[38;5;241m-\u001b[39m\u001b[38;5;250m \u001b[39m\u001b[38;5;241m1\u001b[39m,\u001b[38;5;250m \u001b[39mn\u001b[38;5;250m \u001b[39m\u001b[38;5;241m-\u001b[39m\u001b[38;5;250m \u001b[39mj\u001b[38;5;250m \u001b[39m\u001b[38;5;241m-\u001b[39m\u001b[38;5;250m \u001b[39m\u001b[38;5;241m1\u001b[39m)\u001b[38;5;250m \u001b[39m\u001b[38;5;241m*\u001b[39m\u001b[38;5;250m \u001b[39m\u001b[38;5;241m2\u001b[39m)\u001b[38;5;250m \u001b[39m\u001b[38;5;241m-\u001b[39m\u001b[38;5;250m \u001b[39m\u001b[38;5;241m1\u001b[39m\u001b[38;5;132;01m:\u001b[39;00m\u001b[38;5;124m3\u001b[39m\u001b[38;5;132;01m}\u001b[39;00m\u001b[38;5;124m\"\u001b[39m,end\u001b[38;5;241m=\u001b[39m\u001b[38;5;124m\"\u001b[39m\u001b[38;5;124m \u001b[39m\u001b[38;5;124m\"\u001b[39m)) \u001b[38;5;28;01mfor\u001b[39;00m j \u001b[38;5;129;01min\u001b[39;00m \u001b[38;5;28mrange\u001b[39m (n)] \u001b[38;5;129;01mand\u001b[39;00m (\u001b[38;5;28mprint\u001b[39m()) \u001b[38;5;28;01mfor\u001b[39;00m i \u001b[38;5;129;01min\u001b[39;00m \u001b[38;5;28mrange\u001b[39m (n)]\n\u001b[0;32m      3\u001b[0m \u001b[38;5;28;01mwhile\u001b[39;00m(\u001b[38;5;28;01mTrue\u001b[39;00m):\n\u001b[1;32m----> 4\u001b[0m     spiral(\u001b[38;5;28;43mint\u001b[39;49m\u001b[43m(\u001b[49m\u001b[38;5;28;43minput\u001b[39;49m\u001b[43m(\u001b[49m\u001b[43m)\u001b[49m\u001b[43m)\u001b[49m)\n",
      "\u001b[1;31mValueError\u001b[0m: invalid literal for int() with base 10: 'e'"
     ]
    }
   ],
   "source": [
    "def spiral(n):\n",
    "    [[(print(f\"{(sum(4 * (n - min(i, j, n - i - 1, n - j - 1)) for k in range(min(i, j, n - i - 1, n - j - 1))) + i - min(i, j, n - i - 1, n - j - 1) + (n - min(i, j, n - i - 1, n - j - 1) * 2)):3}\",end=\" \") if (i + j > n - 1) else print(f\"{sum(4 * (n - min(i, j, n - i - 1, n - j - 1)) for k in range(min(i, j, n - i - 1, n - j - 1))) + j - min(i, j, n - i - 1, n - j - 1) + 1:3}\", end=\" \")) if (j - i >= 0) else (print(f\"{sum(4 * (n - min(i, j, n - i - 1, n - j - 1)) for k in range(min(i, j, n - i - 1, n - j - 1))) + i - j + 2 * (n - min(i, j, n - i - 1, n - j - 1) * 2) - 1:3}\",end=\" \") if not i + j < n - 1 else print(f\"{sum(4 * (n - min(i, j, n - i - 1, n - j - 1)) for k in range(min(i, j, n - i - 1, n - j - 1))) + (n - j - i - 1) + (n - min(i, j, n - i - 1, n - j - 1) - 1 - j) + 2 * (n - min(i, j, n - i - 1, n - j - 1) * 2) - 1:3}\",end=\" \")) for j in range (n)] and (print()) for i in range (n)]\n",
    "while(True):\n",
    "    spiral(int(input()))"
   ]
  },
  {
   "cell_type": "code",
   "execution_count": 1,
   "metadata": {},
   "outputs": [
    {
     "name": "stdout",
     "output_type": "stream",
     "text": [
      "      A       \n",
      "    A B C     \n",
      "  A B C D E   \n",
      "A B C D E F G \n",
      "  A B C D E   \n",
      "    A B C     \n",
      "      A       \n"
     ]
    }
   ],
   "source": [
    "def p129(n):\n",
    "    [([(print(chr(65 + j + i - (n//2)), end = \" \") if ( i <= n//2) else print(chr(65 + j - i + (n//2)), end = \" \")) if i+j >= n//2 and i-j <= n//2 and i-j >= -(n//2) and i+j <= 3*(n//2) else print(\" \", end =' ') for j in range(n)] and print()) for i in range(n)]\n",
    "p129(int(input(\"N: \")))"
   ]
  },
  {
   "cell_type": "code",
   "execution_count": 20,
   "metadata": {},
   "outputs": [
    {
     "name": "stdout",
     "output_type": "stream",
     "text": [
      " 1 12 13 24 25 36 \n",
      " 2 11 14 23 26 35 \n",
      " 3 10 15 22 27 34 \n",
      " 4  9 16 21 28 33 \n",
      " 5  8 17 20 29 32 \n",
      " 6  7 18 19 30 31 \n"
     ]
    }
   ],
   "source": [
    "def p130(n):\n",
    "    for i in range(n):\n",
    "        k = i + 1\n",
    "        flag = 1\n",
    "        for j in range(n):\n",
    "            print(f\"{k:2}\", end = \" \")\n",
    "            if flag == 1:\n",
    "                flag = 0\n",
    "                k += (n * 2 - ((i * 2) + 1))\n",
    "            else:\n",
    "                flag = 1\n",
    "                k += ((i * 2) + 1)\n",
    "        print()\n",
    "p130(6)"
   ]
  },
  {
   "cell_type": "code",
   "execution_count": 28,
   "metadata": {},
   "outputs": [
    {
     "name": "stdout",
     "output_type": "stream",
     "text": [
      " 1  2  3  4  5  6 \n",
      "12 11 10  9  8  7 \n",
      "13 14 15 16 17 18 \n",
      "24 23 22 21 20 19 \n",
      "25 26 27 28 29 30 \n",
      "36 35 34 33 32 31 \n"
     ]
    }
   ],
   "source": [
    "def p131(n):\n",
    "    for i in range(n):\n",
    "        for j in range(n):\n",
    "            if i%2 == 0:\n",
    "                print(f\"{((i * n) + j + 1):2}\", end = \" \")\n",
    "            else:\n",
    "                print(f\"{((i * n) + n) - j:2}\", end = \" \")\n",
    "        print()\n",
    "p131(6)"
   ]
  }
 ],
 "metadata": {
  "kernelspec": {
   "display_name": "Python 3",
   "language": "python",
   "name": "python3"
  },
  "language_info": {
   "codemirror_mode": {
    "name": "ipython",
    "version": 3
   },
   "file_extension": ".py",
   "mimetype": "text/x-python",
   "name": "python",
   "nbconvert_exporter": "python",
   "pygments_lexer": "ipython3",
   "version": "3.11.4"
  }
 },
 "nbformat": 4,
 "nbformat_minor": 2
}
