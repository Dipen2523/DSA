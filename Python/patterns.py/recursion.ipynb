{
 "cells": [
  {
   "cell_type": "code",
   "execution_count": 4,
   "metadata": {},
   "outputs": [
    {
     "name": "stdout",
     "output_type": "stream",
     "text": [
      "size of [1, 2, 3, 4, 5, 6] is 6\n"
     ]
    }
   ],
   "source": [
    "#size of array dividing it from start\n",
    "def r10_1(arr):\n",
    "    if (arr):\n",
    "        return 1 + r10_1(arr[1:])\n",
    "    return 0\n",
    "\n",
    "arr = [1,2,3,4,5,6]\n",
    "print(f\"size of {arr} is {r10_1(arr)}\")"
   ]
  },
  {
   "cell_type": "code",
   "execution_count": 14,
   "metadata": {},
   "outputs": [
    {
     "name": "stdout",
     "output_type": "stream",
     "text": [
      "size of [1, 2, 3, 4, 5, 6] is 6\n"
     ]
    }
   ],
   "source": [
    "#size of arrya dividing it from end\n",
    "def r10_2(arr):\n",
    "    if arr:\n",
    "        return 1 + r10_2(arr[-1:0:-1])\n",
    "    return 0\n",
    "\n",
    "arr = [1,2,3,4,5,6]\n",
    "print(f\"size of {arr} is {r10_2(arr)}\")"
   ]
  },
  {
   "cell_type": "code",
   "execution_count": 5,
   "metadata": {},
   "outputs": [
    {
     "name": "stdout",
     "output_type": "stream",
     "text": [
      "olleh"
     ]
    }
   ],
   "source": [
    "#print string in reverse\n",
    "def r_21(str_):\n",
    "    if str_:\n",
    "        print(str_[-1], end = \"\")\n",
    "        return r_21(str_[0:-1])\n",
    "    return \n",
    "\n",
    "str_ = \"hello\"\n",
    "r_21(str_)"
   ]
  },
  {
   "cell_type": "code",
   "execution_count": 15,
   "metadata": {},
   "outputs": [
    {
     "data": {
      "text/plain": [
       "21"
      ]
     },
     "execution_count": 15,
     "metadata": {},
     "output_type": "execute_result"
    }
   ],
   "source": [
    "#nth fibonacci term\n",
    "def r_26(n):\n",
    "    if n == 0:\n",
    "        return int(0)\n",
    "    elif n == 1:\n",
    "        return 1\n",
    "    t = r_26(n-1) + r_26(n-2)\n",
    "    return t\n",
    "\n",
    "r_26(8)\n",
    "    "
   ]
  },
  {
   "cell_type": "code",
   "execution_count": 1,
   "metadata": {},
   "outputs": [
    {
     "name": "stdout",
     "output_type": "stream",
     "text": [
      "[1, 2, 3, 4] [1, 2, 3] [1, 2] [1] [2, 3, 4] [2, 3] [2] [3, 4] [3] [4] "
     ]
    },
    {
     "data": {
      "text/plain": [
       "[1, 2, 3, 4]"
      ]
     },
     "execution_count": 1,
     "metadata": {},
     "output_type": "execute_result"
    }
   ],
   "source": [
    "#subarrays\n",
    "def r_28_n(arr):\n",
    "    if len(arr) <= 1:\n",
    "        return\n",
    "    print(arr,end = \" \")\n",
    "    r_28(arr[:-1])\n",
    "    r_28(arr[1:])\n",
    "    return\n",
    "def r_28_for(arr,n,i):\n",
    "    if i < 1 :\n",
    "        return \n",
    "    for k in range(0,n-i+1):\n",
    "        print(arr[k:i+k],end = \" \")\n",
    "    r_28(arr,n,i-1)\n",
    "    return\n",
    "def r_extra(arr):\n",
    "    if arr:\n",
    "        print(arr, end=\" \")\n",
    "        r_extra(arr[:-1])\n",
    "        return arr\n",
    "    return [0]\n",
    "def r_28_extra(arr):\n",
    "    if arr:\n",
    "        r_extra(arr)\n",
    "        r_28_extra(arr[1:])\n",
    "        return arr\n",
    "    return [0]\n",
    "def r_28(arr):\n",
    "    #print(arr)\n",
    "    flag = 1\n",
    "    #print(arr[:-1])\n",
    "    if arr and flag == 1:\n",
    "        print(arr, end=\" \")\n",
    "        r_28(arr[:-1])\n",
    "        flag = 0\n",
    "    if arr and flag == 0:\n",
    "        r_28(arr[1:])\n",
    "    return\n",
    "r_28_extra([1,2,3,4])\n",
    "\n"
   ]
  },
  {
   "cell_type": "code",
   "execution_count": 10,
   "metadata": {},
   "outputs": [
    {
     "name": "stdout",
     "output_type": "stream",
     "text": [
      "move disk 1 from T1 to T2\n",
      "move disk 2 from T1 to T3\n",
      "move disk 1 from T2 to T3\n",
      "move disk 3 from T1 to T2\n",
      "move disk 1 from T3 to T1\n",
      "move disk 2 from T3 to T2\n",
      "move disk 1 from T1 to T2\n",
      "move disk 4 from T1 to T3\n",
      "move disk 1 from T2 to T3\n",
      "move disk 2 from T2 to T1\n",
      "move disk 1 from T3 to T1\n",
      "move disk 3 from T2 to T3\n",
      "move disk 1 from T1 to T2\n",
      "move disk 2 from T1 to T3\n",
      "move disk 1 from T2 to T3\n",
      "move disk 5 from T1 to T2\n",
      "move disk 1 from T3 to T1\n",
      "move disk 2 from T3 to T2\n",
      "move disk 1 from T1 to T2\n",
      "move disk 3 from T3 to T1\n",
      "move disk 1 from T2 to T3\n",
      "move disk 2 from T2 to T1\n",
      "move disk 1 from T3 to T1\n",
      "move disk 4 from T3 to T2\n",
      "move disk 1 from T1 to T2\n",
      "move disk 2 from T1 to T3\n",
      "move disk 1 from T2 to T3\n",
      "move disk 3 from T1 to T2\n",
      "move disk 1 from T3 to T1\n",
      "move disk 2 from T3 to T2\n",
      "move disk 1 from T1 to T2\n",
      "move disk 6 from T1 to T3\n",
      "move disk 1 from T2 to T3\n",
      "move disk 2 from T2 to T1\n",
      "move disk 1 from T3 to T1\n",
      "move disk 3 from T2 to T3\n",
      "move disk 1 from T1 to T2\n",
      "move disk 2 from T1 to T3\n",
      "move disk 1 from T2 to T3\n",
      "move disk 4 from T2 to T1\n",
      "move disk 1 from T3 to T1\n",
      "move disk 2 from T3 to T2\n",
      "move disk 1 from T1 to T2\n",
      "move disk 3 from T3 to T1\n",
      "move disk 1 from T2 to T3\n",
      "move disk 2 from T2 to T1\n",
      "move disk 1 from T3 to T1\n",
      "move disk 5 from T2 to T3\n",
      "move disk 1 from T1 to T2\n",
      "move disk 2 from T1 to T3\n",
      "move disk 1 from T2 to T3\n",
      "move disk 3 from T1 to T2\n",
      "move disk 1 from T3 to T1\n",
      "move disk 2 from T3 to T2\n",
      "move disk 1 from T1 to T2\n",
      "move disk 4 from T1 to T3\n",
      "move disk 1 from T2 to T3\n",
      "move disk 2 from T2 to T1\n",
      "move disk 1 from T3 to T1\n",
      "move disk 3 from T2 to T3\n",
      "move disk 1 from T1 to T2\n",
      "move disk 2 from T1 to T3\n",
      "move disk 1 from T2 to T3\n",
      "move disk 7 from T1 to T2\n",
      "move disk 1 from T3 to T1\n",
      "move disk 2 from T3 to T2\n",
      "move disk 1 from T1 to T2\n",
      "move disk 3 from T3 to T1\n",
      "move disk 1 from T2 to T3\n",
      "move disk 2 from T2 to T1\n",
      "move disk 1 from T3 to T1\n",
      "move disk 4 from T3 to T2\n",
      "move disk 1 from T1 to T2\n",
      "move disk 2 from T1 to T3\n",
      "move disk 1 from T2 to T3\n",
      "move disk 3 from T1 to T2\n",
      "move disk 1 from T3 to T1\n",
      "move disk 2 from T3 to T2\n",
      "move disk 1 from T1 to T2\n",
      "move disk 5 from T3 to T1\n",
      "move disk 1 from T2 to T3\n",
      "move disk 2 from T2 to T1\n",
      "move disk 1 from T3 to T1\n",
      "move disk 3 from T2 to T3\n",
      "move disk 1 from T1 to T2\n",
      "move disk 2 from T1 to T3\n",
      "move disk 1 from T2 to T3\n",
      "move disk 4 from T2 to T1\n",
      "move disk 1 from T3 to T1\n",
      "move disk 2 from T3 to T2\n",
      "move disk 1 from T1 to T2\n",
      "move disk 3 from T3 to T1\n",
      "move disk 1 from T2 to T3\n",
      "move disk 2 from T2 to T1\n",
      "move disk 1 from T3 to T1\n",
      "move disk 6 from T3 to T2\n",
      "move disk 1 from T1 to T2\n",
      "move disk 2 from T1 to T3\n",
      "move disk 1 from T2 to T3\n",
      "move disk 3 from T1 to T2\n",
      "move disk 1 from T3 to T1\n",
      "move disk 2 from T3 to T2\n",
      "move disk 1 from T1 to T2\n",
      "move disk 4 from T1 to T3\n",
      "move disk 1 from T2 to T3\n",
      "move disk 2 from T2 to T1\n",
      "move disk 1 from T3 to T1\n",
      "move disk 3 from T2 to T3\n",
      "move disk 1 from T1 to T2\n",
      "move disk 2 from T1 to T3\n",
      "move disk 1 from T2 to T3\n",
      "move disk 5 from T1 to T2\n",
      "move disk 1 from T3 to T1\n",
      "move disk 2 from T3 to T2\n",
      "move disk 1 from T1 to T2\n",
      "move disk 3 from T3 to T1\n",
      "move disk 1 from T2 to T3\n",
      "move disk 2 from T2 to T1\n",
      "move disk 1 from T3 to T1\n",
      "move disk 4 from T3 to T2\n",
      "move disk 1 from T1 to T2\n",
      "move disk 2 from T1 to T3\n",
      "move disk 1 from T2 to T3\n",
      "move disk 3 from T1 to T2\n",
      "move disk 1 from T3 to T1\n",
      "move disk 2 from T3 to T2\n",
      "move disk 1 from T1 to T2\n"
     ]
    }
   ],
   "source": [
    "def r_27(disk,from_,to,extra):\n",
    "    if disk == 1:\n",
    "        print(f\"move disk {disk} from {from_} to {to}\")\n",
    "        return\n",
    "    r_27(disk-1,from_,extra,to)\n",
    "    print(f\"move disk {disk} from {from_} to {to}\")\n",
    "    r_27(disk-1,extra,to,from_)\n",
    "    return\n",
    "r_27(7,\"T1\",\"T2\",\"T3\")\n"
   ]
  }
 ],
 "metadata": {
  "kernelspec": {
   "display_name": "Python 3",
   "language": "python",
   "name": "python3"
  },
  "language_info": {
   "codemirror_mode": {
    "name": "ipython",
    "version": 3
   },
   "file_extension": ".py",
   "mimetype": "text/x-python",
   "name": "python",
   "nbconvert_exporter": "python",
   "pygments_lexer": "ipython3",
   "version": "3.11.4"
  }
 },
 "nbformat": 4,
 "nbformat_minor": 2
}
